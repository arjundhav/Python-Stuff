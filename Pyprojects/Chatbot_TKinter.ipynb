{
 "cells": [
  {
   "cell_type": "code",
   "execution_count": 1,
   "metadata": {},
   "outputs": [],
   "source": [
    "from tkinter import *\n",
    "root=Tk()\n",
    "def send():\n",
    "    send=\"you:\"+a.get()\n",
    "    text.insert(END,\"\\n\"+send)\n",
    "    if(a.get()=='hi'):\n",
    "        text.insert(END,\"\\n\" + \"Bot:hello\")\n",
    "    elif(a.get()=='hello'):\n",
    "        text.insert(END,\"\\n\"+ \"Bot:hi\")\n",
    "    elif(a.get()=='How are you?'):\n",
    "        text.insert(END,\"\\n\"+ \"Bot:I am fine. How are you?\")\n",
    "    elif(a.get()=='I am fine'):\n",
    "        text.insert(END,\"\\n\"+ \"Bot:Nice to hear that\")\n",
    "    else:\n",
    "        text.insert(END,\"\\n\"+ \"Bot:I didn't get it \")\n",
    "text=Text(root,bg='white')\n",
    "text.grid(row=0,column=0,columnspan=2)\n",
    "a=Entry(root,width=80)\n",
    "send=Button(root,text='Send',bg='white',width=20,command=send).grid(row=1,column=1)\n",
    "a.grid(row=1,column=0)\n",
    "root.title('simple chatbot')\n",
    "root.mainloop()\n",
    "        "
   ]
  },
  {
   "cell_type": "code",
   "execution_count": null,
   "metadata": {},
   "outputs": [],
   "source": []
  }
 ],
 "metadata": {
  "kernelspec": {
   "display_name": "Python 3",
   "language": "python",
   "name": "python3"
  },
  "language_info": {
   "codemirror_mode": {
    "name": "ipython",
    "version": 3
   },
   "file_extension": ".py",
   "mimetype": "text/x-python",
   "name": "python",
   "nbconvert_exporter": "python",
   "pygments_lexer": "ipython3",
   "version": "3.6.5"
  }
 },
 "nbformat": 4,
 "nbformat_minor": 2
}
