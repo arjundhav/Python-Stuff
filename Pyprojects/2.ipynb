{
 "cells": [
  {
   "cell_type": "code",
   "execution_count": null,
   "metadata": {},
   "outputs": [],
   "source": [
    "import time \n",
    "from time import sleep \n",
    "from sinchsms import SinchSMS \n",
    "  \n",
    "# function for sending SMS \n",
    "def sendSMS(): \n",
    "  \n",
    "    # enter all the details \n",
    "    # get app_key and app_secret by registering \n",
    "    # a app on sinchSMS \n",
    "    number = 'your_mobile_number'\n",
    "    app_key = 'your_app_key'\n",
    "    app_secret = 'your_app_secret'\n",
    "  \n",
    "    # enter the message to be sent \n",
    "    message = 'Hello Message!!!'\n",
    "  \n",
    "    client = SinchSMS(app_key, app_secret) \n",
    "    print(\"Sending '%s' to %s\" % (message, number)) \n",
    "  \n",
    "    response = client.send_message(number, message) \n",
    "    message_id = response['messageId'] \n",
    "    response = client.check_status(message_id) \n",
    "  \n",
    "    # keep trying unless the status retured is Successful \n",
    "    while response['status'] != 'Successful': \n",
    "        print(response['status']) \n",
    "        time.sleep(1) \n",
    "        response = client.check_status(message_id) \n",
    "  \n",
    "    print(response['status']) \n",
    "  \n",
    "if __name__ == \"__main__\": \n",
    "    sendSMS() "
   ]
  }
 ],
 "metadata": {
  "kernelspec": {
   "display_name": "Python 3",
   "language": "python",
   "name": "python3"
  },
  "language_info": {
   "codemirror_mode": {
    "name": "ipython",
    "version": 3
   },
   "file_extension": ".py",
   "mimetype": "text/x-python",
   "name": "python",
   "nbconvert_exporter": "python",
   "pygments_lexer": "ipython3",
   "version": "3.6.5"
  }
 },
 "nbformat": 4,
 "nbformat_minor": 2
}
