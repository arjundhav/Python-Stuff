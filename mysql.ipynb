{
 "cells": [
  {
   "cell_type": "code",
   "execution_count": 18,
   "metadata": {},
   "outputs": [
    {
     "name": "stdout",
     "output_type": "stream",
     "text": [
      "<mysql.connector.connection.MySQLConnection object at 0x0000007E53530908>\n"
     ]
    }
   ],
   "source": [
    "import mysql.connector  \n",
    "  \n",
    "con = mysql.connector.connect(host = \"localhost\", user=\"root\",passwd = \"tanmay\")  \n",
    "print(con)  "
   ]
  },
  {
   "cell_type": "code",
   "execution_count": 19,
   "metadata": {},
   "outputs": [
    {
     "name": "stdout",
     "output_type": "stream",
     "text": [
      "<mysql.connector.connection.MySQLConnection object at 0x0000007E53530D68>\n"
     ]
    }
   ],
   "source": [
    "import mysql.connector  \n",
    "  \n",
    "con=mysql.connector.connect(host = \"localhost\", user = \"root\",passwd = \"tanmay\",database=\"python\")  \n",
    "  \n",
    "#printing the connection object   \n",
    "print(con)   "
   ]
  },
  {
   "cell_type": "code",
   "execution_count": 20,
   "metadata": {},
   "outputs": [
    {
     "name": "stdout",
     "output_type": "stream",
     "text": [
      "<mysql.connector.connection.MySQLConnection object at 0x0000007E53530898>\n",
      "MySQLCursor: (Nothing executed yet)\n"
     ]
    }
   ],
   "source": [
    "import mysql.connector  \n",
    "\n",
    "con=mysql.connector.connect(host = \"localhost\", user = \"root\",passwd = \"tanmay\")  \n",
    "print(con)   \n",
    "  \n",
    "cur = con.cursor()    \n",
    "print(cur)  \n"
   ]
  },
  {
   "cell_type": "code",
   "execution_count": 21,
   "metadata": {},
   "outputs": [
    {
     "name": "stdout",
     "output_type": "stream",
     "text": [
      "('information_schema',)\n",
      "('mysql',)\n",
      "('performance_schema',)\n",
      "('python',)\n",
      "('pythonprogrammers',)\n",
      "('school',)\n",
      "('sys',)\n"
     ]
    }
   ],
   "source": [
    "import mysql.connector  \n",
    "  \n",
    "con= mysql.connector.connect(host = \"localhost\", user = \"root\",passwd = \"tanmay\")  \n",
    "cur = con.cursor()  \n",
    "  \n",
    "try:  \n",
    "    dbs = cur.execute(\"show databases\")  \n",
    "except:  \n",
    "    con.rollback()  \n",
    "for x in cur:  \n",
    "    print(x)  \n",
    "con.close()  "
   ]
  },
  {
   "cell_type": "code",
   "execution_count": 17,
   "metadata": {},
   "outputs": [],
   "source": [
    "import mysql.connector  \n",
    "  \n",
    "con = mysql.connector.connect(host = \"localhost\", user = \"root\",passwd = \"tanmay\")\n",
    "cur = con.cursor()  \n",
    "  \n",
    "try:  \n",
    "    #creating a new database  \n",
    "    cur.execute(\"create database python\")  \n",
    "  \n",
    "    dbs = cur.execute(\"show databases\")  \n",
    "      \n",
    "except:  \n",
    "    con.rollback()  \n",
    "  \n",
    "for x in cur:  \n",
    "        print(x)  \n",
    "          \n",
    "con.close()"
   ]
  },
  {
   "cell_type": "code",
   "execution_count": null,
   "metadata": {},
   "outputs": [],
   "source": [
    "import mysql.connector  \n",
    "  \n",
    "#Create the connection object   \n",
    "myconn = mysql.connector.connect(host = \"localhost\", user = \"root\",passwd = \"tanmay\",database = \"python1\")  \n",
    "  \n",
    "#creating the cursor object  \n",
    "cur = myconn.cursor()  \n",
    "  \n",
    "try:  \n",
    "    #Reading the Employee data      \n",
    "    cur.execute(\"select * from Employee\")  \n",
    "  \n",
    "    #fetching the rows from the cursor object  \n",
    "    result = cur.fetchall()  \n",
    "    #printing the result  \n",
    "      \n",
    "    for x in result:  \n",
    "        print(x);  \n",
    "except:  \n",
    "    myconn.rollback()  \n",
    "  \n",
    "myconn.close()  "
   ]
  },
  {
   "cell_type": "code",
   "execution_count": 12,
   "metadata": {},
   "outputs": [],
   "source": [
    "import mysql.connector  \n",
    "  \n",
    "#Create the connection object   \n",
    "myconn = mysql.connector.connect(host = \"localhost\", user = \"root\",passwd = \"tanmay\",database = \"python1\")  \n",
    "  \n",
    "#creating the cursor object  \n",
    "cur = myconn.cursor()  \n",
    "  \n",
    "try:  \n",
    "    #adding a column branch name to the table Employee  \n",
    "    cur.execute(\"alter table Employee add branch_name varchar(20) not null\")  \n",
    "except:  \n",
    "    myconn.rollback()  \n",
    "  \n",
    "myconn.close()  "
   ]
  },
  {
   "cell_type": "code",
   "execution_count": 13,
   "metadata": {},
   "outputs": [
    {
     "name": "stdout",
     "output_type": "stream",
     "text": [
      "1 record inserted!\n"
     ]
    }
   ],
   "source": [
    "import mysql.connector  \n",
    "#Create the connection object   \n",
    "myconn = mysql.connector.connect(host = \"localhost\", user = \"root\",passwd = \"tanmay\",database = \"python1\")  \n",
    "#creating the cursor object  \n",
    "cur = myconn.cursor()  \n",
    "sql = \"insert into Employee(name, id, salary, dept_id, branch_name) values (%s, %s, %s, %s, %s)\"  \n",
    "  \n",
    "#The row values are provided in the form of tuple   \n",
    "val = (\"John\", 110, 25000.00, 201, \"Newyork\")  \n",
    "  \n",
    "try:  \n",
    "    #inserting the values into the table  \n",
    "    cur.execute(sql,val)  \n",
    "  \n",
    "    #commit the transaction   \n",
    "    myconn.commit()  \n",
    "      \n",
    "except:  \n",
    "    myconn.rollback()  \n",
    "  \n",
    "print(cur.rowcount,\"record inserted!\")  \n",
    "myconn.close()  "
   ]
  },
  {
   "cell_type": "code",
   "execution_count": null,
   "metadata": {},
   "outputs": [],
   "source": [
    "import mysql.connector  \n",
    "  \n",
    "#Create the connection object   \n",
    "myconn = mysql.connector.connect(host = \"localhost\", user = \"root\",passwd = \"tanmay\",database = \"python1\")  \n",
    "  \n",
    "#creating the cursor object  \n",
    "cur = myconn.cursor()  \n",
    "  \n",
    "try:  \n",
    "    #Reading the Employee data      \n",
    "    cur.execute(\"select * from Employee\")  \n",
    "  \n",
    "    #fetching the rows from the cursor object  \n",
    "    result = cur.fetchall()  \n",
    "    #printing the result  \n",
    "      \n",
    "    for x in result:  \n",
    "        print(x);  \n",
    "except:  \n",
    "    myconn.rollback()  \n",
    "  \n",
    "myconn.close()  "
   ]
  },
  {
   "cell_type": "code",
   "execution_count": null,
   "metadata": {},
   "outputs": [],
   "source": [
    "import mysql.connector  \n",
    "  \n",
    "#Create the connection object   \n",
    "myconn = mysql.connector.connect(host = \"localhost\", user = \"root\",passwd = \"google\",database = \"PythonDB\")  \n",
    "  \n",
    "#creating the cursor object  \n",
    "cur = myconn.cursor()  \n",
    "  \n",
    "try:  \n",
    "    #updating the name of the employee whose id is 110  \n",
    "    cur.execute(\"update Employee set name = 'alex' where id = 110\")  \n",
    "    myconn.commit()  \n",
    "except:  \n",
    "      \n",
    "    myconn.rollback()  \n",
    "  \n",
    "myconn.close()  "
   ]
  }
 ],
 "metadata": {
  "kernelspec": {
   "display_name": "Python 3",
   "language": "python",
   "name": "python3"
  },
  "language_info": {
   "codemirror_mode": {
    "name": "ipython",
    "version": 3
   },
   "file_extension": ".py",
   "mimetype": "text/x-python",
   "name": "python",
   "nbconvert_exporter": "python",
   "pygments_lexer": "ipython3",
   "version": "3.6.5"
  }
 },
 "nbformat": 4,
 "nbformat_minor": 2
}
