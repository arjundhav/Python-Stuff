{
 "cells": [
  {
   "cell_type": "code",
   "execution_count": 1,
   "metadata": {},
   "outputs": [
    {
     "name": "stdout",
     "output_type": "stream",
     "text": [
      "{'Tanmay': '19', 'John': '18', 'Abhay': '19', 'Ben': '18'}\n"
     ]
    }
   ],
   "source": [
    "import re\n",
    "s1='''Tanmay is 19 and John is 18\n",
    "           Abhay is 19 and  Ben is 18 '''\n",
    "\n",
    "ages=re.findall(r'\\d{1,3}',s1)\n",
    "names=re.findall(r'[A-Z][a-z]*',s1)\n",
    "\n",
    "ageDict={}\n",
    "x=0\n",
    "\n",
    "for eachname in names:\n",
    "    ageDict[eachname]=ages[x]\n",
    "    x+=1\n",
    "print(ageDict)\n"
   ]
  },
  {
   "cell_type": "code",
   "execution_count": 2,
   "metadata": {},
   "outputs": [
    {
     "name": "stdout",
     "output_type": "stream",
     "text": [
      "python\n",
      "python\n"
     ]
    }
   ],
   "source": [
    "#1 finding a word in a string\n",
    "\n",
    "import re\n",
    "allinform=re.findall(\"python\",\"python is the best programming language and i love python\")\n",
    "\n",
    "for i in allinform:\n",
    "    print(i)"
   ]
  },
  {
   "cell_type": "code",
   "execution_count": 3,
   "metadata": {},
   "outputs": [
    {
     "name": "stdout",
     "output_type": "stream",
     "text": [
      "(11, 17)\n"
     ]
    }
   ],
   "source": [
    "#2 Generate an iterator\n",
    "\n",
    "import re\n",
    "s=\"Welcome to python.advance.projects\"\n",
    "\n",
    "for i in re.finditer(\"python\",s):\n",
    "    locTuple=i.span()\n",
    "    print(locTuple)\n",
    "#it will return the starting index and the ending index"
   ]
  },
  {
   "cell_type": "code",
   "execution_count": 4,
   "metadata": {},
   "outputs": [
    {
     "name": "stdout",
     "output_type": "stream",
     "text": [
      "(11, 17)\n"
     ]
    }
   ],
   "source": [
    "#2 Generate an iterator\n",
    "\n",
    "import re\n",
    "s=\"Welcome to python.advance.projects\"\n",
    "\n",
    "for i in re.finditer(\"python\",s):\n",
    "    locTuple=i.span()\n",
    "    print(locTuple)\n",
    "#it will return the starting index and the ending index"
   ]
  },
  {
   "cell_type": "code",
   "execution_count": 5,
   "metadata": {},
   "outputs": [
    {
     "name": "stdout",
     "output_type": "stream",
     "text": [
      "Invalid Email\n",
      "Valid Email\n"
     ]
    }
   ],
   "source": [
    "import re \n",
    "\n",
    "regex = '^\\w+([\\.-]?\\w+)*@\\w+([\\.-]?\\w+)*(\\.\\w{2,3})+$'      \n",
    "def validate(email):  \n",
    "  \n",
    "    if(re.search(regex,email)):  \n",
    "        print(\"Valid Email\")  \n",
    "          \n",
    "    else:  \n",
    "        print(\"Invalid Email\")  \n",
    "      \n",
    "if __name__ == '__main__' :  \n",
    "      \n",
    "    email = \"12@.com\"\n",
    "    validate(email) \n",
    "  \n",
    "    email = \"pythonprojects@gmail.com\"\n",
    "    validate(email) "
   ]
  },
  {
   "cell_type": "code",
   "execution_count": null,
   "metadata": {},
   "outputs": [],
   "source": []
  }
 ],
 "metadata": {
  "kernelspec": {
   "display_name": "Python 3",
   "language": "python",
   "name": "python3"
  },
  "language_info": {
   "codemirror_mode": {
    "name": "ipython",
    "version": 3
   },
   "file_extension": ".py",
   "mimetype": "text/x-python",
   "name": "python",
   "nbconvert_exporter": "python",
   "pygments_lexer": "ipython3",
   "version": "3.6.5"
  }
 },
 "nbformat": 4,
 "nbformat_minor": 2
}
