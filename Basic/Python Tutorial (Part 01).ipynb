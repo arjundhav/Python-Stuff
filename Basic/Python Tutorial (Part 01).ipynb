{
 "cells": [
  {
   "cell_type": "markdown",
   "metadata": {},
   "source": [
    "# Python Tutorial Part 1\n",
    "\n",
    "By following this tutorial you will be able to learn the Python Programming basics. I will guide you from very basic to to the deepest programming concepts in python. Some parts of tutorial are taken from Python tutorial available at [tutorialspoint](https://www.tutorialspoint.com/python3/index.htm)\n",
    "\n",
    "## But what is a Programming Language\n",
    "\n",
    "A programming language is a formal language, which comprises a set of instructions that produce various kinds of output. Programming languages are used in computer programming to implement algorithms.\n",
    "\n",
    "<img src=\"files/2 Programming.png\">\n",
    "\n",
    "## Introduction to Python\n",
    "\n",
    "Python is a general-purpose interpreted, interactive, object-oriented, and high-level programming language. It was created by Guido van Rossum during 1985- 1990\n",
    "\n",
    "## Why Python ?\n",
    "\n",
    "<b>Interpreted</b> − Python is processed at runtime by the interpreter. You do not need to compile your program before executing it. This is similar to PERL and PHP.\n",
    "\n",
    "<b>Interactive</b> − You can actually sit at a Python prompt and interact with the interpreter directly to write your programs.\n",
    "\n",
    "<b>Object-Oriented</b> − Python supports Object-Oriented style or technique of programming that encapsulates code within objects.\n",
    "\n",
    "<b>Beginner's Language</b> − Python is a great language for the beginner-level programmers and supports the development of a wide range of applications from simple text processing to WWW browsers to games.\n",
    "\n",
    "## Where we can use Python?\n",
    "\n",
    "1. Data Science, Artificial Intelligence, Machine Learning\n",
    "2. Image Processing\n",
    "3. Robot-Operating-Systems (ROS)\n",
    "4. Web frameworks"
   ]
  },
  {
   "cell_type": "markdown",
   "metadata": {},
   "source": [
    "### 1.1 Python variables \n",
    "\n",
    "Variables are nothing but reserved memory locations to store values. This means that when you create a variable you reserve some space in memory.Python variables do not need explicit declaration to reserve memory space. The declaration happens automatically when you assign a value to a variable.\n",
    "\n",
    "#### Standard Data Types\n",
    "The data stored in memory can be of many types. For example, a person's age is stored as a numeric value and his or her address is stored as alphanumeric characters. Python has various standard data types that are used to define the operations possible on them and the storage method for each of them.\n",
    "\n",
    "Python has five standard data types −\n",
    "\n",
    "1. Numbers\n",
    "2. String\n",
    "3. List\n",
    "4. Tuple\n",
    "5. Dictionary\n",
    "\n",
    "\n",
    "#### Python Identifiers\n",
    "A Python identifier is a name used to identify a variable, function, class, module or other object. An identifier starts with a letter A to Z or a to z or an underscore (_) followed by zero or more letters, underscores and digits (0 to 9).\n",
    "\n",
    "Python does not allow punctuation characters such as @, $, and % within identifiers. Python is a case sensitive programming language. Thus, Manpower and manpower are two different identifiers in Python.\n",
    "\n",
    "#### Reserved Words\n",
    "The following list shows the Python keywords. These are reserved words and you cannot use them as constants or variables or any other identifier names. All the Python keywords contain lowercase letters only.\n",
    "\n",
    "<img src=\"files/keywords.png\">"
   ]
  },
  {
   "cell_type": "code",
   "execution_count": 3,
   "metadata": {},
   "outputs": [
    {
     "name": "stdout",
     "output_type": "stream",
     "text": [
      "20\n",
      "20.5\n"
     ]
    }
   ],
   "source": [
    "a=20\n",
    "b=20.5\n",
    "c='X'\n",
    "d='Hello World'\n",
    "\n",
    "print(a)   \n",
    "print(b) "
   ]
  },
  {
   "cell_type": "code",
   "execution_count": 4,
   "metadata": {},
   "outputs": [
    {
     "name": "stdout",
     "output_type": "stream",
     "text": [
      "20 20.5 X Hello World\n"
     ]
    }
   ],
   "source": [
    "print(a,b,c,d)"
   ]
  },
  {
   "cell_type": "code",
   "execution_count": 5,
   "metadata": {},
   "outputs": [
    {
     "name": "stdout",
     "output_type": "stream",
     "text": [
      "1 1 1\n"
     ]
    }
   ],
   "source": [
    "a = b = c = 1\n",
    "print(a,b,c)"
   ]
  },
  {
   "cell_type": "code",
   "execution_count": 4,
   "metadata": {},
   "outputs": [
    {
     "name": "stdout",
     "output_type": "stream",
     "text": [
      "1 2 john\n"
     ]
    }
   ],
   "source": [
    "a,b,c = 1,2,\"john\"\n",
    "print(a,b,c)"
   ]
  },
  {
   "cell_type": "markdown",
   "metadata": {},
   "source": [
    "### 1.2 Python Strings\n",
    "Strings in Python are identified as a contiguous set of characters represented in the quotation marks. Python allows for either pairs of single or double quotes.\n",
    "<img src=\"files/1 Str.png\">"
   ]
  },
  {
   "cell_type": "code",
   "execution_count": 5,
   "metadata": {},
   "outputs": [
    {
     "name": "stdout",
     "output_type": "stream",
     "text": [
      "Hello World!\n",
      "H\n",
      "llo\n",
      "llo World!\n",
      "Hello World!Hello World!\n",
      "Hello World!TEST\n"
     ]
    }
   ],
   "source": [
    "myStr = 'Hello World!'\n",
    "\n",
    "print(myStr)          # Prints complete string\n",
    "print(myStr[0])       # Prints first character of the string\n",
    "print(myStr[2:5])     # Prints characters starting from 3rd to 5th\n",
    "print(myStr[2:])      # Prints string starting from 3rd character\n",
    "print(myStr * 2 )     # Prints string two times\n",
    "print(myStr + \"TEST\") # Prints concatenated string"
   ]
  },
  {
   "cell_type": "markdown",
   "metadata": {},
   "source": [
    "### 1.3 Python Input\n",
    "\n",
    "Python  ```input() ``` function returns the user keyboard input as a string. You can use the ```eval()``` function to convert it into the desired data type"
   ]
  },
  {
   "cell_type": "code",
   "execution_count": 6,
   "metadata": {},
   "outputs": [
    {
     "name": "stdout",
     "output_type": "stream",
     "text": [
      "10\n",
      "x: 10\n"
     ]
    }
   ],
   "source": [
    "x=input()\n",
    "print('x:',x)"
   ]
  },
  {
   "cell_type": "code",
   "execution_count": 7,
   "metadata": {},
   "outputs": [
    {
     "name": "stdout",
     "output_type": "stream",
     "text": [
      "Enter a value for x:20\n",
      "x: 20\n"
     ]
    }
   ],
   "source": [
    "x=input('Enter a value for x:')\n",
    "print('x:',x)"
   ]
  },
  {
   "cell_type": "code",
   "execution_count": 8,
   "metadata": {},
   "outputs": [
    {
     "name": "stdout",
     "output_type": "stream",
     "text": [
      "Enter a value for x:10\n",
      "Enter a value for y:20\n",
      "x+y: 1020\n"
     ]
    }
   ],
   "source": [
    "x=input('Enter a value for x:')\n",
    "y=input('Enter a value for y:')\n",
    "print('x+y:',x+y)"
   ]
  },
  {
   "cell_type": "code",
   "execution_count": 9,
   "metadata": {},
   "outputs": [
    {
     "name": "stdout",
     "output_type": "stream",
     "text": [
      "Enter a value for x:10\n",
      "Enter a value for y:20.5\n",
      "x+y: 30.5\n"
     ]
    }
   ],
   "source": [
    "x=eval(input('Enter a value for x:'))\n",
    "y=eval(input('Enter a value for y:'))\n",
    "print('x+y:',x+y)"
   ]
  },
  {
   "cell_type": "markdown",
   "metadata": {},
   "source": [
    "## QUIZ 01 \n",
    "\n",
    "Write a Python Program to take 2 input from the user to two variables called ```value1``` and ```value2``` and print there addition, substraction, multiplication, division, modulus and exponent.\n",
    "\n",
    "Hint: Read more about [Python Arithmetic Operators here](tutorialspoint.com/python3/python_basic_operators.htm)"
   ]
  },
  {
   "cell_type": "code",
   "execution_count": 10,
   "metadata": {},
   "outputs": [
    {
     "name": "stdout",
     "output_type": "stream",
     "text": [
      "Enter value1:10\n",
      "Enter value1:2\n",
      "Addition: 12\n",
      "Substraction: 8\n",
      "Mult: 20\n",
      "Div: 5.0\n",
      "Mod: 0\n",
      "Expnt: 100\n"
     ]
    }
   ],
   "source": [
    "value1=eval(input('Enter value1:'))\n",
    "value2=eval(input('Enter value1:'))\n",
    "\n",
    "print('Addition:',value1+value2)\n",
    "print('Substraction:',value1-value2)\n",
    "print('Mult:',value1*value2)\n",
    "print('Div:',value1/value2)\n",
    "print('Mod:',value1%value2)\n",
    "print('Expnt:',value1**value2)"
   ]
  },
  {
   "cell_type": "code",
   "execution_count": null,
   "metadata": {},
   "outputs": [],
   "source": []
  }
 ],
 "metadata": {
  "kernelspec": {
   "display_name": "Python 3",
   "language": "python",
   "name": "python3"
  },
  "language_info": {
   "codemirror_mode": {
    "name": "ipython",
    "version": 3
   },
   "file_extension": ".py",
   "mimetype": "text/x-python",
   "name": "python",
   "nbconvert_exporter": "python",
   "pygments_lexer": "ipython3",
   "version": "3.7.4"
  }
 },
 "nbformat": 4,
 "nbformat_minor": 2
}
