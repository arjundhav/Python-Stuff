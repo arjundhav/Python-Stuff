{
 "cells": [
  {
   "cell_type": "markdown",
   "metadata": {
    "colab_type": "text",
    "id": "H40n_nD0p1a_"
   },
   "source": [
    "## Object Oriented Programming"
   ]
  },
  {
   "cell_type": "markdown",
   "metadata": {
    "colab_type": "text",
    "id": "AJEqxyM8p1bD"
   },
   "source": [
    "Object - A unique instance of a data structure that's defined by its class. An object comprises both data members (class variables and instance variables) and methods.\n",
    "\n",
    "Instance − An individual object of a certain class.\n",
    "\n",
    "Method − A special kind of function that is defined in a class definition."
   ]
  },
  {
   "cell_type": "markdown",
   "metadata": {
    "colab_type": "text",
    "id": "qqOw8xNQp1bG"
   },
   "source": [
    "The first argument of every class method, including init, is always a reference to the current instance of the class. By convention, this argument is always named self"
   ]
  },
  {
   "cell_type": "code",
   "execution_count": 1,
   "metadata": {
    "colab": {},
    "colab_type": "code",
    "id": "_R1JMDfAp1bL"
   },
   "outputs": [],
   "source": [
    "class car:\n",
    "    carCount = 0\n",
    "    def __init__(self, color, model):\n",
    "        self.color = color\n",
    "        self.model = model\n",
    "        car.carCount += 1\n",
    "\n",
    "    def displayCarCount(self):\n",
    "        print(\"Total count of cars are %d\"  % car.carCount)\n",
    "    \n",
    "    def showColorBrand(self):\n",
    "        print(\"The color and Brand of the car is \", \n",
    "              self.color, self.model)\n",
    "    "
   ]
  },
  {
   "cell_type": "markdown",
   "metadata": {
    "colab_type": "text",
    "id": "OWpDUSO0p1bX"
   },
   "source": [
    "carCount = Class Variable (This value shared across all functions).\n",
    "__init__ = first method which calls class constructor.\n",
    "color, model are the instance variable.\n",
    "showColor, showBrand are the python functions."
   ]
  },
  {
   "cell_type": "markdown",
   "metadata": {
    "colab_type": "text",
    "id": "mpJRwqhFp1bZ"
   },
   "source": [
    "### To Create a Instance object"
   ]
  },
  {
   "cell_type": "code",
   "execution_count": 2,
   "metadata": {
    "colab": {},
    "colab_type": "code",
    "id": "lbx-NaiLp1bb"
   },
   "outputs": [],
   "source": [
    "#First Object\n",
    "car1 = car(\"Red\", \"Ferrari\")\n",
    "\n",
    "#Second Object\n",
    "car2 = car(\"Black\", \"Lamborgani\")"
   ]
  },
  {
   "cell_type": "markdown",
   "metadata": {
    "colab_type": "text",
    "id": "krqGuTK6p1bz"
   },
   "source": [
    "### To Access Attributes"
   ]
  },
  {
   "cell_type": "code",
   "execution_count": 3,
   "metadata": {
    "colab": {},
    "colab_type": "code",
    "id": "db2nc7mXp1b1",
    "outputId": "3ecdaa24-2ec8-477d-f9c6-2ad448063bb6"
   },
   "outputs": [
    {
     "name": "stdout",
     "output_type": "stream",
     "text": [
      "The color and Brand of the car is  Red Ferrari\n",
      "Total count of cars are 2\n"
     ]
    }
   ],
   "source": [
    "car1.showColorBrand()\n",
    "car2.displayCarCount()"
   ]
  },
  {
   "cell_type": "markdown",
   "metadata": {
    "colab_type": "text",
    "id": "4Qfu4ordp1cD"
   },
   "source": [
    "### Otherways to access attributes\n",
    "\n",
    "The getattr(obj, name[, default]) − to access the attribute of object.\n",
    "\n",
    "The hasattr(obj,name) − to check if an attribute exists or not.\n",
    "\n",
    "The setattr(obj,name,value) − to set an attribute. If attribute does not exist, then it would be created.\n",
    "\n",
    "The delattr(obj, name) − to delete an attribute."
   ]
  },
  {
   "cell_type": "code",
   "execution_count": 4,
   "metadata": {
    "colab": {},
    "colab_type": "code",
    "id": "MJCsN3XOp1cE",
    "outputId": "5e3e88ac-acd8-4198-8338-25d6366b2fff"
   },
   "outputs": [
    {
     "data": {
      "text/plain": [
       "'Red'"
      ]
     },
     "execution_count": 4,
     "metadata": {},
     "output_type": "execute_result"
    }
   ],
   "source": [
    "getattr(car1, 'color')"
   ]
  },
  {
   "cell_type": "code",
   "execution_count": 5,
   "metadata": {
    "colab": {},
    "colab_type": "code",
    "id": "ip51OFugp1cK",
    "outputId": "46739ac4-832c-48d1-c8df-14635288a31a"
   },
   "outputs": [
    {
     "data": {
      "text/plain": [
       "True"
      ]
     },
     "execution_count": 5,
     "metadata": {},
     "output_type": "execute_result"
    }
   ],
   "source": [
    "hasattr(car1, 'model')"
   ]
  },
  {
   "cell_type": "code",
   "execution_count": 8,
   "metadata": {
    "colab": {},
    "colab_type": "code",
    "id": "kz-8w1bQp1cQ"
   },
   "outputs": [],
   "source": [
    "setattr(car1, 'color', 'RED')"
   ]
  },
  {
   "cell_type": "code",
   "execution_count": 9,
   "metadata": {
    "colab": {},
    "colab_type": "code",
    "id": "rgwdOV95p1cV"
   },
   "outputs": [],
   "source": [
    "delattr(car1, 'color')"
   ]
  },
  {
   "cell_type": "markdown",
   "metadata": {
    "colab_type": "text",
    "id": "GyQeweKBp1cZ"
   },
   "source": [
    "### Destroying objects\n",
    "Python deletes unneeded objects (built-in types or class instances) automatically to free the memory space.\n",
    "__del__(), called a destructor, that is invoked when the instance is about to be destroyed. This method might be used to clean up any non memory resources used by an instance.\n",
    "\n",
    "This __del__() destructor prints the class name of an instance that is about to be destroyed −"
   ]
  },
  {
   "cell_type": "code",
   "execution_count": 10,
   "metadata": {
    "colab": {},
    "colab_type": "code",
    "id": "tIVmLAQGp1ca"
   },
   "outputs": [],
   "source": [
    "class Greeting:\n",
    "    def __init__(self, name):\n",
    "        self.name = name\n",
    "    def __del__(self):\n",
    "        print(\"Greeting Destructor started\", )\n",
    "    def SayHello(self):\n",
    "        print(\"Hello\", self.name)"
   ]
  },
  {
   "cell_type": "code",
   "execution_count": 11,
   "metadata": {
    "colab": {},
    "colab_type": "code",
    "id": "fxxrkPJRp1ce",
    "outputId": "ab16621e-6580-4338-fab8-feac1e0298de"
   },
   "outputs": [],
   "source": [
    "x1 = Greeting(\"Guido\")\n",
    "x2 = x1\n",
    "del x2"
   ]
  },
  {
   "cell_type": "markdown",
   "metadata": {
    "colab_type": "text",
    "id": "VWJY5WD0p1ck"
   },
   "source": [
    "If we use this class, we can see, the \"del\" doesn't directly call the __del__() method. It's apparent that the destructor is not called, when we delete x1. The reason is that del decrements the reference count for the object of x1 by one. Only if the reference count reaches zero, the destructor is called:"
   ]
  },
  {
   "cell_type": "markdown",
   "metadata": {
    "colab_type": "text",
    "id": "4bHI29azp1cl"
   },
   "source": [
    "## Class Inheritence"
   ]
  },
  {
   "cell_type": "markdown",
   "metadata": {
    "colab_type": "text",
    "id": "A_wDqKNvp1cm"
   },
   "source": [
    "Inheritence is a powerful feature in object oriented programming. It refers to define a new class with littile or no modification to an existing class\n",
    "\n",
    "    The New Class is called Child Class\n",
    "    One From which inherited is called Base or Parent Class\n",
    "This results the Re-Usability of code\n",
    "\n"
   ]
  },
  {
   "cell_type": "code",
   "execution_count": 12,
   "metadata": {
    "colab": {},
    "colab_type": "code",
    "id": "bu8hw-PKp1cn"
   },
   "outputs": [],
   "source": [
    "class vehicle:\n",
    "    def __init__(self, name, color, model):\n",
    "        self.name = name\n",
    "        self.color = color\n",
    "        self.model = model\n",
    "        \n",
    "    def getName(self):\n",
    "        print(self.name)\n",
    "        \n",
    "    def getColor(self):\n",
    "        print(self.name)\n",
    "        \n",
    "    def getModel(self):\n",
    "        print(self.model)"
   ]
  },
  {
   "cell_type": "code",
   "execution_count": 13,
   "metadata": {
    "colab": {},
    "colab_type": "code",
    "id": "a_9t1FOVp1cs"
   },
   "outputs": [],
   "source": [
    "class car(vehicle):\n",
    "    def __init__(self):\n",
    "        super().__init__(\"ferrari\", \"red\", \"GTC4\")\n",
    "        \n",
    "        \n",
    "    def getDescription(self):\n",
    "        print(self.name, self.color, self.model)"
   ]
  },
  {
   "cell_type": "code",
   "execution_count": 14,
   "metadata": {
    "colab": {},
    "colab_type": "code",
    "id": "2HruDForp1cw"
   },
   "outputs": [],
   "source": [
    "c = car()"
   ]
  },
  {
   "cell_type": "code",
   "execution_count": 15,
   "metadata": {
    "colab": {},
    "colab_type": "code",
    "id": "8eQYSpNOp1cz",
    "outputId": "bd4ba46e-16a6-4c50-e35a-42bfc21d4195"
   },
   "outputs": [
    {
     "name": "stdout",
     "output_type": "stream",
     "text": [
      "ferrari red GTC4\n"
     ]
    }
   ],
   "source": [
    "c.getDescription()"
   ]
  },
  {
   "cell_type": "code",
   "execution_count": 16,
   "metadata": {
    "colab": {},
    "colab_type": "code",
    "id": "_8iEJutsp1c6",
    "outputId": "26a89dc0-e15c-45be-d584-9cadf7357e10"
   },
   "outputs": [
    {
     "name": "stdout",
     "output_type": "stream",
     "text": [
      "ferrari\n"
     ]
    }
   ],
   "source": [
    "c.getName()"
   ]
  },
  {
   "cell_type": "code",
   "execution_count": 17,
   "metadata": {
    "colab": {},
    "colab_type": "code",
    "id": "zcFLYtA_p1c-"
   },
   "outputs": [],
   "source": [
    "class Polygon:\n",
    "    def __init__(self, no_of_sides):\n",
    "        self.n = no_of_sides\n",
    "        self.sides = [0 for i in range(no_of_sides)]\n",
    "        \n",
    "    def inputSides(self):\n",
    "        self.sides = [float\n",
    "                      (input(\"Enter Slide \" + \n",
    "                                  str(i+1)+ \" \")) \n",
    "                      for i in range(self.n)]\n",
    "        \n",
    "    def dispSides(self):\n",
    "        for i in range(self.n):\n",
    "            print(\"Side\", i+1,\"is\",self.sides[i])\n",
    "        "
   ]
  },
  {
   "cell_type": "markdown",
   "metadata": {
    "colab_type": "text",
    "id": "i_uq98_Cp1dB"
   },
   "source": [
    "This class has data attributes to store the number of sides, n and magnitude of each side as a list, sides.\n",
    "Method inputSides() takes in magnitude of each side and similarly, dispSides() will display these properly\n",
    "A triangle is a polygon with 3 sides. So, we can created a class called Triangle which inherits from Polygon. This makes all the attributes available in class Polygon readily available in Triangle. We don't need to define them again (code re-usability). Triangle is defined as follows."
   ]
  },
  {
   "cell_type": "code",
   "execution_count": 18,
   "metadata": {
    "colab": {},
    "colab_type": "code",
    "id": "sq8GynEEp1dC"
   },
   "outputs": [],
   "source": [
    "class Triangle(Polygon):\n",
    "    def __init__(self):\n",
    "        Polygon.__init__(self,3)\n",
    "        \n",
    "    def findArear(self):\n",
    "        a, b, c = self.sides\n",
    "        s = (a+b+c)/2\n",
    "        area = (s*(s-a)*(s-b)*(s-c)) ** 0.5\n",
    "        print('The Area of Triangle is %0.2f' %area)    "
   ]
  },
  {
   "cell_type": "code",
   "execution_count": 19,
   "metadata": {
    "colab": {},
    "colab_type": "code",
    "id": "K2qJo3Hwp1dE"
   },
   "outputs": [],
   "source": [
    "t = Triangle()"
   ]
  },
  {
   "cell_type": "code",
   "execution_count": 21,
   "metadata": {
    "colab": {},
    "colab_type": "code",
    "id": "vryxY4u0p1dH",
    "outputId": "661487d4-45e6-4018-e494-6849cb628db1"
   },
   "outputs": [],
   "source": [
    "t.inputSides()"
   ]
  },
  {
   "cell_type": "code",
   "execution_count": 22,
   "metadata": {
    "colab": {},
    "colab_type": "code",
    "id": "DTfb7AYZp1dK",
    "outputId": "e82453e6-f7cd-49be-cf2b-345df82a9a93"
   },
   "outputs": [
    {
     "name": "stdout",
     "output_type": "stream",
     "text": [
      "Side 1 is 1.0\n",
      "Side 2 is 3.0\n",
      "Side 3 is 4.0\n"
     ]
    }
   ],
   "source": [
    "t.dispSides()"
   ]
  },
  {
   "cell_type": "code",
   "execution_count": 23,
   "metadata": {
    "colab": {},
    "colab_type": "code",
    "id": "wI60xBXdp1dO",
    "outputId": "137f8ad3-3392-49ef-acd8-844b70705e9e"
   },
   "outputs": [
    {
     "name": "stdout",
     "output_type": "stream",
     "text": [
      "Side 1 is 1.0\n",
      "Side 2 is 3.0\n",
      "Side 3 is 4.0\n"
     ]
    }
   ],
   "source": [
    "t.dispSides()"
   ]
  },
  {
   "cell_type": "code",
   "execution_count": 24,
   "metadata": {
    "colab": {},
    "colab_type": "code",
    "id": "RtB6DMp8p1dR",
    "outputId": "6ca3ba61-998c-4f04-a96b-66865c3fbf3c"
   },
   "outputs": [
    {
     "name": "stdout",
     "output_type": "stream",
     "text": [
      "The Area of Triangle is 0.00\n"
     ]
    }
   ],
   "source": [
    "t.findArear()"
   ]
  },
  {
   "cell_type": "code",
   "execution_count": 25,
   "metadata": {
    "colab": {},
    "colab_type": "code",
    "id": "YUMVum9dp1dV"
   },
   "outputs": [],
   "source": [
    "class Square(Polygon):\n",
    "    def __init__(self):\n",
    "        super().__init__(4)\n",
    "    \n",
    "    def findArea(self):\n",
    "        a, b, c, d = self.sides\n",
    "        s = (a + b + c + d)\n",
    "        area = s**2\n",
    "        print('The are of the Square is %0.2f' %area)\n",
    "        "
   ]
  },
  {
   "cell_type": "code",
   "execution_count": 26,
   "metadata": {
    "colab": {},
    "colab_type": "code",
    "id": "BRuSpywYp1dX"
   },
   "outputs": [],
   "source": [
    "p = Square()"
   ]
  },
  {
   "cell_type": "code",
   "execution_count": 31,
   "metadata": {
    "colab": {},
    "colab_type": "code",
    "id": "LmU6nCG9p1db",
    "outputId": "bf060e0f-e43c-400e-d773-3f741812cf65"
   },
   "outputs": [],
   "source": [
    "p.inputSides()"
   ]
  },
  {
   "cell_type": "code",
   "execution_count": 32,
   "metadata": {
    "colab": {},
    "colab_type": "code",
    "id": "vXoKreXTp1dl",
    "outputId": "f17c0012-127c-45c4-cee6-62eca4b05030"
   },
   "outputs": [
    {
     "name": "stdout",
     "output_type": "stream",
     "text": [
      "Side 1 is 1.0\n",
      "Side 2 is 2.0\n",
      "Side 3 is 3.0\n",
      "Side 4 is 4.0\n"
     ]
    }
   ],
   "source": [
    "p.dispSides()"
   ]
  },
  {
   "cell_type": "code",
   "execution_count": 33,
   "metadata": {
    "colab": {},
    "colab_type": "code",
    "id": "GBmpAKO6p1dv",
    "outputId": "907438d5-a9f5-4e72-fb77-6c9062bd857a"
   },
   "outputs": [
    {
     "name": "stdout",
     "output_type": "stream",
     "text": [
      "The are of the Square is 100.00\n"
     ]
    }
   ],
   "source": [
    "p.findArea()"
   ]
  },
  {
   "cell_type": "markdown",
   "metadata": {
    "colab_type": "text",
    "id": "7KYgGMvxp1d8"
   },
   "source": [
    "## Python Encapsulation"
   ]
  },
  {
   "cell_type": "markdown",
   "metadata": {
    "colab_type": "text",
    "id": "HSkny4r5p1d8"
   },
   "source": [
    "Encapsulation is one of the fundamentals of OOP (object-oriented programming). It refers to the bundling of data with the methods that operate on that data. Encapsulation is used to hide the values or state of a structured data object inside a class, preventing unauthorized parties' direct access to them."
   ]
  },
  {
   "cell_type": "code",
   "execution_count": 34,
   "metadata": {
    "colab": {},
    "colab_type": "code",
    "id": "CKBz8z5Jp1d_"
   },
   "outputs": [],
   "source": [
    "class bankAccount:\n",
    "    # Every new instance of bankAccount created must have a name, \n",
    "    #accountNumber and balance\n",
    "    # The __init__ method is a special method in python which \n",
    "    #is invoked when the new instance is created\n",
    "    # The self argument is a reference to that particular \n",
    "    #instance and it is important when invoking any method\n",
    "    def __init__(self, name, accountNumber, balance):\n",
    "        # Here we set the name property of this \n",
    "        #instance as the argument passed\n",
    "        #Here we defined name and accountNumber \n",
    "        #as public property\n",
    "        self.name = name\n",
    "        self.accountNumber = accountNumber\n",
    "        #balance is the private property and it \n",
    "        #can only accesable by members\n",
    "        self.__balance = balance\n",
    "        \n",
    "        #The method to access the private property __balance\n",
    "    def getBalance(self):\n",
    "        return self.__balance\n",
    "        \n",
    "#Lets create a new instance of bank account with its name, \n",
    "#account number and balance\n",
    "myAccount = bankAccount(\"Robert\", 123456, 2000)"
   ]
  },
  {
   "cell_type": "code",
   "execution_count": 35,
   "metadata": {
    "colab": {},
    "colab_type": "code",
    "id": "5OLT1kXHp1eC",
    "outputId": "f10a03ac-a5aa-43c9-f399-0da9c77eb7f4"
   },
   "outputs": [
    {
     "name": "stdout",
     "output_type": "stream",
     "text": [
      "Robert\n"
     ]
    }
   ],
   "source": [
    "#print out the name of the account holder\n",
    "print(myAccount.name)"
   ]
  },
  {
   "cell_type": "code",
   "execution_count": 36,
   "metadata": {
    "colab": {},
    "colab_type": "code",
    "id": "p14yTEmop1eG",
    "outputId": "fd3c17cf-1746-4975-a179-83c15492e1d4"
   },
   "outputs": [
    {
     "name": "stdout",
     "output_type": "stream",
     "text": [
      "123456\n"
     ]
    }
   ],
   "source": [
    "#print out the Account number\n",
    "print(myAccount.accountNumber)"
   ]
  },
  {
   "cell_type": "code",
   "execution_count": null,
   "metadata": {
    "colab": {},
    "colab_type": "code",
    "id": "Tz6Cyz2fp1eJ",
    "outputId": "34acb800-5595-4069-8841-a6964136a513"
   },
   "outputs": [],
   "source": [
    "# print myAccount.__balance Gives and error \n",
    "#since __balance is private\n",
    "print(myAccount.__balance)"
   ]
  },
  {
   "cell_type": "code",
   "execution_count": 38,
   "metadata": {
    "colab": {},
    "colab_type": "code",
    "id": "lQ1kNqn4p1eL",
    "outputId": "6069b16a-989f-4756-e950-be5d27428e5b"
   },
   "outputs": [
    {
     "name": "stdout",
     "output_type": "stream",
     "text": [
      "2000\n"
     ]
    }
   ],
   "source": [
    "# Now let is try to get the balance which was private \n",
    "#but now accessible\n",
    "# from a method (getBalance) within its own class\n",
    "\n",
    "print(myAccount.getBalance())"
   ]
  },
  {
   "cell_type": "markdown",
   "metadata": {
    "colab_type": "text",
    "id": "u5D44zXyp1eO"
   },
   "source": [
    "## Polymorphism\n",
    "\n",
    "Polymorphism is the ability of an object to take on many forms. The most common use of polymorphism in OOP occurs when a parent class reference is used to refer to a child class object\n",
    "\n",
    "Polymorphism simply means that we can call the same method name with parameters and depending on the parameters it will do different things"
   ]
  },
  {
   "cell_type": "code",
   "execution_count": 39,
   "metadata": {
    "colab": {},
    "colab_type": "code",
    "id": "6alvUyEhp1eQ",
    "outputId": "9662e69b-5f68-434f-ee31-ade2e186dea1"
   },
   "outputs": [
    {
     "name": "stdout",
     "output_type": "stream",
     "text": [
      "Missy:Meow\n",
      "Mr.Joy:Meow\n",
      "Lassie:Bow!Bow!Bow\n"
     ]
    }
   ],
   "source": [
    "class animal:\n",
    "    def __init__(self, name):\n",
    "        self.name = name\n",
    "        \n",
    "    def talk(self):\n",
    "        raise NotImplementedError(\"Doesen't Have idea\")\n",
    "class cat(animal):\n",
    "    def talk(self):\n",
    "        return 'Meow'\n",
    "    \n",
    "class dog(animal):\n",
    "    def talk(self):\n",
    "        return 'Bow!Bow!Bow'\n",
    "    \n",
    "animal=[cat('Missy'),\n",
    "        cat('Mr.Joy'),\n",
    "        dog('Lassie')]\n",
    "\n",
    "for animals in animal:\n",
    "    print(animals.name + ':' + animals.talk())"
   ]
  },
  {
   "cell_type": "markdown",
   "metadata": {
    "colab_type": "text",
    "id": "JFA5g_pjp1eT"
   },
   "source": [
    "Notice the following: all animals \"talk\", but they talk differently. The \"talk\" behaviour is thus polymorphic in the sense that it is realized differently depending on the animal. So, the abstract \"animal\" concept does not actually \"talk\", but specific animals (like dogs and cats) have a concrete implementation of the action \"talk\"."
   ]
  },
  {
   "cell_type": "markdown",
   "metadata": {
    "colab_type": "text",
    "id": "hZgDFfJap1eT"
   },
   "source": [
    "A More complicated example to consider would be to think about creating a method called play() to an audio file\n",
    "\n",
    "A Media Player will be needed to load the AudioFile Object\n",
    "\n",
    "The Instruction to load the file might be simple as\n",
    "\n",
    "audio_file.play()"
   ]
  },
  {
   "cell_type": "code",
   "execution_count": 40,
   "metadata": {
    "colab": {},
    "colab_type": "code",
    "id": "YXbjXDZ-p1eU"
   },
   "outputs": [],
   "source": [
    "class AudioFile:\n",
    "    def __init__(self, filename):\n",
    "        if not filename.endswith(self.ext):\n",
    "            #Then\n",
    "            raise Exception(\"Invalid Format\")\n",
    "        else:\n",
    "            self.filename = filename"
   ]
  },
  {
   "cell_type": "markdown",
   "metadata": {
    "colab_type": "text",
    "id": "esF9oU8_p1eW"
   },
   "source": [
    "How ever different audio files use different compression algorithms(eg.. mp3, .wma, .ogg) and some aren't stored as compress at all(eg.wav)\n",
    "We can use the inheritence with polymorphism to simplyfy the design. Each File type represented as a different subclasses of AudioFiles and each of those has a play() method"
   ]
  },
  {
   "cell_type": "code",
   "execution_count": 41,
   "metadata": {
    "colab": {},
    "colab_type": "code",
    "id": "2qHyoyJAp1eW"
   },
   "outputs": [],
   "source": [
    "class MP3File(AudioFile):\n",
    "    ext = \"wav\"\n",
    "    \n",
    "    def play(self):\n",
    "        print(\"playing {} as mp3\".format(self.filename))"
   ]
  },
  {
   "cell_type": "code",
   "execution_count": 42,
   "metadata": {
    "colab": {},
    "colab_type": "code",
    "id": "oCpdpoD8p1eY",
    "outputId": "9bf9c169-2214-4d20-c461-ffbf4f81d23f"
   },
   "outputs": [
    {
     "name": "stdout",
     "output_type": "stream",
     "text": [
      "playing myFile.wav as mp3\n"
     ]
    }
   ],
   "source": [
    "mp3 = MP3File(\"myFile.wav\")\n",
    "mp3.play()"
   ]
  },
  {
   "cell_type": "markdown",
   "metadata": {
    "colab_type": "text",
    "id": "fMeWP6Avp1gc"
   },
   "source": [
    "#### Memory Efficient\n",
    "A normal function to return a sequence will create the entire sequence in memory before returning the result. This is an overkill if the number of items in the sequence is very large.\n",
    "\n",
    "Generator implementation of such sequence is memory friendly and is preferred since it only produces one item at a time."
   ]
  },
  {
   "cell_type": "markdown",
   "metadata": {
    "colab_type": "text",
    "id": "22hwiXtRp1gf"
   },
   "source": [
    "#### Represent Infinite Stream"
   ]
  },
  {
   "cell_type": "markdown",
   "metadata": {
    "colab_type": "text",
    "id": "yj0YYKl3p1gg"
   },
   "source": [
    "Generators are excellent medium to represent an infinite stream of data. Infinite streams cannot be stored in memory and since generators produce only one item at a time, it can represent infinite stream of data."
   ]
  },
  {
   "cell_type": "code",
   "execution_count": 81,
   "metadata": {
    "colab": {},
    "colab_type": "code",
    "id": "CJMB3YfNp1gg"
   },
   "outputs": [],
   "source": [
    "#The following example can generate all the even numbers\n",
    "\n",
    "def all_even():\n",
    "    n = 0\n",
    "    while True:\n",
    "        yield n\n",
    "        n += 2"
   ]
  },
  {
   "cell_type": "code",
   "execution_count": 82,
   "metadata": {
    "colab": {},
    "colab_type": "code",
    "id": "bo-igBCAp1gi"
   },
   "outputs": [],
   "source": [
    "#for All_even in all_even():\n",
    "#    print(All_even)"
   ]
  },
  {
   "cell_type": "code",
   "execution_count": 83,
   "metadata": {
    "colab": {},
    "colab_type": "code",
    "id": "qUPRfetup1gj",
    "outputId": "9eb3e660-e123-4857-bb83-74899af2984d"
   },
   "outputs": [],
   "source": [
    "a = all_even()"
   ]
  },
  {
   "cell_type": "code",
   "execution_count": 84,
   "metadata": {
    "colab": {},
    "colab_type": "code",
    "id": "tg2SMcIdp1gn",
    "outputId": "cb5d3df9-04a6-4c98-9888-c97e3e41bab0"
   },
   "outputs": [
    {
     "data": {
      "text/plain": [
       "0"
      ]
     },
     "execution_count": 84,
     "metadata": {},
     "output_type": "execute_result"
    }
   ],
   "source": [
    "a.__next__()"
   ]
  },
  {
   "cell_type": "markdown",
   "metadata": {
    "colab_type": "text",
    "id": "re-zVVymp1gr"
   },
   "source": [
    "## Args and Kwargs\n",
    "The idea behind *args and **kwargs is that there may be times when you have a function and you want to be able to handle an unknown number of arguments. The *args will handle for any number of parameters, and **kwargs will handle for any number of keyword arguments (hence kwargs)\n",
    "\n",
    "The special syntax *args in function definitions in python is used to pass a variable number of arguments to a function. It is used to pass a non-keyworded, variable-length argument list.\n",
    "\n",
    "The special syntax **kwargs in function definitions in python is used to pass a keyworded, variable-length argument list."
   ]
  },
  {
   "cell_type": "code",
   "execution_count": 85,
   "metadata": {
    "colab": {},
    "colab_type": "code",
    "id": "TiW3bFDjp1gr"
   },
   "outputs": [],
   "source": [
    "comment_1 = \"This is good\"\n",
    "comment_2 = \"This is OK\"\n",
    "Comment_3 = \"I like cats.. Aww\""
   ]
  },
  {
   "cell_type": "markdown",
   "metadata": {
    "colab_type": "text",
    "id": "NSW_2Ezqp1gt"
   },
   "source": [
    "Now, you can have a function that iterates through them and just prints them   "
   ]
  },
  {
   "cell_type": "code",
   "execution_count": 86,
   "metadata": {
    "colab": {},
    "colab_type": "code",
    "id": "EV3xGHjCp1gu"
   },
   "outputs": [],
   "source": [
    "def comment(*args):\n",
    "    for post in args:\n",
    "        print(post)\n",
    "        "
   ]
  },
  {
   "cell_type": "markdown",
   "metadata": {
    "colab_type": "text",
    "id": "R3KtOy_xp1gw"
   },
   "source": [
    "It's very similar to if you were to pass a list as a parameter, then iterated through that list. We can do:"
   ]
  },
  {
   "cell_type": "code",
   "execution_count": 87,
   "metadata": {
    "colab": {},
    "colab_type": "code",
    "id": "NNfy0vzvp1gx",
    "outputId": "97429287-7815-4d59-87df-ff72018f7752"
   },
   "outputs": [
    {
     "name": "stdout",
     "output_type": "stream",
     "text": [
      "This is good\n"
     ]
    }
   ],
   "source": [
    "comment(comment_1)"
   ]
  },
  {
   "cell_type": "markdown",
   "metadata": {
    "colab_type": "text",
    "id": "jOdZtMatp1gz"
   },
   "source": [
    "We can also do:"
   ]
  },
  {
   "cell_type": "code",
   "execution_count": 88,
   "metadata": {
    "colab": {},
    "colab_type": "code",
    "id": "ySB7jh_Mp1gz",
    "outputId": "9d990c85-f39c-44e4-b991-91cdfc91a463"
   },
   "outputs": [
    {
     "name": "stdout",
     "output_type": "stream",
     "text": [
      "This is good\n",
      "This is OK\n",
      "I like cats.. Aww\n"
     ]
    }
   ],
   "source": [
    "comment(comment_1, comment_2, Comment_3)"
   ]
  },
  {
   "cell_type": "markdown",
   "metadata": {
    "colab_type": "text",
    "id": "xIJej7Pjp1g1"
   },
   "source": [
    "We can also use *args with regular parameters:"
   ]
  },
  {
   "cell_type": "code",
   "execution_count": 89,
   "metadata": {
    "colab": {},
    "colab_type": "code",
    "id": "zeDHwZb7p1g1",
    "outputId": "c6ed131e-85c5-49b1-a9c6-5ce1adf724c6"
   },
   "outputs": [
    {
     "name": "stdout",
     "output_type": "stream",
     "text": [
      "comment: \n",
      "This is good\n",
      "This is OK\n",
      "I like cats.. Aww\n"
     ]
    }
   ],
   "source": [
    "def comment(regular_args, *args):\n",
    "    print(regular_args)\n",
    "    for post in args:\n",
    "        print(post)\n",
    "        \n",
    "comment(\"comment: \" , comment_1, comment_2, Comment_3 )"
   ]
  },
  {
   "cell_type": "markdown",
   "metadata": {
    "colab_type": "text",
    "id": "vNZGFWB7p1g3"
   },
   "source": [
    "Now, there will be many times where you want args that are still assigned to some sort of name, which is where keyword arguments, **kwargs come in! Where *args are like a list, **kwargs are like a dictionary."
   ]
  },
  {
   "cell_type": "code",
   "execution_count": 90,
   "metadata": {
    "colab": {},
    "colab_type": "code",
    "id": "8A0bJWlUp1g4",
    "outputId": "cd74ab3f-8e39-4534-9a0c-7a222d5aa535"
   },
   "outputs": [
    {
     "name": "stdout",
     "output_type": "stream",
     "text": [
      "bicky Ice Cream\n",
      "manu Teddy\n",
      "hanu Chocklates\n"
     ]
    }
   ],
   "source": [
    "def comment(**kwargs):\n",
    "    for post in kwargs:\n",
    "        print(post, kwargs[post])\n",
    "        \n",
    "comment(bicky=\"Ice Cream\", manu=\"Teddy\", hanu=\"Chocklates\")"
   ]
  },
  {
   "cell_type": "markdown",
   "metadata": {
    "colab_type": "text",
    "id": "5M6HvxDqp1hd"
   },
   "source": [
    "## Python Internet Access using urllib"
   ]
  },
  {
   "cell_type": "markdown",
   "metadata": {
    "colab_type": "text",
    "id": "mzuikW-Dp1he"
   },
   "source": [
    "urllib is a Python module that can be used for opening URLs. It defines functions and classes to help in URL actions. With Python you can also access and retrieve data from the internet like XML, HTML, JSON, etc."
   ]
  },
  {
   "cell_type": "markdown",
   "metadata": {
    "colab_type": "text",
    "id": "DQx684eKp1he"
   },
   "source": [
    "### How to Open URL using Urllib"
   ]
  },
  {
   "cell_type": "code",
   "execution_count": null,
   "metadata": {
    "colab": {},
    "colab_type": "code",
    "id": "xrDGnHYHp1hf",
    "outputId": "c9800871-cd7e-474f-c3c1-3f4942b1f0e3"
   },
   "outputs": [
    {
     "name": "stdout",
     "output_type": "stream",
     "text": [
      "result string 200\n"
     ]
    }
   ],
   "source": [
    "#to read data from url and to print it\n",
    "import urllib.request\n",
    "\n",
    "# open a connection to url using urllib\n",
    "weburl = urllib.request.urlopen('http://www.learndatasci.com/k-means-clustering-algorithms-python-intro/')\n",
    "\n",
    "#get the result code and print it\n",
    "print(\"result string \" + str(weburl.getcode()))\n",
    "\n",
    "#reult code is 200 means HTTP request is processing successfully"
   ]
  },
  {
   "cell_type": "markdown",
   "metadata": {
    "colab_type": "text",
    "id": "_eHO-VCYp1hg"
   },
   "source": [
    "### How to get the HTML file from URL in python"
   ]
  },
  {
   "cell_type": "code",
   "execution_count": null,
   "metadata": {
    "colab": {},
    "colab_type": "code",
    "id": "q_IkZGSHp1hh",
    "outputId": "82c29997-dfd9-46e6-b58b-c1ecdddb89cf"
   },
   "outputs": [],
   "source": [
    "data = weburl.read()\n",
    "print(data)"
   ]
  },
  {
   "cell_type": "markdown",
   "metadata": {
    "colab_type": "text",
    "id": "7f2A6gi6p1hn"
   },
   "source": [
    "### Steps\n",
    "1)Import urllib\n",
    "\n",
    "2)Declare the variable WebURL\n",
    "\n",
    "3)Call the URL Open function to URL lib\n",
    "\n",
    "4)Print the result code\n",
    "\n",
    "5)Convert the result code into string. So that it concatenate with our string \"result code\"\n",
    "\n",
    "6)code 200 is HTTP Processed succesfully\n",
    "\n",
    "7)To get the HTML file call the read function\n",
    "\n",
    "8)Read function allow you to read content of the variables\n",
    "\n",
    "9)Run the Code it will print HTML Data"
   ]
  },
  {
   "cell_type": "markdown",
   "metadata": {
    "colab_type": "text",
    "id": "X7AIHpQrp1ho"
   },
   "source": [
    "<h2>Fetching Data </h2>"
   ]
  },
  {
   "cell_type": "markdown",
   "metadata": {
    "colab_type": "text",
    "id": "0hx1x93Dp1hp"
   },
   "source": [
    "## Regular Expression\n",
    "A regular expression in a programming language is a special text string used for describing a search pattern. It is extremely useful for extracting information from text such as code, files, log, spreadsheets or even documents"
   ]
  },
  {
   "cell_type": "markdown",
   "metadata": {
    "colab_type": "text",
    "id": "h8q9JmEMp1hp"
   },
   "source": [
    "While using the regular expression the first thing is to recognize is that everything is essentially a character, and we are writing patterns to match a specific sequence of characters also referred as string. Ascii or latin letters are those that are on your keyboards and Unicode is used to match the foreign text. It includes digits and punctuation and all special characters like $#@!%, etc."
   ]
  },
  {
   "cell_type": "markdown",
   "metadata": {
    "colab_type": "text",
    "id": "Fc3NoKMyp1hq"
   },
   "source": [
    "In Python, a regular expression is denoted as RE (REs, regexes or regex pattern) are imported through re module. Python supports regular expression through libraries. In Python regular expression supports various things like Modifiers, Identifiers, and White space characters."
   ]
  },
  {
   "cell_type": "markdown",
   "metadata": {
    "colab_type": "text",
    "id": "qvk7ooYCp1hq"
   },
   "source": [
    "### Regular Expression Syntax\n",
    "re\" module included with Python primarily used for string searching and manipulation\n",
    "Also used frequently for web page \"Scraping\" (extract large amount of data from websites)"
   ]
  },
  {
   "cell_type": "code",
   "execution_count": null,
   "metadata": {
    "colab": {},
    "colab_type": "code",
    "id": "vn1ibsUnp1hr"
   },
   "outputs": [],
   "source": [
    "import re"
   ]
  },
  {
   "cell_type": "markdown",
   "metadata": {
    "colab_type": "text",
    "id": "uh3KzNP8p1hs"
   },
   "source": [
    "### Example of w+ and ^ Expression\n",
    "\"^\": This expression matches the start of a string\n",
    "\n",
    "\"w+\": This expression matches the alphanumeric character in the string"
   ]
  },
  {
   "cell_type": "code",
   "execution_count": null,
   "metadata": {
    "colab": {},
    "colab_type": "code",
    "id": "pz1QgZ-Hp1ht",
    "outputId": "bbf884b2-64a4-47d2-a21a-1aabe3bfe47d"
   },
   "outputs": [
    {
     "name": "stdout",
     "output_type": "stream",
     "text": [
      "['Python']\n"
     ]
    }
   ],
   "source": [
    "import re\n",
    "reg = \"Python is for fun\"\n",
    "r1 = re.findall(r\"^\\w+\", reg)\n",
    "print(r1)"
   ]
  },
  {
   "cell_type": "markdown",
   "metadata": {
    "colab_type": "text",
    "id": "_OgiarZyp1hv"
   },
   "source": [
    "### Example of \\s expression in re.split function\n",
    "\"s\": This expression is used for creating a space in the string"
   ]
  },
  {
   "cell_type": "code",
   "execution_count": null,
   "metadata": {
    "colab": {},
    "colab_type": "code",
    "id": "ECr1HAfQp1hv",
    "outputId": "daa3b204-a0c5-4915-96a0-a48d13cbe9bd"
   },
   "outputs": [
    {
     "name": "stdout",
     "output_type": "stream",
     "text": [
      "['Travelling', 'is', 'best', 'part', 'in', 'the', 'life']\n"
     ]
    }
   ],
   "source": [
    "import re\n",
    "print((re.split(r'\\s', 'Travelling is best part in the life')))"
   ]
  },
  {
   "cell_type": "markdown",
   "metadata": {
    "colab_type": "text",
    "id": "4eOKKqMVp1hx"
   },
   "source": [
    "Now, let see what happens if you remove \"\\\" from s. There is no 's' alphabet in the output, this is because we have removed '\\' from the string, and it evaluates \"s\" as a regular character and thus split the words wherever it finds \"s\" in the string."
   ]
  },
  {
   "cell_type": "code",
   "execution_count": null,
   "metadata": {
    "colab": {},
    "colab_type": "code",
    "id": "w19ZBZXkp1hy",
    "outputId": "959eeaaf-2920-451e-8ab7-02aacb0fc8c1"
   },
   "outputs": [
    {
     "name": "stdout",
     "output_type": "stream",
     "text": [
      "['Travelling i', ' be', 't part in the life']\n"
     ]
    }
   ],
   "source": [
    "import re\n",
    "print((re.split(r's', 'Travelling is best part in the life')))"
   ]
  },
  {
   "cell_type": "markdown",
   "metadata": {
    "colab_type": "text",
    "id": "9-ivRWY9p1h0"
   },
   "source": [
    "### Using regular expression methods\n",
    "The \"re\" package provides several methods to actually perform queries on an input string. The method we going to see are\n",
    "\n",
    "re.match()\n",
    "\n",
    "re.search()\n",
    "\n",
    "re.findall()"
   ]
  },
  {
   "cell_type": "markdown",
   "metadata": {
    "colab_type": "text",
    "id": "_DnMLwpXp1h0"
   },
   "source": [
    "#### Using re.match()\n",
    "\n",
    "The match function is used to match the RE pattern to string with optional flags. In this method, the expression \"w+\" and \"\\W\" will match the words starting with letter 's' and thereafter, anything which is not started with 's' is not identified. To check match for each element in the list or string, we run the forloop."
   ]
  },
  {
   "cell_type": "code",
   "execution_count": null,
   "metadata": {
    "colab": {},
    "colab_type": "code",
    "id": "TOEr-NL8p1h1",
    "outputId": "120bf30c-b1fd-4aee-e3a6-928e3f68f0f1"
   },
   "outputs": [
    {
     "name": "stdout",
     "output_type": "stream",
     "text": [
      "('sun',)\n",
      "('sun',)\n",
      "('sun',)\n"
     ]
    }
   ],
   "source": [
    "list = [\"sun \", \"sun light\", \"sun set\", \"moon light\"]\n",
    "for element in list:\n",
    "    #z = re.match(\"(s\\w+)\\W(s\\w+)\", element)\n",
    "    y = re.match(\"(s\\w+)\", element)\n",
    "    if y:\n",
    "        print(y.groups())"
   ]
  },
  {
   "cell_type": "markdown",
   "metadata": {
    "colab_type": "text",
    "id": "jwkvlxLWp1iB"
   },
   "source": [
    "### Finding Pattern in Text (re.search())\n",
    "A regular expression is commonly used to search for a pattern in a text. This method takes a regular expression pattern and a string and searches for that pattern with the string."
   ]
  },
  {
   "cell_type": "markdown",
   "metadata": {
    "colab_type": "text",
    "id": "5Mq_a_lRp1iC"
   },
   "source": [
    "In order to use search() function, you need to import re first and then execute the code. The search() function takes the \"pattern\" and \"text\" to scan from our main string and returns a match object when the pattern is found or else not match if the pattern is not found."
   ]
  },
  {
   "cell_type": "code",
   "execution_count": null,
   "metadata": {
    "colab": {},
    "colab_type": "code",
    "id": "Xv2oT88Sp1iD",
    "outputId": "8447d2f5-8779-4c82-f220-71df3e733edf"
   },
   "outputs": [
    {
     "name": "stdout",
     "output_type": "stream",
     "text": [
      "Looking for \"my world is beautiful\" in \"This world is beautiful with more fun and Its awesome\" ->no match\n",
      "Looking for \"Its awesome\" in \"This world is beautiful with more fun and Its awesome\" ->found a match\n",
      "Looking for \"fun\" in \"This world is beautiful with more fun and Its awesome\" ->found a match\n"
     ]
    }
   ],
   "source": [
    "import re\n",
    "\n",
    "patterns = ['my world is beautiful', 'Its awesome', 'fun']\n",
    "text = 'This world is beautiful with more fun and Its awesome'\n",
    "\n",
    "for pattern in patterns:\n",
    "    print('Looking for \"%s\" in \"%s\" ->' % (pattern, text), end='')\n",
    "    \n",
    "    if re.search(pattern, text):\n",
    "        print(\"found a match\")\n",
    "        \n",
    "    else:\n",
    "        print(\"no match\")"
   ]
  },
  {
   "cell_type": "markdown",
   "metadata": {
    "colab_type": "text",
    "id": "ix9ANO3hp1iG"
   },
   "source": [
    "### Using re.findall for text"
   ]
  },
  {
   "cell_type": "markdown",
   "metadata": {
    "colab_type": "text",
    "id": "sJ_vVcDWp1iG"
   },
   "source": [
    "Re.findall() module is used when you want to iterate over the lines of the file, it will return a list of all the matches in a single step. For example, here we have a list of e-mail addresses, and we want all the e-mail addresses to be fetched out from the list, we use the re.findall method. It will find all the e-mail addresses from the list."
   ]
  },
  {
   "cell_type": "code",
   "execution_count": null,
   "metadata": {
    "colab": {},
    "colab_type": "code",
    "id": "GXxZy_CDp1iG"
   },
   "outputs": [],
   "source": [
    "import re\n",
    "abc = 'abc123@gmail.com, destiny@gmail.com, behappy@gmail.com, funtime@gmail.com'\n",
    "\n",
    "email = re.findall(r'[\\w\\.-]+#[\\w\\.-]+', abc)\n",
    "\n",
    "for emails in email:\n",
    "    print(email)"
   ]
  },
  {
   "cell_type": "markdown",
   "metadata": {
    "colab_type": "text",
    "id": "-61By-9lp1iW"
   },
   "source": [
    "In the example above we haven't used lambda. By using lambda, we wouldn't have had to define and name the functions fahrenheit() and celsius(). You can see this in the following interactive session:\n"
   ]
  },
  {
   "cell_type": "code",
   "execution_count": null,
   "metadata": {
    "colab": {},
    "colab_type": "code",
    "id": "JYdcWPX9p1iW"
   },
   "outputs": [],
   "source": [
    "Celsius = [39.2, 36.5, 37.3, 37.8]\n",
    "Farenheat = map(lambd x: (float(9/5)))"
   ]
  }
 ],
 "metadata": {
  "colab": {
   "name": "Advanced_Python.ipynb",
   "provenance": []
  },
  "kernelspec": {
   "display_name": "Python 3",
   "language": "python",
   "name": "python3"
  },
  "language_info": {
   "codemirror_mode": {
    "name": "ipython",
    "version": 3
   },
   "file_extension": ".py",
   "mimetype": "text/x-python",
   "name": "python",
   "nbconvert_exporter": "python",
   "pygments_lexer": "ipython3",
   "version": "3.10.2 (tags/v3.10.2:a58ebcc, Jan 17 2022, 14:12:15) [MSC v.1929 64 bit (AMD64)]"
  },
  "vscode": {
   "interpreter": {
    "hash": "107d7b120a5b68773a87d4067e673630b35702e55ebab3138143d08b1c4d7cbc"
   }
  }
 },
 "nbformat": 4,
 "nbformat_minor": 2
}
