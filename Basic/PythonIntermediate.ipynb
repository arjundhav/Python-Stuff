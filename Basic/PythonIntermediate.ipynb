{
 "cells": [
  {
   "cell_type": "markdown",
   "metadata": {
    "colab_type": "text",
    "id": "H40n_nD0p1a_"
   },
   "source": [
    "## Object Oriented Programming"
   ]
  },
  {
   "cell_type": "markdown",
   "metadata": {
    "colab_type": "text",
    "id": "AJEqxyM8p1bD"
   },
   "source": [
    "Object - A unique instance of a data structure that's defined by its class. An object comprises both data members (class variables and instance variables) and methods.\n",
    "\n",
    "Instance − An individual object of a certain class.\n",
    "\n",
    "Method − A special kind of function that is defined in a class definition."
   ]
  },
  {
   "cell_type": "markdown",
   "metadata": {
    "colab_type": "text",
    "id": "qqOw8xNQp1bG"
   },
   "source": [
    "The first argument of every class method, including init, is always a reference to the current instance of the class. By convention, this argument is always named self"
   ]
  },
  {
   "cell_type": "code",
   "execution_count": 1,
   "metadata": {
    "colab": {},
    "colab_type": "code",
    "id": "_R1JMDfAp1bL"
   },
   "outputs": [],
   "source": [
    "class car:\n",
    "    carCount = 0\n",
    "    def __init__(self, color, model):\n",
    "        self.color = color\n",
    "        self.model = model\n",
    "        car.carCount += 1\n",
    "\n",
    "    def displayCarCount(self):\n",
    "        print(\"Total count of cars are %d\"  % car.carCount)\n",
    "    \n",
    "    def showColorBrand(self):\n",
    "        print(\"The color and Brand of the car is \", \n",
    "              self.color, self.model)\n",
    "    "
   ]
  },
  {
   "cell_type": "markdown",
   "metadata": {
    "colab_type": "text",
    "id": "OWpDUSO0p1bX"
   },
   "source": [
    "carCount = Class Variable (This value shared across all functions).\n",
    "__init__ = first method which calls class constructor.\n",
    "color, model are the instance variable.\n",
    "showColor, showBrand are the python functions."
   ]
  },
  {
   "cell_type": "markdown",
   "metadata": {
    "colab_type": "text",
    "id": "mpJRwqhFp1bZ"
   },
   "source": [
    "### To Create a Instance object"
   ]
  },
  {
   "cell_type": "code",
   "execution_count": 2,
   "metadata": {
    "colab": {},
    "colab_type": "code",
    "id": "lbx-NaiLp1bb"
   },
   "outputs": [],
   "source": [
    "#First Object\n",
    "car1 = car(\"Red\", \"Ferrari\")\n",
    "\n",
    "#Second Object\n",
    "car2 = car(\"Black\", \"Lamborgani\")"
   ]
  },
  {
   "cell_type": "markdown",
   "metadata": {
    "colab_type": "text",
    "id": "krqGuTK6p1bz"
   },
   "source": [
    "### To Access Attributes"
   ]
  },
  {
   "cell_type": "code",
   "execution_count": 3,
   "metadata": {
    "colab": {},
    "colab_type": "code",
    "id": "db2nc7mXp1b1",
    "outputId": "3ecdaa24-2ec8-477d-f9c6-2ad448063bb6"
   },
   "outputs": [
    {
     "name": "stdout",
     "output_type": "stream",
     "text": [
      "The color and Brand of the car is  Red Ferrari\n",
      "Total count of cars are 2\n"
     ]
    }
   ],
   "source": [
    "car1.showColorBrand()\n",
    "car2.displayCarCount()"
   ]
  },
  {
   "cell_type": "markdown",
   "metadata": {
    "colab_type": "text",
    "id": "4Qfu4ordp1cD"
   },
   "source": [
    "### Otherways to access attributes\n",
    "\n",
    "The getattr(obj, name[, default]) − to access the attribute of object.\n",
    "\n",
    "The hasattr(obj,name) − to check if an attribute exists or not.\n",
    "\n",
    "The setattr(obj,name,value) − to set an attribute. If attribute does not exist, then it would be created.\n",
    "\n",
    "The delattr(obj, name) − to delete an attribute."
   ]
  },
  {
   "cell_type": "code",
   "execution_count": 4,
   "metadata": {
    "colab": {},
    "colab_type": "code",
    "id": "MJCsN3XOp1cE",
    "outputId": "5e3e88ac-acd8-4198-8338-25d6366b2fff"
   },
   "outputs": [
    {
     "data": {
      "text/plain": [
       "'Red'"
      ]
     },
     "execution_count": 4,
     "metadata": {},
     "output_type": "execute_result"
    }
   ],
   "source": [
    "getattr(car1, 'color')"
   ]
  },
  {
   "cell_type": "code",
   "execution_count": 5,
   "metadata": {
    "colab": {},
    "colab_type": "code",
    "id": "ip51OFugp1cK",
    "outputId": "46739ac4-832c-48d1-c8df-14635288a31a"
   },
   "outputs": [
    {
     "data": {
      "text/plain": [
       "True"
      ]
     },
     "execution_count": 5,
     "metadata": {},
     "output_type": "execute_result"
    }
   ],
   "source": [
    "hasattr(car1, 'model')"
   ]
  },
  {
   "cell_type": "code",
   "execution_count": 8,
   "metadata": {
    "colab": {},
    "colab_type": "code",
    "id": "kz-8w1bQp1cQ"
   },
   "outputs": [],
   "source": [
    "setattr(car1, 'color', 'RED')"
   ]
  },
  {
   "cell_type": "code",
   "execution_count": 9,
   "metadata": {
    "colab": {},
    "colab_type": "code",
    "id": "rgwdOV95p1cV"
   },
   "outputs": [],
   "source": [
    "delattr(car1, 'color')"
   ]
  },
  {
   "cell_type": "markdown",
   "metadata": {
    "colab_type": "text",
    "id": "GyQeweKBp1cZ"
   },
   "source": [
    "### Destroying objects\n",
    "Python deletes unneeded objects (built-in types or class instances) automatically to free the memory space.\n",
    "__del__(), called a destructor, that is invoked when the instance is about to be destroyed. This method might be used to clean up any non memory resources used by an instance.\n",
    "\n",
    "This __del__() destructor prints the class name of an instance that is about to be destroyed −"
   ]
  },
  {
   "cell_type": "code",
   "execution_count": 10,
   "metadata": {
    "colab": {},
    "colab_type": "code",
    "id": "tIVmLAQGp1ca"
   },
   "outputs": [],
   "source": [
    "class Greeting:\n",
    "    def __init__(self, name):\n",
    "        self.name = name\n",
    "    def __del__(self):\n",
    "        print(\"Greeting Destructor started\", )\n",
    "    def SayHello(self):\n",
    "        print(\"Hello\", self.name)"
   ]
  },
  {
   "cell_type": "code",
   "execution_count": 11,
   "metadata": {
    "colab": {},
    "colab_type": "code",
    "id": "fxxrkPJRp1ce",
    "outputId": "ab16621e-6580-4338-fab8-feac1e0298de"
   },
   "outputs": [],
   "source": [
    "x1 = Greeting(\"Guido\")\n",
    "x2 = x1\n",
    "del x2"
   ]
  },
  {
   "cell_type": "markdown",
   "metadata": {
    "colab_type": "text",
    "id": "VWJY5WD0p1ck"
   },
   "source": [
    "If we use this class, we can see, the \"del\" doesn't directly call the __del__() method. It's apparent that the destructor is not called, when we delete x1. The reason is that del decrements the reference count for the object of x1 by one. Only if the reference count reaches zero, the destructor is called:"
   ]
  },
  {
   "cell_type": "markdown",
   "metadata": {
    "colab_type": "text",
    "id": "4bHI29azp1cl"
   },
   "source": [
    "## Class Inheritence"
   ]
  },
  {
   "cell_type": "markdown",
   "metadata": {
    "colab_type": "text",
    "id": "A_wDqKNvp1cm"
   },
   "source": [
    "Inheritence is a powerful feature in object oriented programming. It refers to define a new class with littile or no modification to an existing class\n",
    "\n",
    "    The New Class is called Child Class\n",
    "    One From which inherited is called Base or Parent Class\n",
    "This results the Re-Usability of code\n",
    "\n"
   ]
  },
  {
   "cell_type": "code",
   "execution_count": 12,
   "metadata": {
    "colab": {},
    "colab_type": "code",
    "id": "bu8hw-PKp1cn"
   },
   "outputs": [],
   "source": [
    "class vehicle:\n",
    "    def __init__(self, name, color, model):\n",
    "        self.name = name\n",
    "        self.color = color\n",
    "        self.model = model\n",
    "        \n",
    "    def getName(self):\n",
    "        print(self.name)\n",
    "        \n",
    "    def getColor(self):\n",
    "        print(self.name)\n",
    "        \n",
    "    def getModel(self):\n",
    "        print(self.model)"
   ]
  },
  {
   "cell_type": "code",
   "execution_count": 13,
   "metadata": {
    "colab": {},
    "colab_type": "code",
    "id": "a_9t1FOVp1cs"
   },
   "outputs": [],
   "source": [
    "class car(vehicle):\n",
    "    def __init__(self):\n",
    "        super().__init__(\"ferrari\", \"red\", \"GTC4\")\n",
    "        \n",
    "        \n",
    "    def getDescription(self):\n",
    "        print(self.name, self.color, self.model)"
   ]
  },
  {
   "cell_type": "code",
   "execution_count": 14,
   "metadata": {
    "colab": {},
    "colab_type": "code",
    "id": "2HruDForp1cw"
   },
   "outputs": [],
   "source": [
    "c = car()"
   ]
  },
  {
   "cell_type": "code",
   "execution_count": 15,
   "metadata": {
    "colab": {},
    "colab_type": "code",
    "id": "8eQYSpNOp1cz",
    "outputId": "bd4ba46e-16a6-4c50-e35a-42bfc21d4195"
   },
   "outputs": [
    {
     "name": "stdout",
     "output_type": "stream",
     "text": [
      "ferrari red GTC4\n"
     ]
    }
   ],
   "source": [
    "c.getDescription()"
   ]
  },
  {
   "cell_type": "code",
   "execution_count": 16,
   "metadata": {
    "colab": {},
    "colab_type": "code",
    "id": "_8iEJutsp1c6",
    "outputId": "26a89dc0-e15c-45be-d584-9cadf7357e10"
   },
   "outputs": [
    {
     "name": "stdout",
     "output_type": "stream",
     "text": [
      "ferrari\n"
     ]
    }
   ],
   "source": [
    "c.getName()"
   ]
  },
  {
   "cell_type": "code",
   "execution_count": 17,
   "metadata": {
    "colab": {},
    "colab_type": "code",
    "id": "zcFLYtA_p1c-"
   },
   "outputs": [],
   "source": [
    "class Polygon:\n",
    "    def __init__(self, no_of_sides):\n",
    "        self.n = no_of_sides\n",
    "        self.sides = [0 for i in range(no_of_sides)]\n",
    "        \n",
    "    def inputSides(self):\n",
    "        self.sides = [float\n",
    "                      (input(\"Enter Slide \" + \n",
    "                                  str(i+1)+ \" \")) \n",
    "                      for i in range(self.n)]\n",
    "        \n",
    "    def dispSides(self):\n",
    "        for i in range(self.n):\n",
    "            print(\"Side\", i+1,\"is\",self.sides[i])\n",
    "        "
   ]
  },
  {
   "cell_type": "markdown",
   "metadata": {
    "colab_type": "text",
    "id": "i_uq98_Cp1dB"
   },
   "source": [
    "This class has data attributes to store the number of sides, n and magnitude of each side as a list, sides.\n",
    "Method inputSides() takes in magnitude of each side and similarly, dispSides() will display these properly\n",
    "A triangle is a polygon with 3 sides. So, we can created a class called Triangle which inherits from Polygon. This makes all the attributes available in class Polygon readily available in Triangle. We don't need to define them again (code re-usability). Triangle is defined as follows."
   ]
  },
  {
   "cell_type": "code",
   "execution_count": 18,
   "metadata": {
    "colab": {},
    "colab_type": "code",
    "id": "sq8GynEEp1dC"
   },
   "outputs": [],
   "source": [
    "class Triangle(Polygon):\n",
    "    def __init__(self):\n",
    "        Polygon.__init__(self,3)\n",
    "        \n",
    "    def findArear(self):\n",
    "        a, b, c = self.sides\n",
    "        s = (a+b+c)/2\n",
    "        area = (s*(s-a)*(s-b)*(s-c)) ** 0.5\n",
    "        print('The Area of Triangle is %0.2f' %area)    "
   ]
  },
  {
   "cell_type": "code",
   "execution_count": 19,
   "metadata": {
    "colab": {},
    "colab_type": "code",
    "id": "K2qJo3Hwp1dE"
   },
   "outputs": [],
   "source": [
    "t = Triangle()"
   ]
  },
  {
   "cell_type": "code",
   "execution_count": 21,
   "metadata": {
    "colab": {},
    "colab_type": "code",
    "id": "vryxY4u0p1dH",
    "outputId": "661487d4-45e6-4018-e494-6849cb628db1"
   },
   "outputs": [],
   "source": [
    "t.inputSides()"
   ]
  },
  {
   "cell_type": "code",
   "execution_count": 22,
   "metadata": {
    "colab": {},
    "colab_type": "code",
    "id": "DTfb7AYZp1dK",
    "outputId": "e82453e6-f7cd-49be-cf2b-345df82a9a93"
   },
   "outputs": [
    {
     "name": "stdout",
     "output_type": "stream",
     "text": [
      "Side 1 is 1.0\n",
      "Side 2 is 3.0\n",
      "Side 3 is 4.0\n"
     ]
    }
   ],
   "source": [
    "t.dispSides()"
   ]
  },
  {
   "cell_type": "code",
   "execution_count": 23,
   "metadata": {
    "colab": {},
    "colab_type": "code",
    "id": "wI60xBXdp1dO",
    "outputId": "137f8ad3-3392-49ef-acd8-844b70705e9e"
   },
   "outputs": [
    {
     "name": "stdout",
     "output_type": "stream",
     "text": [
      "Side 1 is 1.0\n",
      "Side 2 is 3.0\n",
      "Side 3 is 4.0\n"
     ]
    }
   ],
   "source": [
    "t.dispSides()"
   ]
  },
  {
   "cell_type": "code",
   "execution_count": 24,
   "metadata": {
    "colab": {},
    "colab_type": "code",
    "id": "RtB6DMp8p1dR",
    "outputId": "6ca3ba61-998c-4f04-a96b-66865c3fbf3c"
   },
   "outputs": [
    {
     "name": "stdout",
     "output_type": "stream",
     "text": [
      "The Area of Triangle is 0.00\n"
     ]
    }
   ],
   "source": [
    "t.findArear()"
   ]
  },
  {
   "cell_type": "code",
   "execution_count": 25,
   "metadata": {
    "colab": {},
    "colab_type": "code",
    "id": "YUMVum9dp1dV"
   },
   "outputs": [],
   "source": [
    "class Square(Polygon):\n",
    "    def __init__(self):\n",
    "        super().__init__(4)\n",
    "    \n",
    "    def findArea(self):\n",
    "        a, b, c, d = self.sides\n",
    "        s = (a + b + c + d)\n",
    "        area = s**2\n",
    "        print('The are of the Square is %0.2f' %area)\n",
    "        "
   ]
  },
  {
   "cell_type": "code",
   "execution_count": 26,
   "metadata": {
    "colab": {},
    "colab_type": "code",
    "id": "BRuSpywYp1dX"
   },
   "outputs": [],
   "source": [
    "p = Square()"
   ]
  },
  {
   "cell_type": "code",
   "execution_count": 31,
   "metadata": {
    "colab": {},
    "colab_type": "code",
    "id": "LmU6nCG9p1db",
    "outputId": "bf060e0f-e43c-400e-d773-3f741812cf65"
   },
   "outputs": [],
   "source": [
    "p.inputSides()"
   ]
  },
  {
   "cell_type": "code",
   "execution_count": 32,
   "metadata": {
    "colab": {},
    "colab_type": "code",
    "id": "vXoKreXTp1dl",
    "outputId": "f17c0012-127c-45c4-cee6-62eca4b05030"
   },
   "outputs": [
    {
     "name": "stdout",
     "output_type": "stream",
     "text": [
      "Side 1 is 1.0\n",
      "Side 2 is 2.0\n",
      "Side 3 is 3.0\n",
      "Side 4 is 4.0\n"
     ]
    }
   ],
   "source": [
    "p.dispSides()"
   ]
  },
  {
   "cell_type": "code",
   "execution_count": 33,
   "metadata": {
    "colab": {},
    "colab_type": "code",
    "id": "GBmpAKO6p1dv",
    "outputId": "907438d5-a9f5-4e72-fb77-6c9062bd857a"
   },
   "outputs": [
    {
     "name": "stdout",
     "output_type": "stream",
     "text": [
      "The are of the Square is 100.00\n"
     ]
    }
   ],
   "source": [
    "p.findArea()"
   ]
  },
  {
   "cell_type": "markdown",
   "metadata": {
    "colab_type": "text",
    "id": "7KYgGMvxp1d8"
   },
   "source": [
    "## Python Encapsulation"
   ]
  },
  {
   "cell_type": "markdown",
   "metadata": {
    "colab_type": "text",
    "id": "HSkny4r5p1d8"
   },
   "source": [
    "Encapsulation is one of the fundamentals of OOP (object-oriented programming). It refers to the bundling of data with the methods that operate on that data. Encapsulation is used to hide the values or state of a structured data object inside a class, preventing unauthorized parties' direct access to them."
   ]
  },
  {
   "cell_type": "code",
   "execution_count": 34,
   "metadata": {
    "colab": {},
    "colab_type": "code",
    "id": "CKBz8z5Jp1d_"
   },
   "outputs": [],
   "source": [
    "class bankAccount:\n",
    "    # Every new instance of bankAccount created must have a name, \n",
    "    #accountNumber and balance\n",
    "    # The __init__ method is a special method in python which \n",
    "    #is invoked when the new instance is created\n",
    "    # The self argument is a reference to that particular \n",
    "    #instance and it is important when invoking any method\n",
    "    def __init__(self, name, accountNumber, balance):\n",
    "        # Here we set the name property of this \n",
    "        #instance as the argument passed\n",
    "        #Here we defined name and accountNumber \n",
    "        #as public property\n",
    "        self.name = name\n",
    "        self.accountNumber = accountNumber\n",
    "        #balance is the private property and it \n",
    "        #can only accesable by members\n",
    "        self.__balance = balance\n",
    "        \n",
    "        #The method to access the private property __balance\n",
    "    def getBalance(self):\n",
    "        return self.__balance\n",
    "        \n",
    "#Lets create a new instance of bank account with its name, \n",
    "#account number and balance\n",
    "myAccount = bankAccount(\"Robert\", 123456, 2000)"
   ]
  },
  {
   "cell_type": "code",
   "execution_count": 35,
   "metadata": {
    "colab": {},
    "colab_type": "code",
    "id": "5OLT1kXHp1eC",
    "outputId": "f10a03ac-a5aa-43c9-f399-0da9c77eb7f4"
   },
   "outputs": [
    {
     "name": "stdout",
     "output_type": "stream",
     "text": [
      "Robert\n"
     ]
    }
   ],
   "source": [
    "#print out the name of the account holder\n",
    "print(myAccount.name)"
   ]
  },
  {
   "cell_type": "code",
   "execution_count": 36,
   "metadata": {
    "colab": {},
    "colab_type": "code",
    "id": "p14yTEmop1eG",
    "outputId": "fd3c17cf-1746-4975-a179-83c15492e1d4"
   },
   "outputs": [
    {
     "name": "stdout",
     "output_type": "stream",
     "text": [
      "123456\n"
     ]
    }
   ],
   "source": [
    "#print out the Account number\n",
    "print(myAccount.accountNumber)"
   ]
  },
  {
   "cell_type": "code",
   "execution_count": 37,
   "metadata": {
    "colab": {},
    "colab_type": "code",
    "id": "Tz6Cyz2fp1eJ",
    "outputId": "34acb800-5595-4069-8841-a6964136a513"
   },
   "outputs": [
    {
     "ename": "AttributeError",
     "evalue": "'bankAccount' object has no attribute '__balance'",
     "output_type": "error",
     "traceback": [
      "\u001b[1;31m---------------------------------------------------------------------------\u001b[0m",
      "\u001b[1;31mAttributeError\u001b[0m                            Traceback (most recent call last)",
      "\u001b[1;32m<ipython-input-37-b6de63693bbe>\u001b[0m in \u001b[0;36m<module>\u001b[1;34m()\u001b[0m\n\u001b[0;32m      1\u001b[0m \u001b[1;31m# print myAccount.__balance Gives and error\u001b[0m\u001b[1;33m\u001b[0m\u001b[1;33m\u001b[0m\u001b[0m\n\u001b[0;32m      2\u001b[0m \u001b[1;31m#since __balance is private\u001b[0m\u001b[1;33m\u001b[0m\u001b[1;33m\u001b[0m\u001b[0m\n\u001b[1;32m----> 3\u001b[1;33m \u001b[0mprint\u001b[0m\u001b[1;33m(\u001b[0m\u001b[0mmyAccount\u001b[0m\u001b[1;33m.\u001b[0m\u001b[0m__balance\u001b[0m\u001b[1;33m)\u001b[0m\u001b[1;33m\u001b[0m\u001b[0m\n\u001b[0m",
      "\u001b[1;31mAttributeError\u001b[0m: 'bankAccount' object has no attribute '__balance'"
     ]
    }
   ],
   "source": [
    "# print myAccount.__balance Gives and error \n",
    "#since __balance is private\n",
    "print(myAccount.__balance)"
   ]
  },
  {
   "cell_type": "code",
   "execution_count": 38,
   "metadata": {
    "colab": {},
    "colab_type": "code",
    "id": "lQ1kNqn4p1eL",
    "outputId": "6069b16a-989f-4756-e950-be5d27428e5b"
   },
   "outputs": [
    {
     "name": "stdout",
     "output_type": "stream",
     "text": [
      "2000\n"
     ]
    }
   ],
   "source": [
    "# Now let is try to get the balance which was private \n",
    "#but now accessible\n",
    "# from a method (getBalance) within its own class\n",
    "\n",
    "print(myAccount.getBalance())"
   ]
  },
  {
   "cell_type": "markdown",
   "metadata": {
    "colab_type": "text",
    "id": "u5D44zXyp1eO"
   },
   "source": [
    "## Polymorphism\n",
    "\n",
    "Polymorphism is the ability of an object to take on many forms. The most common use of polymorphism in OOP occurs when a parent class reference is used to refer to a child class object\n",
    "\n",
    "Polymorphism simply means that we can call the same method name with parameters and depending on the parameters it will do different things"
   ]
  },
  {
   "cell_type": "code",
   "execution_count": 39,
   "metadata": {
    "colab": {},
    "colab_type": "code",
    "id": "6alvUyEhp1eQ",
    "outputId": "9662e69b-5f68-434f-ee31-ade2e186dea1"
   },
   "outputs": [
    {
     "name": "stdout",
     "output_type": "stream",
     "text": [
      "Missy:Meow\n",
      "Mr.Joy:Meow\n",
      "Lassie:Bow!Bow!Bow\n"
     ]
    }
   ],
   "source": [
    "class animal:\n",
    "    def __init__(self, name):\n",
    "        self.name = name\n",
    "        \n",
    "    def talk(self):\n",
    "        raise NotImplementedError(\"Doesen't Have idea\")\n",
    "class cat(animal):\n",
    "    def talk(self):\n",
    "        return 'Meow'\n",
    "    \n",
    "class dog(animal):\n",
    "    def talk(self):\n",
    "        return 'Bow!Bow!Bow'\n",
    "    \n",
    "animal=[cat('Missy'),\n",
    "        cat('Mr.Joy'),\n",
    "        dog('Lassie')]\n",
    "\n",
    "for animals in animal:\n",
    "    print(animals.name + ':' + animals.talk())"
   ]
  },
  {
   "cell_type": "markdown",
   "metadata": {
    "colab_type": "text",
    "id": "JFA5g_pjp1eT"
   },
   "source": [
    "Notice the following: all animals \"talk\", but they talk differently. The \"talk\" behaviour is thus polymorphic in the sense that it is realized differently depending on the animal. So, the abstract \"animal\" concept does not actually \"talk\", but specific animals (like dogs and cats) have a concrete implementation of the action \"talk\"."
   ]
  },
  {
   "cell_type": "markdown",
   "metadata": {
    "colab_type": "text",
    "id": "hZgDFfJap1eT"
   },
   "source": [
    "A More complicated example to consider would be to think about creating a method called play() to an audio file\n",
    "\n",
    "A Media Player will be needed to load the AudioFile Object\n",
    "\n",
    "The Instruction to load the file might be simple as\n",
    "\n",
    "audio_file.play()"
   ]
  },
  {
   "cell_type": "code",
   "execution_count": 40,
   "metadata": {
    "colab": {},
    "colab_type": "code",
    "id": "YXbjXDZ-p1eU"
   },
   "outputs": [],
   "source": [
    "class AudioFile:\n",
    "    def __init__(self, filename):\n",
    "        if not filename.endswith(self.ext):\n",
    "            #Then\n",
    "            raise Exception(\"Invalid Format\")\n",
    "        else:\n",
    "            self.filename = filename"
   ]
  },
  {
   "cell_type": "markdown",
   "metadata": {
    "colab_type": "text",
    "id": "esF9oU8_p1eW"
   },
   "source": [
    "How ever different audio files use different compression algorithms(eg.. mp3, .wma, .ogg) and some aren't stored as compress at all(eg.wav)\n",
    "We can use the inheritence with polymorphism to simplyfy the design. Each File type represented as a different subclasses of AudioFiles and each of those has a play() method"
   ]
  },
  {
   "cell_type": "code",
   "execution_count": 41,
   "metadata": {
    "colab": {},
    "colab_type": "code",
    "id": "2qHyoyJAp1eW"
   },
   "outputs": [],
   "source": [
    "class MP3File(AudioFile):\n",
    "    ext = \"wav\"\n",
    "    \n",
    "    def play(self):\n",
    "        print(\"playing {} as mp3\".format(self.filename))"
   ]
  },
  {
   "cell_type": "code",
   "execution_count": 42,
   "metadata": {
    "colab": {},
    "colab_type": "code",
    "id": "oCpdpoD8p1eY",
    "outputId": "9bf9c169-2214-4d20-c461-ffbf4f81d23f"
   },
   "outputs": [
    {
     "name": "stdout",
     "output_type": "stream",
     "text": [
      "playing myFile.wav as mp3\n"
     ]
    }
   ],
   "source": [
    "mp3 = MP3File(\"myFile.wav\")\n",
    "mp3.play()"
   ]
  },
  {
   "cell_type": "markdown",
   "metadata": {
    "colab_type": "text",
    "id": "WzFqzMh3p1ec"
   },
   "source": [
    "## Python Iterators\n",
    "\n",
    "An iterator is an object that represents a stream of data. Unlike a sequence, an iterator can (usually) only provide the next item. The for-in statement uses iterators to control the loop, and iterators can also be used in many other contexts"
   ]
  },
  {
   "cell_type": "code",
   "execution_count": 43,
   "metadata": {
    "colab": {},
    "colab_type": "code",
    "id": "slksMSqTp1ed",
    "outputId": "768b3d08-55fb-4295-b8a7-d7b353b9669b"
   },
   "outputs": [
    {
     "name": "stdout",
     "output_type": "stream",
     "text": [
      "1\n",
      "2\n",
      "3\n",
      "4\n",
      "p\n",
      "y\n",
      "t\n",
      "h\n",
      "o\n",
      "n\n",
      "a\n",
      "b\n"
     ]
    }
   ],
   "source": [
    "#we use for statement for looping over a list\n",
    "\n",
    "for i in [1, 2, 3, 4]:\n",
    "    print(i)\n",
    "    \n",
    "#If we use it with a string, it loops over its characters.\n",
    "\n",
    "for c in \"python\":\n",
    "    print(c)\n",
    "    \n",
    "#If we use it with a dictionary, it loops over its keys.\n",
    "\n",
    "for k in {\"a\": 2, \"b\": 3}:\n",
    "    print(k)\n",
    "    "
   ]
  },
  {
   "cell_type": "markdown",
   "metadata": {
    "colab_type": "text",
    "id": "2I4BCaXAp1eh"
   },
   "source": [
    "So there are many types of objects which can be used with a for loop. These are called iterable objects"
   ]
  },
  {
   "cell_type": "markdown",
   "metadata": {
    "colab_type": "text",
    "id": "elCdNv5gp1eh"
   },
   "source": [
    "### The iteration protocol\n",
    "The built-in function iter takes an iterable object and returns an iterator. "
   ]
  },
  {
   "cell_type": "code",
   "execution_count": 44,
   "metadata": {
    "colab": {},
    "colab_type": "code",
    "id": "5YdyLOhQp1ei",
    "outputId": "f351df4f-63e5-4123-a663-214f56c3ffde"
   },
   "outputs": [
    {
     "data": {
      "text/plain": [
       "<list_iterator at 0x5ba986b278>"
      ]
     },
     "execution_count": 44,
     "metadata": {},
     "output_type": "execute_result"
    }
   ],
   "source": [
    "x = iter([1, 2, 3])\n",
    "x"
   ]
  },
  {
   "cell_type": "code",
   "execution_count": 45,
   "metadata": {
    "colab": {},
    "colab_type": "code",
    "id": "eMWYLXqOp1ek",
    "outputId": "0f3172be-c3d0-4d41-901b-3fba91da0af4"
   },
   "outputs": [
    {
     "data": {
      "text/plain": [
       "1"
      ]
     },
     "execution_count": 45,
     "metadata": {},
     "output_type": "execute_result"
    }
   ],
   "source": [
    "x.__next__()"
   ]
  },
  {
   "cell_type": "markdown",
   "metadata": {
    "colab_type": "text",
    "id": "us_1vu-Kp1em"
   },
   "source": [
    "Each time we call the next method on the iterator gives us the next element. If there are no more elements, it raises a StopIteration"
   ]
  },
  {
   "cell_type": "markdown",
   "metadata": {
    "colab_type": "text",
    "id": "jS_8xk9Pp1en"
   },
   "source": [
    "Iterators are implemented as classes. Here is an iterator that works like built-in xrange function."
   ]
  },
  {
   "cell_type": "code",
   "execution_count": 46,
   "metadata": {
    "colab": {},
    "colab_type": "code",
    "id": "aMMf8uzNp1en"
   },
   "outputs": [],
   "source": [
    "class yrange:\n",
    "    def __init__(self, n):\n",
    "        self.i = 0\n",
    "        self.n = n\n",
    "        \n",
    "    def __iter__(self):\n",
    "        return self\n",
    "    \n",
    "    def __next__(self):\n",
    "        if self.i < self.n:\n",
    "            i = self.i\n",
    "            self.i += 1\n",
    "            return i\n",
    "        else:\n",
    "            raise StopIteration()\n",
    "        \n",
    "        "
   ]
  },
  {
   "cell_type": "markdown",
   "metadata": {
    "colab_type": "text",
    "id": "-APOUIIQp1eq"
   },
   "source": [
    "The __iter__ method is what makes an object iterable. Behind the scenes, the iter function calls __iter__ method on the given object.\n",
    "\n",
    "The return value of __iter__ is an iterator. It should have a next method and raise StopIteration when there are no more elements.\n"
   ]
  },
  {
   "cell_type": "code",
   "execution_count": 47,
   "metadata": {
    "colab": {},
    "colab_type": "code",
    "id": "ESqbeDaLp1er"
   },
   "outputs": [],
   "source": [
    "y = yrange(3)"
   ]
  },
  {
   "cell_type": "code",
   "execution_count": 48,
   "metadata": {
    "colab": {},
    "colab_type": "code",
    "id": "wXhFx6gIp1et",
    "outputId": "96e6c3d4-79fc-4e67-fe52-a6cee84c382d"
   },
   "outputs": [
    {
     "data": {
      "text/plain": [
       "0"
      ]
     },
     "execution_count": 48,
     "metadata": {},
     "output_type": "execute_result"
    }
   ],
   "source": [
    "y.__next__()"
   ]
  },
  {
   "cell_type": "code",
   "execution_count": 50,
   "metadata": {
    "colab": {},
    "colab_type": "code",
    "id": "icBqYLxpp1e4"
   },
   "outputs": [],
   "source": [
    "class name:\n",
    "    \n",
    "    def __init__(self, limit):\n",
    "        self.limit = limit\n",
    "        self.x = 10\n",
    "    \n",
    "    def __iter__(self):\n",
    "        self.x = 10\n",
    "        return self\n",
    "        \n",
    "    def __next__(self):\n",
    "        x = self.x\n",
    "        if x > self.limit:\n",
    "            raise StopIteration\n",
    "            \n",
    "        self.x += 1\n",
    "        return x"
   ]
  },
  {
   "cell_type": "code",
   "execution_count": 51,
   "metadata": {
    "colab": {},
    "colab_type": "code",
    "id": "7mqKD7dnp1e6",
    "outputId": "8c738e96-882d-4777-ba62-7178a5701746"
   },
   "outputs": [
    {
     "name": "stdout",
     "output_type": "stream",
     "text": [
      "10\n",
      "11\n",
      "12\n",
      "13\n",
      "14\n",
      "15\n"
     ]
    }
   ],
   "source": [
    "for i in name(15):\n",
    "    print(i)"
   ]
  },
  {
   "cell_type": "markdown",
   "metadata": {
    "colab_type": "text",
    "id": "2C5LdzByp1fQ"
   },
   "source": [
    "The objcet name is not iterable due to missing iterator"
   ]
  },
  {
   "cell_type": "markdown",
   "metadata": {
    "colab_type": "text",
    "id": "yQ94E5qIp1fj"
   },
   "source": [
    "## Python Generators\n",
    "\n",
    "Generators simplifies creation of iterators. A generator is a function that produces a sequence of results instead of a single value.\n",
    "\n",
    "A Python generator is a function which returns a generator iterator (just an object we can iterate over) by calling yield\n",
    "\n",
    "Generators are used to create iterators, but with a different approach. Generators are simple functions which return an iterable set of items, one at a time, in a special way.\n",
    "\n",
    "When an iteration over a set of item starts using the for statement, the generator is run. Once the generator's function code reaches a \"yield\" statement, the generator yields its execution back to the for loop, returning a new value from the set. The generator function can generate as many values (possibly infinite) as it wants, yielding each one in its turn"
   ]
  },
  {
   "cell_type": "code",
   "execution_count": 60,
   "metadata": {
    "colab": {},
    "colab_type": "code",
    "id": "F1ANdi2wp1fk"
   },
   "outputs": [],
   "source": [
    "def my_gen():\n",
    "    n = 1\n",
    "    print('This is printed first')\n",
    "    yield n\n",
    "    \n",
    "    n += 1\n",
    "    print('This printed second')\n",
    "    yield n\n",
    "    \n",
    "    n+=1\n",
    "    print('This printed at last')\n",
    "    yield n"
   ]
  },
  {
   "cell_type": "code",
   "execution_count": 61,
   "metadata": {
    "colab": {},
    "colab_type": "code",
    "id": "7ytE1DDcp1fl",
    "outputId": "c6d2a20b-c22f-40e0-b90e-f4bf71f8e145"
   },
   "outputs": [
    {
     "name": "stdout",
     "output_type": "stream",
     "text": [
      "This is printed first\n"
     ]
    },
    {
     "data": {
      "text/plain": [
       "1"
      ]
     },
     "execution_count": 61,
     "metadata": {},
     "output_type": "execute_result"
    }
   ],
   "source": [
    "a = my_gen()\n",
    "\n",
    "a.__next__()"
   ]
  },
  {
   "cell_type": "code",
   "execution_count": 62,
   "metadata": {
    "colab": {},
    "colab_type": "code",
    "id": "j-N-taGKp1fp",
    "outputId": "a72edbe0-164e-4322-82f6-fb7cec37f8da"
   },
   "outputs": [
    {
     "name": "stdout",
     "output_type": "stream",
     "text": [
      "This printed second\n"
     ]
    },
    {
     "data": {
      "text/plain": [
       "2"
      ]
     },
     "execution_count": 62,
     "metadata": {},
     "output_type": "execute_result"
    }
   ],
   "source": [
    "a.__next__()"
   ]
  },
  {
   "cell_type": "code",
   "execution_count": 63,
   "metadata": {
    "colab": {},
    "colab_type": "code",
    "id": "EKC8hfIkp1fs",
    "outputId": "1deb50bb-ea98-462d-c323-4a76863568fa"
   },
   "outputs": [
    {
     "name": "stdout",
     "output_type": "stream",
     "text": [
      "This printed at last\n"
     ]
    },
    {
     "data": {
      "text/plain": [
       "3"
      ]
     },
     "execution_count": 63,
     "metadata": {},
     "output_type": "execute_result"
    }
   ],
   "source": [
    "a.__next__()"
   ]
  },
  {
   "cell_type": "code",
   "execution_count": 65,
   "metadata": {
    "colab": {},
    "colab_type": "code",
    "id": "0yAGUreip1fx",
    "outputId": "450a9e2a-5f5b-429f-b58c-968ac3bb3631"
   },
   "outputs": [
    {
     "name": "stdout",
     "output_type": "stream",
     "text": [
      "[2, 3, 4, 5, 6]\n"
     ]
    }
   ],
   "source": [
    "def square_numbers(nums):\n",
    "    result = []\n",
    "    for i in nums:\n",
    "        result.append(i+1)\n",
    "    return result\n",
    "\n",
    "my_num = square_numbers([1, 2, 3, 4, 5])\n",
    "print(my_num)\n"
   ]
  },
  {
   "cell_type": "code",
   "execution_count": 66,
   "metadata": {
    "colab": {},
    "colab_type": "code",
    "id": "QL4HEoGTp1f1"
   },
   "outputs": [],
   "source": [
    "def square_numbers(nums):\n",
    "    for i in nums:\n",
    "        yield(i+1)\n",
    "        \n",
    "my_num = square_numbers([1, 2, 3, 4, 5])"
   ]
  },
  {
   "cell_type": "code",
   "execution_count": 67,
   "metadata": {
    "colab": {},
    "colab_type": "code",
    "id": "Xx8njMJip1f3",
    "outputId": "faaed564-13ff-4785-d947-89cc5a00b012"
   },
   "outputs": [
    {
     "name": "stdout",
     "output_type": "stream",
     "text": [
      "2\n"
     ]
    }
   ],
   "source": [
    "print(next(my_num))"
   ]
  },
  {
   "cell_type": "code",
   "execution_count": 68,
   "metadata": {
    "colab": {},
    "colab_type": "code",
    "id": "I8df7BKJp1f7"
   },
   "outputs": [],
   "source": [
    "def people_list(num_people):\n",
    "    result = []\n",
    "    \n",
    "    for i in range(num_people):\n",
    "        print(i)\n",
    "        person = {\n",
    "            'id': i,\n",
    "            'name': 'sam_victor' + i,\n",
    "        }\n",
    "        result.append(person)\n",
    "        return i"
   ]
  },
  {
   "cell_type": "code",
   "execution_count": 69,
   "metadata": {
    "colab": {},
    "colab_type": "code",
    "id": "KFr_GVHnp1f-",
    "outputId": "ddbe196e-2436-4140-b296-a5d7fe91b6f4"
   },
   "outputs": [
    {
     "ename": "TypeError",
     "evalue": "'list' object cannot be interpreted as an integer",
     "output_type": "error",
     "traceback": [
      "\u001b[1;31m---------------------------------------------------------------------------\u001b[0m",
      "\u001b[1;31mTypeError\u001b[0m                                 Traceback (most recent call last)",
      "\u001b[1;32m<ipython-input-69-744869b14368>\u001b[0m in \u001b[0;36m<module>\u001b[1;34m()\u001b[0m\n\u001b[1;32m----> 1\u001b[1;33m \u001b[0mnum_people\u001b[0m \u001b[1;33m=\u001b[0m \u001b[0mpeople_list\u001b[0m\u001b[1;33m(\u001b[0m\u001b[1;33m[\u001b[0m\u001b[1;36m1\u001b[0m\u001b[1;33m,\u001b[0m \u001b[1;36m2\u001b[0m\u001b[1;33m,\u001b[0m \u001b[1;36m3\u001b[0m\u001b[1;33m]\u001b[0m\u001b[1;33m)\u001b[0m\u001b[1;33m\u001b[0m\u001b[0m\n\u001b[0m\u001b[0;32m      2\u001b[0m \u001b[0mprint\u001b[0m\u001b[1;33m(\u001b[0m\u001b[0mnum_people\u001b[0m\u001b[1;33m)\u001b[0m\u001b[1;33m\u001b[0m\u001b[0m\n",
      "\u001b[1;32m<ipython-input-68-abbfb8c45c7f>\u001b[0m in \u001b[0;36mpeople_list\u001b[1;34m(num_people)\u001b[0m\n\u001b[0;32m      2\u001b[0m     \u001b[0mresult\u001b[0m \u001b[1;33m=\u001b[0m \u001b[1;33m[\u001b[0m\u001b[1;33m]\u001b[0m\u001b[1;33m\u001b[0m\u001b[0m\n\u001b[0;32m      3\u001b[0m \u001b[1;33m\u001b[0m\u001b[0m\n\u001b[1;32m----> 4\u001b[1;33m     \u001b[1;32mfor\u001b[0m \u001b[0mi\u001b[0m \u001b[1;32min\u001b[0m \u001b[0mrange\u001b[0m\u001b[1;33m(\u001b[0m\u001b[0mnum_people\u001b[0m\u001b[1;33m)\u001b[0m\u001b[1;33m:\u001b[0m\u001b[1;33m\u001b[0m\u001b[0m\n\u001b[0m\u001b[0;32m      5\u001b[0m         \u001b[0mprint\u001b[0m\u001b[1;33m(\u001b[0m\u001b[0mi\u001b[0m\u001b[1;33m)\u001b[0m\u001b[1;33m\u001b[0m\u001b[0m\n\u001b[0;32m      6\u001b[0m         person = {\n",
      "\u001b[1;31mTypeError\u001b[0m: 'list' object cannot be interpreted as an integer"
     ]
    }
   ],
   "source": [
    "num_people = people_list([1, 2, 3])\n",
    "print(num_people)"
   ]
  },
  {
   "cell_type": "markdown",
   "metadata": {
    "colab_type": "text",
    "id": "DTjm7zGpp1gB"
   },
   "source": [
    "In the people_list function we declared result to store the values and return to store and execute the output. allong with appending the output to result\n",
    "\n",
    "In generator we dont have to declare the variable(\"result\") and return. Yield will take care of this\n",
    "\n",
    "Yield works as like a iterator, next and it memorize and return the output"
   ]
  },
  {
   "cell_type": "code",
   "execution_count": 70,
   "metadata": {
    "colab": {},
    "colab_type": "code",
    "id": "O00GxgEDp1gB"
   },
   "outputs": [],
   "source": [
    "def people_generator(num_people):\n",
    "    for i in range (num_people):\n",
    "        person = {\n",
    "            'id': i,\n",
    "            'name': 'sam_victor',\n",
    "            'major': 'robert_crazy',\n",
    "        }\n",
    "        yield person\n",
    "    "
   ]
  },
  {
   "cell_type": "code",
   "execution_count": 71,
   "metadata": {
    "colab": {},
    "colab_type": "code",
    "id": "JKYclWWnp1gI",
    "outputId": "00edffad-3845-41c0-d30b-f7fc8fdfcbda"
   },
   "outputs": [
    {
     "data": {
      "text/plain": [
       "[{'id': 0, 'name': 'sam_victor', 'major': 'robert_crazy'},\n",
       " {'id': 1, 'name': 'sam_victor', 'major': 'robert_crazy'},\n",
       " {'id': 2, 'name': 'sam_victor', 'major': 'robert_crazy'}]"
      ]
     },
     "execution_count": 71,
     "metadata": {},
     "output_type": "execute_result"
    }
   ],
   "source": [
    "list(people_generator(3))\n"
   ]
  },
  {
   "cell_type": "code",
   "execution_count": 72,
   "metadata": {
    "colab": {},
    "colab_type": "code",
    "id": "5FAOZVSSp1gL"
   },
   "outputs": [],
   "source": [
    "#while and Yield\n",
    "#To generate the infnite number by using generator method\n",
    "#we call the yield with while loop\n",
    "#while loop is True for ever\n",
    "\n",
    "i = 1\n",
    "x = 0\n",
    "def inf_generator(num=1):\n",
    "    gen_x = 0\n",
    "    while num > 0:\n",
    "        gen_x += 1\n",
    "        yield gen_x"
   ]
  },
  {
   "cell_type": "code",
   "execution_count": 73,
   "metadata": {
    "colab": {},
    "colab_type": "code",
    "id": "B-KSxroCp1gM"
   },
   "outputs": [
    {
     "name": "stdout",
     "output_type": "stream",
     "text": [
      "Greeting Destructor started\n"
     ]
    }
   ],
   "source": [
    "x1 = inf_generator()"
   ]
  },
  {
   "cell_type": "code",
   "execution_count": 74,
   "metadata": {
    "colab": {},
    "colab_type": "code",
    "id": "Z2mykjujp1gN",
    "outputId": "35f051b6-ad15-4c26-b1ef-ebddd7a3d932"
   },
   "outputs": [
    {
     "name": "stdout",
     "output_type": "stream",
     "text": [
      "1\n"
     ]
    }
   ],
   "source": [
    "print(next(x1))"
   ]
  },
  {
   "cell_type": "code",
   "execution_count": 75,
   "metadata": {
    "colab": {},
    "colab_type": "code",
    "id": "GvPqXCGWp1gP",
    "outputId": "4582381e-05e6-422d-b6c4-1f320d95766f"
   },
   "outputs": [
    {
     "name": "stdout",
     "output_type": "stream",
     "text": [
      "2\n"
     ]
    }
   ],
   "source": [
    "print(next(x1))"
   ]
  },
  {
   "cell_type": "markdown",
   "metadata": {
    "colab_type": "text",
    "id": "ahEQvMm3p1gR"
   },
   "source": [
    "Yield acts as iterator and next\n",
    "yield acts as memory block that transfer the value to next statement\n",
    "In the below example yield passing n value to the next statement"
   ]
  },
  {
   "cell_type": "code",
   "execution_count": 76,
   "metadata": {
    "colab": {},
    "colab_type": "code",
    "id": "EqlOpirCp1gS",
    "outputId": "edb8b328-635d-4bcd-a7b5-9bb75714fbef"
   },
   "outputs": [
    {
     "name": "stdout",
     "output_type": "stream",
     "text": [
      "This is printed first\n",
      "1\n",
      "This printed second\n",
      "2\n",
      "This printed at last\n",
      "3\n"
     ]
    }
   ],
   "source": [
    "def my_gen():\n",
    "    n = 1\n",
    "    print('This is printed first')\n",
    "    yield n\n",
    "    \n",
    "    n += 1\n",
    "    print('This printed second')\n",
    "    yield n\n",
    "    \n",
    "    n+=1\n",
    "    print('This printed at last')\n",
    "    yield n\n",
    "    \n",
    "for item in my_gen():\n",
    "    print(item)\n"
   ]
  },
  {
   "cell_type": "code",
   "execution_count": 77,
   "metadata": {
    "colab": {},
    "colab_type": "code",
    "id": "xpNTKGhNp1gU",
    "outputId": "754a1109-e849-440a-8a1f-252dd8df5cc6"
   },
   "outputs": [
    {
     "name": "stdout",
     "output_type": "stream",
     "text": [
      "Loop number 0\n",
      "0\n",
      "Loop number 1\n",
      "1\n",
      "Loop number 2\n",
      "2\n",
      "Loop number 3\n",
      "3\n"
     ]
    }
   ],
   "source": [
    "for i in range(4):\n",
    "    print(\"Loop number\", i)\n",
    "    print(i)"
   ]
  },
  {
   "cell_type": "markdown",
   "metadata": {
    "colab_type": "text",
    "id": "NZqTF1X3p1gW"
   },
   "source": [
    "### Why generators are used in Python?"
   ]
  },
  {
   "cell_type": "markdown",
   "metadata": {
    "colab_type": "text",
    "id": "YbFkD_xOp1gW"
   },
   "source": [
    "#### Easy to Implement"
   ]
  },
  {
   "cell_type": "code",
   "execution_count": 78,
   "metadata": {
    "colab": {},
    "colab_type": "code",
    "id": "xH1f0Fgwp1gW",
    "outputId": "cf575af5-3823-4113-d8c9-db76bfbcb075"
   },
   "outputs": [
    {
     "name": "stdout",
     "output_type": "stream",
     "text": [
      "1\n",
      "2\n",
      "4\n",
      "8\n",
      "16\n",
      "32\n"
     ]
    }
   ],
   "source": [
    "class PowTwo:\n",
    "    def __init__(self, max = 5):\n",
    "        self.max = max\n",
    "        \n",
    "    def __iter__(self):\n",
    "        self.n = 0\n",
    "        return self\n",
    "    def __next__(self):\n",
    "        if self.n > self.max:\n",
    "            raise StopIteration\n",
    "            \n",
    "        result = 2 ** self.n\n",
    "        self.n += 1\n",
    "        return result\n",
    "\n",
    "for powtwo in PowTwo():\n",
    "    print(powtwo)"
   ]
  },
  {
   "cell_type": "code",
   "execution_count": 79,
   "metadata": {
    "colab": {},
    "colab_type": "code",
    "id": "ILD3Iy4Tp1gZ"
   },
   "outputs": [],
   "source": [
    "def PowTwoGen(max=0):\n",
    "    n = 0\n",
    "    while n <= max:\n",
    "        yield 2 ** n\n",
    "        n += 1\n",
    "        "
   ]
  },
  {
   "cell_type": "code",
   "execution_count": 80,
   "metadata": {
    "colab": {},
    "colab_type": "code",
    "id": "7fAG3ICTp1ga",
    "outputId": "e8c85767-aff4-4afe-da07-2455cd5a1ab9"
   },
   "outputs": [
    {
     "name": "stdout",
     "output_type": "stream",
     "text": [
      "1\n"
     ]
    }
   ],
   "source": [
    "PowTwoGen(max=0)\n",
    "\n",
    "for powTwoGen in PowTwoGen():\n",
    "    print(powTwoGen)"
   ]
  },
  {
   "cell_type": "markdown",
   "metadata": {
    "colab_type": "text",
    "id": "fMeWP6Avp1gc"
   },
   "source": [
    "#### Memory Efficient\n",
    "A normal function to return a sequence will create the entire sequence in memory before returning the result. This is an overkill if the number of items in the sequence is very large.\n",
    "\n",
    "Generator implementation of such sequence is memory friendly and is preferred since it only produces one item at a time."
   ]
  },
  {
   "cell_type": "markdown",
   "metadata": {
    "colab_type": "text",
    "id": "22hwiXtRp1gf"
   },
   "source": [
    "#### Represent Infinite Stream"
   ]
  },
  {
   "cell_type": "markdown",
   "metadata": {
    "colab_type": "text",
    "id": "yj0YYKl3p1gg"
   },
   "source": [
    "Generators are excellent medium to represent an infinite stream of data. Infinite streams cannot be stored in memory and since generators produce only one item at a time, it can represent infinite stream of data."
   ]
  },
  {
   "cell_type": "code",
   "execution_count": 81,
   "metadata": {
    "colab": {},
    "colab_type": "code",
    "id": "CJMB3YfNp1gg"
   },
   "outputs": [],
   "source": [
    "#The following example can generate all the even numbers\n",
    "\n",
    "def all_even():\n",
    "    n = 0\n",
    "    while True:\n",
    "        yield n\n",
    "        n += 2"
   ]
  },
  {
   "cell_type": "code",
   "execution_count": 82,
   "metadata": {
    "colab": {},
    "colab_type": "code",
    "id": "bo-igBCAp1gi"
   },
   "outputs": [],
   "source": [
    "#for All_even in all_even():\n",
    "#    print(All_even)"
   ]
  },
  {
   "cell_type": "code",
   "execution_count": 83,
   "metadata": {
    "colab": {},
    "colab_type": "code",
    "id": "qUPRfetup1gj",
    "outputId": "9eb3e660-e123-4857-bb83-74899af2984d"
   },
   "outputs": [],
   "source": [
    "a = all_even()"
   ]
  },
  {
   "cell_type": "code",
   "execution_count": 84,
   "metadata": {
    "colab": {},
    "colab_type": "code",
    "id": "tg2SMcIdp1gn",
    "outputId": "cb5d3df9-04a6-4c98-9888-c97e3e41bab0"
   },
   "outputs": [
    {
     "data": {
      "text/plain": [
       "0"
      ]
     },
     "execution_count": 84,
     "metadata": {},
     "output_type": "execute_result"
    }
   ],
   "source": [
    "a.__next__()"
   ]
  },
  {
   "cell_type": "markdown",
   "metadata": {
    "colab_type": "text",
    "id": "re-zVVymp1gr"
   },
   "source": [
    "## Args and Kwargs\n",
    "The idea behind *args and **kwargs is that there may be times when you have a function and you want to be able to handle an unknown number of arguments. The *args will handle for any number of parameters, and **kwargs will handle for any number of keyword arguments (hence kwargs)\n",
    "\n",
    "The special syntax *args in function definitions in python is used to pass a variable number of arguments to a function. It is used to pass a non-keyworded, variable-length argument list.\n",
    "\n",
    "The special syntax **kwargs in function definitions in python is used to pass a keyworded, variable-length argument list."
   ]
  },
  {
   "cell_type": "code",
   "execution_count": 85,
   "metadata": {
    "colab": {},
    "colab_type": "code",
    "id": "TiW3bFDjp1gr"
   },
   "outputs": [],
   "source": [
    "comment_1 = \"This is good\"\n",
    "comment_2 = \"This is OK\"\n",
    "Comment_3 = \"I like cats.. Aww\""
   ]
  },
  {
   "cell_type": "markdown",
   "metadata": {
    "colab_type": "text",
    "id": "NSW_2Ezqp1gt"
   },
   "source": [
    "Now, you can have a function that iterates through them and just prints them   "
   ]
  },
  {
   "cell_type": "code",
   "execution_count": 86,
   "metadata": {
    "colab": {},
    "colab_type": "code",
    "id": "EV3xGHjCp1gu"
   },
   "outputs": [],
   "source": [
    "def comment(*args):\n",
    "    for post in args:\n",
    "        print(post)\n",
    "        "
   ]
  },
  {
   "cell_type": "markdown",
   "metadata": {
    "colab_type": "text",
    "id": "R3KtOy_xp1gw"
   },
   "source": [
    "It's very similar to if you were to pass a list as a parameter, then iterated through that list. We can do:"
   ]
  },
  {
   "cell_type": "code",
   "execution_count": 87,
   "metadata": {
    "colab": {},
    "colab_type": "code",
    "id": "NNfy0vzvp1gx",
    "outputId": "97429287-7815-4d59-87df-ff72018f7752"
   },
   "outputs": [
    {
     "name": "stdout",
     "output_type": "stream",
     "text": [
      "This is good\n"
     ]
    }
   ],
   "source": [
    "comment(comment_1)"
   ]
  },
  {
   "cell_type": "markdown",
   "metadata": {
    "colab_type": "text",
    "id": "jOdZtMatp1gz"
   },
   "source": [
    "We can also do:"
   ]
  },
  {
   "cell_type": "code",
   "execution_count": 88,
   "metadata": {
    "colab": {},
    "colab_type": "code",
    "id": "ySB7jh_Mp1gz",
    "outputId": "9d990c85-f39c-44e4-b991-91cdfc91a463"
   },
   "outputs": [
    {
     "name": "stdout",
     "output_type": "stream",
     "text": [
      "This is good\n",
      "This is OK\n",
      "I like cats.. Aww\n"
     ]
    }
   ],
   "source": [
    "comment(comment_1, comment_2, Comment_3)"
   ]
  },
  {
   "cell_type": "markdown",
   "metadata": {
    "colab_type": "text",
    "id": "xIJej7Pjp1g1"
   },
   "source": [
    "We can also use *args with regular parameters:"
   ]
  },
  {
   "cell_type": "code",
   "execution_count": 89,
   "metadata": {
    "colab": {},
    "colab_type": "code",
    "id": "zeDHwZb7p1g1",
    "outputId": "c6ed131e-85c5-49b1-a9c6-5ce1adf724c6"
   },
   "outputs": [
    {
     "name": "stdout",
     "output_type": "stream",
     "text": [
      "comment: \n",
      "This is good\n",
      "This is OK\n",
      "I like cats.. Aww\n"
     ]
    }
   ],
   "source": [
    "def comment(regular_args, *args):\n",
    "    print(regular_args)\n",
    "    for post in args:\n",
    "        print(post)\n",
    "        \n",
    "comment(\"comment: \" , comment_1, comment_2, Comment_3 )"
   ]
  },
  {
   "cell_type": "markdown",
   "metadata": {
    "colab_type": "text",
    "id": "vNZGFWB7p1g3"
   },
   "source": [
    "Now, there will be many times where you want args that are still assigned to some sort of name, which is where keyword arguments, **kwargs come in! Where *args are like a list, **kwargs are like a dictionary."
   ]
  },
  {
   "cell_type": "code",
   "execution_count": 90,
   "metadata": {
    "colab": {},
    "colab_type": "code",
    "id": "8A0bJWlUp1g4",
    "outputId": "cd74ab3f-8e39-4534-9a0c-7a222d5aa535"
   },
   "outputs": [
    {
     "name": "stdout",
     "output_type": "stream",
     "text": [
      "bicky Ice Cream\n",
      "manu Teddy\n",
      "hanu Chocklates\n"
     ]
    }
   ],
   "source": [
    "def comment(**kwargs):\n",
    "    for post in kwargs:\n",
    "        print(post, kwargs[post])\n",
    "        \n",
    "comment(bicky=\"Ice Cream\", manu=\"Teddy\", hanu=\"Chocklates\")"
   ]
  },
  {
   "cell_type": "markdown",
   "metadata": {
    "colab_type": "text",
    "id": "kVieVEM_p1g5"
   },
   "source": [
    "<h2>lamda function</h2>\n",
    "\n",
    "The lambda operator or lambda function is a way to create small anonymous functions, i.e. functions without a name. These functions are throw-away functions, i.e. they are just needed where they have been created. Lambda functions are mainly used in combination with the functions filter(), map() and reduce()"
   ]
  },
  {
   "cell_type": "code",
   "execution_count": 91,
   "metadata": {
    "colab": {},
    "colab_type": "code",
    "id": "HJBpcGLMp1hA",
    "outputId": "008de757-ecb7-4806-8b9f-c46f8449e35a"
   },
   "outputs": [
    {
     "name": "stdout",
     "output_type": "stream",
     "text": [
      "2\n"
     ]
    }
   ],
   "source": [
    "def sum(x=1):\n",
    "    print(x+1)\n",
    "    \n",
    "    \n",
    "sum()"
   ]
  },
  {
   "cell_type": "code",
   "execution_count": 92,
   "metadata": {
    "colab": {},
    "colab_type": "code",
    "id": "WV90m-wvp1hC",
    "outputId": "a8bd91fa-7874-4da1-bc9e-9309ac77d8bf"
   },
   "outputs": [
    {
     "data": {
      "text/plain": [
       "2"
      ]
     },
     "execution_count": 92,
     "metadata": {},
     "output_type": "execute_result"
    }
   ],
   "source": [
    "f = lambda x: x+1\n",
    "f(1)"
   ]
  },
  {
   "cell_type": "markdown",
   "metadata": {
    "colab_type": "text",
    "id": "h7X5CvQbp1hF"
   },
   "source": [
    "## The Map function\n",
    "The advantage of the lambda operator can be seen when it is used in combination with the map() function. \n",
    "map() is a function with two arguments:"
   ]
  },
  {
   "cell_type": "markdown",
   "metadata": {
    "colab_type": "text",
    "id": "IM3jPHrNp1hF"
   },
   "source": [
    "r = map(fun, seq)\n",
    "\n",
    "#The first argument func is the name of a function\n",
    "#Second is sequence"
   ]
  },
  {
   "cell_type": "code",
   "execution_count": 93,
   "metadata": {
    "colab": {},
    "colab_type": "code",
    "id": "tjJAWLEMp1hG",
    "outputId": "4854e698-fa5f-415a-ea98-b1819161151c"
   },
   "outputs": [
    {
     "data": {
      "text/plain": [
       "5"
      ]
     },
     "execution_count": 93,
     "metadata": {},
     "output_type": "execute_result"
    }
   ],
   "source": [
    "def add(x, y): \n",
    "    return x + y\n",
    "  \n",
    "add(2, 3)"
   ]
  },
  {
   "cell_type": "code",
   "execution_count": 94,
   "metadata": {
    "colab": {},
    "colab_type": "code",
    "id": "hZl_fyqVp1hI",
    "outputId": "d61b26cb-8b57-4d05-b4af-6fe7883a91de"
   },
   "outputs": [
    {
     "name": "stdout",
     "output_type": "stream",
     "text": [
      "5\n"
     ]
    }
   ],
   "source": [
    "add = lambda x, y: x+y\n",
    "print(add(2, 3))"
   ]
  },
  {
   "cell_type": "code",
   "execution_count": 95,
   "metadata": {
    "colab": {},
    "colab_type": "code",
    "id": "4gQkLoe-p1hK",
    "outputId": "8c880dcc-b566-4984-f568-f7d7e49b5528"
   },
   "outputs": [
    {
     "name": "stdout",
     "output_type": "stream",
     "text": [
      "[2, 4, 6, 8, 10]\n"
     ]
    }
   ],
   "source": [
    "def multiply2(x):\n",
    "    return x * 2\n",
    "\n",
    "mult = map(multiply2, [1, 2, 3, 4, 5])\n",
    "print(list(mult))"
   ]
  },
  {
   "cell_type": "code",
   "execution_count": 96,
   "metadata": {
    "colab": {},
    "colab_type": "code",
    "id": "iW68a5S0p1hM"
   },
   "outputs": [],
   "source": [
    "mult = map(lambda x: x*2, [1, 2, 3, 4, 5] )"
   ]
  },
  {
   "cell_type": "markdown",
   "metadata": {
    "colab_type": "text",
    "id": "KwGA1C1Bp1hN"
   },
   "source": [
    "### Iterating over a dictionary using map and lambda"
   ]
  },
  {
   "cell_type": "code",
   "execution_count": 97,
   "metadata": {
    "colab": {},
    "colab_type": "code",
    "id": "-5nSYl34p1hN",
    "outputId": "de35fd7d-568c-4b1e-9fe1-d24b6687bde6"
   },
   "outputs": [
    {
     "name": "stdout",
     "output_type": "stream",
     "text": [
      "['python', 'java']\n",
      "[100, 80]\n",
      "[True, False]\n"
     ]
    }
   ],
   "source": [
    "dict_a =[{'name':'python','points': 10},{'name':'java','points': 8}]\n",
    "\n",
    "x_d1 = map(lambda x : x['name'], dict_a)\n",
    "\n",
    "x_d2 = map(lambda x : x['points']*10,  dict_a) # Output: [100, 80]\n",
    "\n",
    "x_d3 = map(lambda x : x['name'] == \"python\", dict_a) # Output: [True, False]\n",
    "\n",
    "print(list(x_d1))\n",
    "print(list(x_d2))\n",
    "print(list(x_d3))"
   ]
  },
  {
   "cell_type": "markdown",
   "metadata": {
    "colab_type": "text",
    "id": "REMcAFZKp1hO"
   },
   "source": [
    "## Multiple iterables to the map function"
   ]
  },
  {
   "cell_type": "code",
   "execution_count": 98,
   "metadata": {
    "colab": {},
    "colab_type": "code",
    "id": "czG67QSpp1hO",
    "outputId": "401baa13-f672-4adb-c28a-e8b8300a26cc"
   },
   "outputs": [
    {
     "name": "stdout",
     "output_type": "stream",
     "text": [
      "[11, 22, 33]\n"
     ]
    }
   ],
   "source": [
    "list_a = [1, 2, 3]\n",
    "list_b = [10, 20, 30]\n",
    "\n",
    "x_d4 = map(lambda x, y: x + y, list_a, list_b)\n",
    "print(list(x_d4))"
   ]
  },
  {
   "cell_type": "markdown",
   "metadata": {
    "colab_type": "text",
    "id": "5M6HvxDqp1hd"
   },
   "source": [
    "## Python Internet Access using urllib"
   ]
  },
  {
   "cell_type": "markdown",
   "metadata": {
    "colab_type": "text",
    "id": "mzuikW-Dp1he"
   },
   "source": [
    "urllib is a Python module that can be used for opening URLs. It defines functions and classes to help in URL actions. With Python you can also access and retrieve data from the internet like XML, HTML, JSON, etc."
   ]
  },
  {
   "cell_type": "markdown",
   "metadata": {
    "colab_type": "text",
    "id": "DQx684eKp1he"
   },
   "source": [
    "### How to Open URL using Urllib"
   ]
  },
  {
   "cell_type": "code",
   "execution_count": null,
   "metadata": {
    "colab": {},
    "colab_type": "code",
    "id": "xrDGnHYHp1hf",
    "outputId": "c9800871-cd7e-474f-c3c1-3f4942b1f0e3"
   },
   "outputs": [
    {
     "name": "stdout",
     "output_type": "stream",
     "text": [
      "result string 200\n"
     ]
    }
   ],
   "source": [
    "#to read data from url and to print it\n",
    "import urllib.request\n",
    "\n",
    "# open a connection to url using urllib\n",
    "weburl = urllib.request.urlopen('http://www.learndatasci.com/k-means-clustering-algorithms-python-intro/')\n",
    "\n",
    "#get the result code and print it\n",
    "print(\"result string \" + str(weburl.getcode()))\n",
    "\n",
    "#reult code is 200 means HTTP request is processing successfully"
   ]
  },
  {
   "cell_type": "markdown",
   "metadata": {
    "colab_type": "text",
    "id": "_eHO-VCYp1hg"
   },
   "source": [
    "### How to get the HTML file from URL in python"
   ]
  },
  {
   "cell_type": "code",
   "execution_count": null,
   "metadata": {
    "colab": {},
    "colab_type": "code",
    "id": "q_IkZGSHp1hh",
    "outputId": "82c29997-dfd9-46e6-b58b-c1ecdddb89cf"
   },
   "outputs": [
    {
     "name": "stdout",
     "output_type": "stream",
     "text": [
      "b'<!DOCTYPE html><html\\nlang=\"en-US\" prefix=\"og: http://ogp.me/ns# og: http://ogp.me/ns#\"><head><link\\nrel=\"stylesheet\" type=\"text/css\" href=\"http://www.learndatasci.com/wp-content/cache/minify/1b877.css\" media=\"all\" /><meta\\ncharset=\"UTF-8\" /><meta\\ncharset=\"utf-8\"><meta\\nname=\"viewport\" content=\"width=device-width, initial-scale=1\"><link\\nrel=\"profile\" href=\"http://gmpg.org/xfn/11\" /><link\\nrel=\"pingback\" href=\"http://www.learndatasci.com/xmlrpc.php\" /><title>K-Means &amp; Other Clustering Algorithms: A Quick Intro with Python &ndash; LearnDataSci</title><meta\\nproperty=\"og:locale\" content=\"en_US\" /><meta\\nproperty=\"og:type\" content=\"article\" /><meta\\nproperty=\"og:title\" content=\"K-Means &amp; Other Clustering Algorithms: A Quick Intro with Python\" /><meta\\nproperty=\"og:description\" content=\"In this intro cluster analysis tutorial, we&#039;ll check out a few algorithms in Python so you can get a\\xc2\\xa0basic understanding of the fundamentals of clustering on a real dataset...\" /><meta\\nproperty=\"og:url\" content=\"http://www.learndatasci.com/k-means-clustering-algorithms-python-intro/\" /><meta\\nproperty=\"og:site_name\" content=\"LearnDataSci\" /><meta\\nproperty=\"article:publisher\" content=\"https://facebook.com/learndatasci\" /><meta\\nproperty=\"article:section\" content=\"Uncategorized\" /><meta\\nproperty=\"article:published_time\" content=\"2017-02-02T22:53:10+00:00\" /><meta\\nproperty=\"article:modified_time\" content=\"2017-07-03T14:33:02+00:00\" /><meta\\nproperty=\"og:updated_time\" content=\"2017-07-03T14:33:02+00:00\" /><link\\nrel=\"canonical\" href=\"http://www.learndatasci.com/k-means-clustering-algorithms-python-intro/\" /><meta\\nproperty=\"og:locale\" content=\"en_US\" /><meta\\nproperty=\"og:type\" content=\"article\" /><meta\\nproperty=\"og:title\" content=\"K-Means &amp; Other Clustering Algorithms: A Quick Intro with Python &ndash; LearnDataSci\" /><meta\\nproperty=\"og:description\" content=\"In this intro cluster analysis tutorial, we&#039;ll check out a few algorithms in Python so you can get a\\xc2\\xa0basic understanding of the fundamentals of clustering on a real dataset...\" /><meta\\nproperty=\"og:url\" content=\"http://www.learndatasci.com/k-means-clustering-algorithms-python-intro/\" /><meta\\nproperty=\"og:site_name\" content=\"LearnDataSci\" /><meta\\nproperty=\"article:publisher\" content=\"https://www.facebook.com/learndatasci\" /><meta\\nproperty=\"article:section\" content=\"Uncategorized\" /><meta\\nproperty=\"article:published_time\" content=\"2017-02-02T22:53:10+00:00\" /><meta\\nproperty=\"article:modified_time\" content=\"2017-07-03T14:33:02+00:00\" /><meta\\nproperty=\"og:updated_time\" content=\"2017-07-03T14:33:02+00:00\" /><meta\\nproperty=\"og:image\" content=\"http://www.learndatasci.com/wp-content/uploads/2017/07/Social-Network-Model-of-Relationships-in-the-Karate-Club.png\" /><meta\\nproperty=\"og:image\" content=\"http://www.learndatasci.com/wp-content/uploads/2017/02/zacharys-karate-club-cluster-nodes.png\" /><meta\\nproperty=\"og:image\" content=\"http://www.learndatasci.com/wp-content/uploads/2017/02/clustering-score-evaluation.png\" /><meta\\nname=\"twitter:card\" content=\"summary\" /><meta\\nname=\"twitter:description\" content=\"shares Facebook Twitter Google+ Pinterest LinkedIn Digg Del StumbleUpon Tumblr VKontakte Print Email Flattr Reddit Buffer Love This Weibo Pocket\" /><meta\\nname=\"twitter:title\" content=\"K-Means &amp; Other Clustering Algorithms: A Quick Intro with Python &ndash; LearnDataSci\" /><meta\\nname=\"twitter:site\" content=\"@LearnDataSci\" /><meta\\nname=\"twitter:image\" content=\"http://www.learndatasci.com/wp-content/uploads/2017/07/Social-Network-Model-of-Relationships-in-the-Karate-Club.png\" /><meta\\nname=\"twitter:creator\" content=\"@LearnDataSci\" /> <script type=\\'application/ld+json\\'>{\"@context\":\"http:\\\\/\\\\/schema.org\",\"@type\":\"WebSite\",\"@id\":\"#website\",\"url\":\"http:\\\\/\\\\/www.learndatasci.com\\\\/\",\"name\":\"LearnDataSci\",\"potentialAction\":{\"@type\":\"SearchAction\",\"target\":\"http:\\\\/\\\\/www.learndatasci.com\\\\/?s={search_term_string}\",\"query-input\":\"required name=search_term_string\"}}</script> <script type=\\'application/ld+json\\'>{\"@context\":\"http:\\\\/\\\\/schema.org\",\"@type\":\"Organization\",\"url\":\"http:\\\\/\\\\/www.learndatasci.com\\\\/k-means-clustering-algorithms-python-intro\\\\/\",\"sameAs\":[\"https:\\\\/\\\\/www.facebook.com\\\\/learndatasci\",\"https:\\\\/\\\\/instagram.com\\\\/learndatasci\",\"https:\\\\/\\\\/www.linkedin.com\\\\/groups\\\\/Learn-Data-Science-8363411\\\\/about\",\"https:\\\\/\\\\/www.pinterest.com\\\\/learndatasci\",\"https:\\\\/\\\\/twitter.com\\\\/LearnDataSci\"],\"@id\":\"#organization\",\"name\":\"LearnDataSci\",\"logo\":\"http:\\\\/\\\\/www.learndatasci.com\\\\/wp-content\\\\/uploads\\\\/2015\\\\/08\\\\/learndatasci-site-icon.png\"}</script> <link\\nrel=\\'dns-prefetch\\' href=\\'//maxcdn.bootstrapcdn.com\\' /><link\\nrel=\\'dns-prefetch\\' href=\\'//fonts.googleapis.com\\' /><link\\nrel=\\'dns-prefetch\\' href=\\'//s.w.org\\' /><link\\nrel=\"alternate\" type=\"application/rss+xml\" title=\"LearnDataSci &raquo; Feed\" href=\"http://www.learndatasci.com/feed/\" /><link\\nrel=\"alternate\" type=\"application/rss+xml\" title=\"LearnDataSci &raquo; Comments Feed\" href=\"http://www.learndatasci.com/comments/feed/\" /> <script type=\"text/javascript\">/*<![CDATA[*/window._wpemojiSettings={\"baseUrl\":\"https:\\\\/\\\\/s.w.org\\\\/images\\\\/core\\\\/emoji\\\\/2.3\\\\/72x72\\\\/\",\"ext\":\".png\",\"svgUrl\":\"https:\\\\/\\\\/s.w.org\\\\/images\\\\/core\\\\/emoji\\\\/2.3\\\\/svg\\\\/\",\"svgExt\":\".svg\",\"source\":{\"concatemoji\":\"http:\\\\/\\\\/www.learndatasci.com\\\\/wp-includes\\\\/js\\\\/wp-emoji-release.min.js?ver=4.8.4\"}};!function(a,b,c){function d(a){var b,c,d,e,f=String.fromCharCode;if(!k||!k.fillText)return!1;switch(k.clearRect(0,0,j.width,j.height),k.textBaseline=\"top\",k.font=\"600 32px Arial\",a){case\"flag\":return k.fillText(f(55356,56826,55356,56819),0,0),b=j.toDataURL(),k.clearRect(0,0,j.width,j.height),k.fillText(f(55356,56826,8203,55356,56819),0,0),c=j.toDataURL(),b!==c&&(k.clearRect(0,0,j.width,j.height),k.fillText(f(55356,57332,56128,56423,56128,56418,56128,56421,56128,56430,56128,56423,56128,56447),0,0),b=j.toDataURL(),k.clearRect(0,0,j.width,j.height),k.fillText(f(55356,57332,8203,56128,56423,8203,56128,56418,8203,56128,56421,8203,56128,56430,8203,56128,56423,8203,56128,56447),0,0),c=j.toDataURL(),b!==c);case\"emoji4\":return k.fillText(f(55358,56794,8205,9794,65039),0,0),d=j.toDataURL(),k.clearRect(0,0,j.width,j.height),k.fillText(f(55358,56794,8203,9794,65039),0,0),e=j.toDataURL(),d!==e}return!1}function e(a){var c=b.createElement(\"script\");c.src=a,c.defer=c.type=\"text/javascript\",b.getElementsByTagName(\"head\")[0].appendChild(c)}var f,g,h,i,j=b.createElement(\"canvas\"),k=j.getContext&&j.getContext(\"2d\");for(i=Array(\"flag\",\"emoji4\"),c.supports={everything:!0,everythingExceptFlag:!0},h=0;h<i.length;h++)c.supports[i[h]]=d(i[h]),c.supports.everything=c.supports.everything&&c.supports[i[h]],\"flag\"!==i[h]&&(c.supports.everythingExceptFlag=c.supports.everythingExceptFlag&&c.supports[i[h]]);c.supports.everythingExceptFlag=c.supports.everythingExceptFlag&&!c.supports.flag,c.DOMReady=!1,c.readyCallback=function(){c.DOMReady=!0},c.supports.everything||(g=function(){c.readyCallback()},b.addEventListener?(b.addEventListener(\"DOMContentLoaded\",g,!1),a.addEventListener(\"load\",g,!1)):(a.attachEvent(\"onload\",g),b.attachEvent(\"onreadystatechange\",function(){\"complete\"===b.readyState&&c.readyCallback()})),f=c.source||{},f.concatemoji?e(f.concatemoji):f.wpemoji&&f.twemoji&&(e(f.twemoji),e(f.wpemoji)))}(window,document,window._wpemojiSettings);/*]]>*/</script> <style type=\"text/css\">img.wp-smiley,img.emoji{display:inline !important;border:none !important;box-shadow:none !important;height:1em !important;width:1em !important;margin:0\\n.07em !important;vertical-align:-0.1em !important;background:none !important;padding:0\\n!important}</style><link\\nrel=\\'stylesheet\\' id=\\'bootstrap-css\\'  href=\\'//maxcdn.bootstrapcdn.com/bootstrap/3.3.7/css/bootstrap.min.css?ver=4.8.4\\' type=\\'text/css\\' media=\\'all\\' /><link\\nrel=\\'stylesheet\\' id=\\'colormag_google_fonts-css\\'  href=\\'//fonts.googleapis.com/css?family=Open+Sans%3A400%2C600&#038;ver=4.8.4\\' type=\\'text/css\\' media=\\'all\\' /><link\\nrel=\\'stylesheet\\' id=\\'colormag_style-css\\'  href=\\'http://www.learndatasci.com/wp-content/themes/colormag-child/style.css?ver=4.8.4\\' type=\\'text/css\\' media=\\'all\\' /> <script type=\"text/javascript\" src=\"http://www.learndatasci.com/wp-content/cache/minify/df983.js\"></script> <script type=\\'text/javascript\\' src=\\'//maxcdn.bootstrapcdn.com/bootstrap/3.3.7/js/bootstrap.min.js?ver=1\\'></script> <script type=\"text/javascript\" src=\"http://www.learndatasci.com/wp-content/cache/minify/b3d65.js\"></script> <!--[if lte IE 8]> <script type=\\'text/javascript\\' src=\\'http://www.learndatasci.com/wp-content/themes/colormag/js/html5shiv.min.js?ver=4.8.4\\'></script> <![endif]--><link\\nrel=\\'https://api.w.org/\\' href=\\'http://www.learndatasci.com/wp-json/\\' /><link\\nrel=\"EditURI\" type=\"application/rsd+xml\" title=\"RSD\" href=\"http://www.learndatasci.com/xmlrpc.php?rsd\" /><link\\nrel=\"wlwmanifest\" type=\"application/wlwmanifest+xml\" href=\"http://www.learndatasci.com/wp-includes/wlwmanifest.xml\" /><meta\\nname=\"generator\" content=\"WordPress 4.8.4\" /><link\\nrel=\\'shortlink\\' href=\\'http://www.learndatasci.com/?p=839\\' /><link\\nrel=\"alternate\" type=\"application/json+oembed\" href=\"http://www.learndatasci.com/wp-json/oembed/1.0/embed?url=http%3A%2F%2Fwww.learndatasci.com%2Fk-means-clustering-algorithms-python-intro%2F\" /><link\\nrel=\"alternate\" type=\"text/xml+oembed\" href=\"http://www.learndatasci.com/wp-json/oembed/1.0/embed?url=http%3A%2F%2Fwww.learndatasci.com%2Fk-means-clustering-algorithms-python-intro%2F&#038;format=xml\" /> <script data-cfasync=\"false\" src=\"//load.sumome.com/\" data-sumo-platform=\"wordpress\" data-sumo-site-id=\"25e88e2a737863501c2c68bc56522e4beac9435f62b1a4d858b809a61b6cadff\" async></script> <script type=\"text/javascript\">var essb_settings={\"ajax_url\":\"http:\\\\/\\\\/www.learndatasci.com\\\\/wp-admin\\\\/admin-ajax.php\",\"essb3_nonce\":\"e7346ecdef\",\"essb3_plugin_url\":\"http:\\\\/\\\\/www.learndatasci.com\\\\/wp-content\\\\/plugins\\\\/easy-social-share-buttons3\",\"essb3_facebook_total\":true,\"essb3_admin_ajax\":true,\"essb3_internal_counter\":true,\"essb3_stats\":true,\"essb3_ga\":true,\"essb3_ga_mode\":\"simple\",\"essb3_counter_button_min\":0,\"essb3_counter_total_min\":10,\"blog_url\":\"http:\\\\/\\\\/www.learndatasci.com\\\\/\",\"ajax_type\":\"wp\",\"essb3_postfloat_stay\":false,\"essb3_no_counter_mailprint\":false,\"essb3_single_ajax\":false,\"twitter_counter\":\"self\",\"post_id\":839,\"postfloat_top\":\"100\"};</script><link\\nrel=\"icon\" href=\"http://www.learndatasci.com/wp-content/uploads/2015/08/cropped-learndatasci-site-icon-32x32.png\" sizes=\"32x32\" /><link\\nrel=\"icon\" href=\"http://www.learndatasci.com/wp-content/uploads/2015/08/cropped-learndatasci-site-icon-192x192.png\" sizes=\"192x192\" /><link\\nrel=\"apple-touch-icon-precomposed\" href=\"http://www.learndatasci.com/wp-content/uploads/2015/08/cropped-learndatasci-site-icon-180x180.png\" /><meta\\nname=\"msapplication-TileImage\" content=\"http://www.learndatasci.com/wp-content/uploads/2015/08/cropped-learndatasci-site-icon-270x270.png\" /> <script type=\"text/javascript\" src=\"http://www.learndatasci.com/wp-content/cache/minify/7e723.js\"></script> <script>WebFont.load({google:{families:[\"Open Sans:300,300italic,400,400italic,600,600italic,700,700italic,800,800italic\"]}});</script> <script>(function(i,s,o,g,r,a,m){i[\\'GoogleAnalyticsObject\\']=r;i[r]=i[r]||function(){(i[r].q=i[r].q||[]).push(arguments)},i[r].l=1*new Date();a=s.createElement(o),m=s.getElementsByTagName(o)[0];a.async=1;a.src=g;m.parentNode.insertBefore(a,m)})(window,document,\\'script\\',\\'https://www.google-analytics.com/analytics.js\\',\\'ga\\');ga(\\'create\\',\\'UA-66214322-1\\',\\'auto\\');ga(\\'send\\',\\'pageview\\');</script>  <script>/*<![CDATA[*/(function(w,d,s,l,i){w[l]=w[l]||[];w[l].push({\\'gtm.start\\':new Date().getTime(),event:\\'gtm.js\\'});var f=d.getElementsByTagName(s)[0],j=d.createElement(s),dl=l!=\\'dataLayer\\'?\\'&l=\\'+l:\\'\\';j.async=true;j.src=\\'https://www.googletagmanager.com/gtm.js?id=\\'+i+dl;f.parentNode.insertBefore(j,f);})(window,document,\\'script\\',\\'dataLayer\\',\\'GTM-TKDFRWD\\');/*]]>*/</script> </head><body\\nclass=\"post-template-default single single-post postid-839 single-format-standard no-sidebar wide\"><noscript><iframe\\nsrc=\"https://www.googletagmanager.com/ns.html?id=GTM-TKDFRWD\"\\nheight=\"0\" width=\"0\" style=\"display:none;visibility:hidden\"></iframe></noscript> <script>window.twttr=(function(d,s,id){var js,fjs=d.getElementsByTagName(s)[0],t=window.twttr||{};if(d.getElementById(id))return t;js=d.createElement(s);js.id=id;js.src=\"https://platform.twitter.com/widgets.js\";fjs.parentNode.insertBefore(js,fjs);t._e=[];t.ready=function(f){t._e.push(f);};return t;}(document,\"script\",\"twitter-wjs\"));</script> <div\\nid=\"page\" class=\"hfeed site\">\\n<header\\nid=\"masthead\" class=\"site-header clearfix\"><div\\nid=\"header-text-nav-container\" class=\"clearfix\"><div\\nclass=\"inner-wrap\"><div\\nid=\"header-text-nav-wrap\" class=\"clearfix\"><div\\nid=\"header-left-section\"><div\\nid=\"header-text\"><h1 id=\"site-title\"><a\\nhref=\"http://www.learndatasci.com/\" title=\"LearnDataSci\" rel=\"home\">LearnDataSci</a></h1><h2 id=\"site-description\"></h2></div></div><div\\nid=\"header-right-section\"></div></div></div><nav\\nid=\"site-navigation\" class=\"main-navigation clearfix\" role=\"navigation\"><div\\nclass=\"inner-wrap clearfix\"><div\\nclass=\"home-icon\"><a\\nhref=\"http://www.learndatasci.com/\" title=\"LearnDataSci\"><i\\nclass=\"fa fa-home\"></i></a></div><h4 class=\"menu-toggle\"></h4><div\\nclass=\"menu-primary-container\"><ul\\nid=\"menu-menu-1\" class=\"menu\"><li\\nid=\"menu-item-777\" class=\"menu-item menu-item-type-custom menu-item-object-custom menu-item-777\"><a\\nhref=\"/\">Home</a></li><li\\nid=\"menu-item-959\" class=\"menu-item menu-item-type-post_type menu-item-object-page menu-item-959\"><a\\nhref=\"http://www.learndatasci.com/best-data-science-online-courses/\">Courses</a></li><li\\nid=\"menu-item-960\" class=\"menu-item menu-item-type-post_type menu-item-object-page menu-item-960\"><a\\nhref=\"http://www.learndatasci.com/free-data-science-books/\">Free Books</a></li></ul></div></div></nav><div\\nclass=\"parallax-window\" data-parallax=\"scroll\" data-image-src=\"http://www.learndatasci.com/wp-content/themes/colormag-child/img/learn-data-science-header-poly.jpg\"><div\\nclass=\"header-logo\"></div></div></div></header><div\\nid=\"main\" class=\"clearfix\"><div\\nclass=\"inner-wrap clearfix\"><p\\nid=\"breadcrumbs\"><span\\nxmlns:v=\"http://rdf.data-vocabulary.org/#\"><span\\ntypeof=\"v:Breadcrumb\"><a\\nhref=\"http://www.learndatasci.com/\" rel=\"v:url\" property=\"v:title\">Home</a> \\xc2\\xbb <span\\nclass=\"breadcrumb_last\">K-Means &#038; Other Clustering Algorithms: A Quick Intro with Python</span></span></span></p><div\\nid=\"primary\"><div\\nid=\"content\" class=\"clearfix\">\\n<article\\nid=\"post-839\" class=\"post-839 post type-post status-publish format-standard hentry category-uncategorized\"><div\\nclass=\"article-content clearfix\"><div\\nclass=\"above-entry-meta\"><span\\nclass=\"cat-links\"><a\\nhref=\"http://www.learndatasci.com/category/uncategorized/\"  rel=\"category tag\">Uncategorized</a>&nbsp;</span></div>\\n<header\\nclass=\"entry-header\"><h1 class=\"entry-title\">\\nK-Means &#038; Other Clustering Algorithms: A Quick Intro with Python</h1>\\n</header><div\\nclass=\"below-entry-meta\">\\n<span\\nclass=\"posted-on\"><a\\nhref=\"http://www.learndatasci.com/k-means-clustering-algorithms-python-intro/\" title=\"10:53 pm\" rel=\"bookmark\"><i\\nclass=\"fa fa-calendar-o\"></i> <time\\nclass=\"entry-date published\" datetime=\"2017-02-02T22:53:10+00:00\">February 2, 2017</time><time\\nclass=\"updated\" datetime=\"2017-07-03T14:33:02+00:00\">July 3, 2017</time></a></span>\\n<span\\nclass=\"byline\"><span\\nclass=\"author vcard\"><i\\nclass=\"fa fa-user\"></i><a\\nclass=\"url fn n\" href=\"http://www.learndatasci.com/author/nikos-koufos/\" title=\"Nikos Koufos\">Nikos Koufos</a></span></span></div><div\\nclass=\"entry-content clearfix\"><div\\nclass=\"essb_links essb_counters essb_displayed_postfloat essb_share essb_template_grey-blocks-retina essb_2042723061 essb_links_center essb_sharebtn_counter_hidden print-no\" id=\"essb_displayed_postfloat_2042723061\" data-essb-postid=\"839\" data-essb-position=\"postfloat\" data-essb-button-style=\"icon_hover\" data-essb-template=\"grey-blocks-retina\" data-essb-counter-pos=\"inside\" data-essb-url=\"http://www.learndatasci.com/k-means-clustering-algorithms-python-intro/\" data-essb-twitter-url=\"http://www.learndatasci.com/k-means-clustering-algorithms-python-intro/\" data-essb-instance=\"2042723061\"><ul\\nclass=\"essb_links_list essb_hide_name\"><li\\nclass=\"essb_item essb_totalcount_item\" style=\"display: none !important;\" data-essb-hide-till=\"10\" data-counter-pos=\"inside\"><span\\nclass=\"essb_totalcount essb_t_l_big \" title=\"\" data-shares-text=\"shares\"><span\\nclass=\"essb_t_nb\"><span\\nclass=\"essb_t_nb_after\">shares</span></span></span></li><li\\nclass=\"essb_item essb_link_facebook nolightbox\"> <a\\nhref=\"https://www.facebook.com/sharer/sharer.php?u=http://www.learndatasci.com/k-means-clustering-algorithms-python-intro/&#038;t=K-Means+%26+Other+Clustering+Algorithms%3A+A+Quick+Intro+with+Python&#038;redirect_uri=http://www.learndatasci.com?sharing-thankyou=yes\" title=\"\" onclick=\"essb_window(&#39;https://www.facebook.com/sharer/sharer.php?u=http://www.learndatasci.com/k-means-clustering-algorithms-python-intro/&#038;t=K-Means+%26+Other+Clustering+Algorithms%3A+A+Quick+Intro+with+Python&#038;redirect_uri=http://www.learndatasci.com?sharing-thankyou=yes&#39;,&#39;facebook&#39;,&#39;2042723061&#39;); return false;\" target=\"_blank\" rel=\"nofollow\" ><span\\nclass=\"essb_icon essb_icon_facebook\"></span><span\\nclass=\"essb_network_name\"></span></a></li><li\\nclass=\"essb_item essb_link_twitter nolightbox\"> <a\\nhref=\"#\" title=\"\" onclick=\"essb_window(&#39;https://twitter.com/intent/tweet?text=K-Means+%26+Other+Clustering+Algorithms%3A+A+Quick+Intro+with+Python&amp;url=http://www.learndatasci.com/k-means-clustering-algorithms-python-intro/&amp;counturl=http://www.learndatasci.com/k-means-clustering-algorithms-python-intro/&#39;,&#39;twitter&#39;,&#39;2042723061&#39;); return false;\" target=\"_blank\" rel=\"nofollow\" ><span\\nclass=\"essb_icon essb_icon_twitter\"></span><span\\nclass=\"essb_network_name\"></span></a></li><li\\nclass=\"essb_item essb_link_linkedin nolightbox\"> <a\\nhref=\"https://www.linkedin.com/shareArticle?mini=true&amp;ro=true&amp;trk=EasySocialShareButtons&amp;title=K-Means+%26+Other+Clustering+Algorithms%3A+A+Quick+Intro+with+Python&amp;url=http://www.learndatasci.com/k-means-clustering-algorithms-python-intro/\" title=\"\" onclick=\"essb_window(&#39;https://www.linkedin.com/shareArticle?mini=true&amp;ro=true&amp;trk=EasySocialShareButtons&amp;title=K-Means+%26+Other+Clustering+Algorithms%3A+A+Quick+Intro+with+Python&amp;url=http://www.learndatasci.com/k-means-clustering-algorithms-python-intro/&#39;,&#39;linkedin&#39;,&#39;2042723061&#39;); return false;\" target=\"_blank\" rel=\"nofollow\" ><span\\nclass=\"essb_icon essb_icon_linkedin\"></span><span\\nclass=\"essb_network_name\"></span></a></li><li\\nclass=\"essb_item essb_link_reddit nolightbox\"> <a\\nhref=\"http://reddit.com/submit?url=http://www.learndatasci.com/k-means-clustering-algorithms-python-intro/&amp;title=K-Means+%26+Other+Clustering+Algorithms%3A+A+Quick+Intro+with+Python\" title=\"\" onclick=\"essb_window(&#39;http://reddit.com/submit?url=http://www.learndatasci.com/k-means-clustering-algorithms-python-intro/&amp;title=K-Means+%26+Other+Clustering+Algorithms%3A+A+Quick+Intro+with+Python&#39;,&#39;reddit&#39;,&#39;2042723061&#39;); return false;\" target=\"_blank\" rel=\"nofollow\" ><span\\nclass=\"essb_icon essb_icon_reddit\"></span><span\\nclass=\"essb_network_name\"></span></a></li><li\\nclass=\"essb_item essb_link_hackernews nolightbox\"> <a\\nhref=\"https://news.ycombinator.com/submitlink?u=http://www.learndatasci.com/k-means-clustering-algorithms-python-intro/&#038;t=K-Means+%26+Other+Clustering+Algorithms%3A+A+Quick+Intro+with+Python\" title=\"\" onclick=\"essb_window(&#39;https://news.ycombinator.com/submitlink?u=http://www.learndatasci.com/k-means-clustering-algorithms-python-intro/&#038;t=K-Means+%26+Other+Clustering+Algorithms%3A+A+Quick+Intro+with+Python&#39;,&#39;hackernews&#39;,&#39;2042723061&#39;); return false;\" target=\"_blank\" rel=\"nofollow\" ><span\\nclass=\"essb_icon essb_icon_hackernews\"></span><span\\nclass=\"essb_network_name\"></span></a></li><li\\nclass=\"essb_item essb_link_sharebtn nolightbox\"> <a\\nhref=\"#\" title=\"\" onclick=\"essb_toggle_more_popup(&#39;2042723061&#39;); return false;\" target=\"_blank\" rel=\"nofollow\" ><span\\nclass=\"essb_icon essb_icon_share\"></span><span\\nclass=\"essb_network_name\"></span></a></li></ul><div\\nclass=\"essb_native_buttons essb_native_after_share\"><ul\\nclass=\"essb_links\"></ul></div></div><div\\nclass=\"essb_morepopup essb_morepopup_2042723061 essb_morepopup_postfloat\" style=\"display:none;\"> <a\\nhref=\"#\" class=\"essb_morepopup_close\" onclick=\"essb_toggle_less_popup(\\'2042723061\\'); return false;\"><i\\nclass=\"essb_icon_close\"></i></a></p><div\\nclass=\"essb_morepopup_content essb_morepopup_content_2042723061\"><div\\nclass=\"essb_links essb_displayed_more_popup essb_share essb_template_grey-blocks-retina essb_1258654692 essb_width_columns_3 essb_links_center print-no\" id=\"essb_displayed_more_popup_1258654692\" data-essb-postid=\"839\" data-essb-position=\"more_popup\" data-essb-button-style=\"button\" data-essb-template=\"grey-blocks-retina\" data-essb-counter-pos=\"left\" data-essb-url=\"http://www.learndatasci.com/k-means-clustering-algorithms-python-intro/\" data-essb-twitter-url=\"http://www.learndatasci.com/k-means-clustering-algorithms-python-intro/\" data-essb-instance=\"1258654692\"><ul\\nclass=\"essb_links_list\"><li\\nclass=\"essb_item essb_link_facebook nolightbox\"> <a\\nhref=\"https://www.facebook.com/sharer/sharer.php?u=http://www.learndatasci.com/k-means-clustering-algorithms-python-intro/&#038;t=K-Means+%26+Other+Clustering+Algorithms%3A+A+Quick+Intro+with+Python&#038;redirect_uri=http://www.learndatasci.com?sharing-thankyou=yes\" title=\"\" onclick=\"essb_window(&#39;https://www.facebook.com/sharer/sharer.php?u=http://www.learndatasci.com/k-means-clustering-algorithms-python-intro/&#038;t=K-Means+%26+Other+Clustering+Algorithms%3A+A+Quick+Intro+with+Python&#038;redirect_uri=http://www.learndatasci.com?sharing-thankyou=yes&#39;,&#39;facebook&#39;,&#39;1258654692&#39;); return false;\" target=\"_blank\" rel=\"nofollow\" ><span\\nclass=\"essb_icon essb_icon_facebook\"></span><span\\nclass=\"essb_network_name\">Facebook</span></a></li><li\\nclass=\"essb_item essb_link_twitter nolightbox\"> <a\\nhref=\"#\" title=\"\" onclick=\"essb_window(&#39;https://twitter.com/intent/tweet?text=K-Means+%26+Other+Clustering+Algorithms%3A+A+Quick+Intro+with+Python&amp;url=http://www.learndatasci.com/k-means-clustering-algorithms-python-intro/&amp;counturl=http://www.learndatasci.com/k-means-clustering-algorithms-python-intro/&#39;,&#39;twitter&#39;,&#39;1258654692&#39;); return false;\" target=\"_blank\" rel=\"nofollow\" ><span\\nclass=\"essb_icon essb_icon_twitter\"></span><span\\nclass=\"essb_network_name\">Twitter</span></a></li><li\\nclass=\"essb_item essb_link_google nolightbox\"> <a\\nhref=\"https://plus.google.com/share?url=http://www.learndatasci.com/k-means-clustering-algorithms-python-intro/\" title=\"\" onclick=\"essb_window(&#39;https://plus.google.com/share?url=http://www.learndatasci.com/k-means-clustering-algorithms-python-intro/&#39;,&#39;google&#39;,&#39;1258654692&#39;); return false;\" target=\"_blank\" rel=\"nofollow\" ><span\\nclass=\"essb_icon essb_icon_google\"></span><span\\nclass=\"essb_network_name\">Google+</span></a></li><li\\nclass=\"essb_item essb_link_pinterest nolightbox\"> <a\\nhref=\"#\" title=\"\" onclick=\"essb_pinterest_picker(&#39;1258654692&#39;); return false;\" target=\"_blank\" rel=\"nofollow\" ><span\\nclass=\"essb_icon essb_icon_pinterest\"></span><span\\nclass=\"essb_network_name\">Pinterest</span></a></li><li\\nclass=\"essb_item essb_link_linkedin nolightbox\"> <a\\nhref=\"https://www.linkedin.com/shareArticle?mini=true&amp;ro=true&amp;trk=EasySocialShareButtons&amp;title=K-Means+%26+Other+Clustering+Algorithms%3A+A+Quick+Intro+with+Python&amp;url=http://www.learndatasci.com/k-means-clustering-algorithms-python-intro/\" title=\"\" onclick=\"essb_window(&#39;https://www.linkedin.com/shareArticle?mini=true&amp;ro=true&amp;trk=EasySocialShareButtons&amp;title=K-Means+%26+Other+Clustering+Algorithms%3A+A+Quick+Intro+with+Python&amp;url=http://www.learndatasci.com/k-means-clustering-algorithms-python-intro/&#39;,&#39;linkedin&#39;,&#39;1258654692&#39;); return false;\" target=\"_blank\" rel=\"nofollow\" ><span\\nclass=\"essb_icon essb_icon_linkedin\"></span><span\\nclass=\"essb_network_name\">LinkedIn</span></a></li><li\\nclass=\"essb_item essb_link_digg nolightbox\"> <a\\nhref=\"http://digg.com/submit?phase=2amp;url=http://www.learndatasci.com/k-means-clustering-algorithms-python-intro/&amp;title=K-Means+%26+Other+Clustering+Algorithms%3A+A+Quick+Intro+with+Python\" title=\"\" onclick=\"essb_window(&#39;http://digg.com/submit?phase=2amp;url=http://www.learndatasci.com/k-means-clustering-algorithms-python-intro/&amp;title=K-Means+%26+Other+Clustering+Algorithms%3A+A+Quick+Intro+with+Python&#39;,&#39;digg&#39;,&#39;1258654692&#39;); return false;\" target=\"_blank\" rel=\"nofollow\" ><span\\nclass=\"essb_icon essb_icon_digg\"></span><span\\nclass=\"essb_network_name\">Digg</span></a></li><li\\nclass=\"essb_item essb_link_del nolightbox\"> <a\\nhref=\"https://del.icio.us/login?log=out&#038;provider=essb&#038;title=K-Means+%26+Other+Clustering+Algorithms%3A+A+Quick+Intro+with+Python&#038;url=http://www.learndatasci.com/k-means-clustering-algorithms-python-intro/&#038;v=5\" title=\"\" onclick=\"essb_window(&#39;https://del.icio.us/login?log=out&#038;provider=essb&#038;title=K-Means+%26+Other+Clustering+Algorithms%3A+A+Quick+Intro+with+Python&#038;url=http://www.learndatasci.com/k-means-clustering-algorithms-python-intro/&#038;v=5&#39;,&#39;del&#39;,&#39;1258654692&#39;); return false;\" target=\"_blank\" rel=\"nofollow\" ><span\\nclass=\"essb_icon essb_icon_del\"></span><span\\nclass=\"essb_network_name\">Del</span></a></li><li\\nclass=\"essb_item essb_link_stumbleupon nolightbox\"> <a\\nhref=\"http://www.stumbleupon.com/badge/?url=http://www.learndatasci.com/k-means-clustering-algorithms-python-intro/\" title=\"\" onclick=\"essb_window(&#39;http://www.stumbleupon.com/badge/?url=http://www.learndatasci.com/k-means-clustering-algorithms-python-intro/&#39;,&#39;stumbleupon&#39;,&#39;1258654692&#39;); return false;\" target=\"_blank\" rel=\"nofollow\" ><span\\nclass=\"essb_icon essb_icon_stumbleupon\"></span><span\\nclass=\"essb_network_name\">StumbleUpon</span></a></li><li\\nclass=\"essb_item essb_link_tumblr nolightbox\"> <a\\nhref=\"http://tumblr.com/share?s=&#038;v=3&#038;t=K-Means+%26+Other+Clustering+Algorithms%3A+A+Quick+Intro+with+Python&#038;u=http%3A%2F%2Fwww.learndatasci.com%2Fk-means-clustering-algorithms-python-intro%2F\" title=\"\" onclick=\"essb_window(&#39;http://tumblr.com/share?s=&#038;v=3&#038;t=K-Means+%26+Other+Clustering+Algorithms%3A+A+Quick+Intro+with+Python&#038;u=http%3A%2F%2Fwww.learndatasci.com%2Fk-means-clustering-algorithms-python-intro%2F&#39;,&#39;tumblr&#39;,&#39;1258654692&#39;); return false;\" target=\"_blank\" rel=\"nofollow\" ><span\\nclass=\"essb_icon essb_icon_tumblr\"></span><span\\nclass=\"essb_network_name\">Tumblr</span></a></li><li\\nclass=\"essb_item essb_link_vk nolightbox\"> <a\\nhref=\"http://vkontakte.ru/share.php?url=http://www.learndatasci.com/k-means-clustering-algorithms-python-intro/\" title=\"\" onclick=\"essb_window(&#39;http://vkontakte.ru/share.php?url=http://www.learndatasci.com/k-means-clustering-algorithms-python-intro/&#39;,&#39;vk&#39;,&#39;1258654692&#39;); return false;\" target=\"_blank\" rel=\"nofollow\" ><span\\nclass=\"essb_icon essb_icon_vk\"></span><span\\nclass=\"essb_network_name\">VKontakte</span></a></li><li\\nclass=\"essb_item essb_link_print nolightbox\"> <a\\nhref=\"#\" title=\"\" onclick=\"essb_print(&#39;1258654692&#39;); return false;\" target=\"_blank\" rel=\"nofollow\" ><span\\nclass=\"essb_icon essb_icon_print\"></span><span\\nclass=\"essb_network_name\">Print</span></a></li><li\\nclass=\"essb_item essb_link_mail nolightbox\"> <a\\nhref=\"#\" title=\"\" onclick=\"essb_open_mailform(&#39;1258654692&#39;); return false;\" target=\"_blank\" rel=\"nofollow\" ><span\\nclass=\"essb_icon essb_icon_mail\"></span><span\\nclass=\"essb_network_name\">Email</span></a></li><li\\nclass=\"essb_item essb_link_flattr nolightbox\"> <a\\nhref=\"https://flattr.com/submit/auto?user_id=LearnDataSci&#038;url=http%3A%2F%2Fwww.learndatasci.com%2Fk-means-clustering-algorithms-python-intro%2F&#038;title=K-Means%2B%2526%2BOther%2BClustering%2BAlgorithms%253A%2BA%2BQuick%2BIntro%2Bwith%2BPython&#038;description=K-Means+%26+Other+Clustering+Algorithms%3A+A+Quick+Intro+with+Python+Clustering+is+the+grouping+of+objects+together+so+that+objects+belonging+in+the+same+group+%28cluster%29+are+more+similar+to+each+other+than+those+in+other+groups+%28clusters%29.+In+this+intro+cluster+analysis+tutorial%2C+we%27ll+check+out+a+few+algorithms+in+Python+so+you+can+get+a%C2%A0basic+understanding+of+the+fundamentals+of+clustering+on+a+real+dataset.+The+Dataset+For+the+clustering+problem%2C+we+will+use+the+famous+Zachary%E2%80%99s+Karate+Club+dataset.+The+story+behind+the+data+set+is+quite+simple%3A+There+was+a+Karate+Club+that+had+an+administrator+%E2%80%9CJohn+A%E2%80%9D+and+an+instructor+%E2%80%9CMr.+Hi%E2%80%9D+%28both+pseudonyms%29.+Then+a+conflict+arose+between+them%2C+causing+the+students+%28Nodes%29+to+split+into+two+groups.+One+that+followed+John+and+one+that+followed+Mr.+Hi.+Getting+Started+with+Clustering+in+Python+But+enough+with+the+introductory+talk%2C+let%E2%80%99s+get+to+main+reason+you+are+here%2C+the+code+itself.+First+of+all%2C+you+need+to+install+both+scikit-learn+and+netwo&#038;language=en_GB&#038;tags=&#038;hidden=0&#038;category=text\" title=\"\" onclick=\"essb_window(&#39;https://flattr.com/submit/auto?user_id=LearnDataSci&#038;url=http%3A%2F%2Fwww.learndatasci.com%2Fk-means-clustering-algorithms-python-intro%2F&#038;title=K-Means%2B%2526%2BOther%2BClustering%2BAlgorithms%253A%2BA%2BQuick%2BIntro%2Bwith%2BPython&#038;description=K-Means+%26+Other+Clustering+Algorithms%3A+A+Quick+Intro+with+Python+Clustering+is+the+grouping+of+objects+together+so+that+objects+belonging+in+the+same+group+%28cluster%29+are+more+similar+to+each+other+than+those+in+other+groups+%28clusters%29.+In+this+intro+cluster+analysis+tutorial%2C+we%27ll+check+out+a+few+algorithms+in+Python+so+you+can+get+a%C2%A0basic+understanding+of+the+fundamentals+of+clustering+on+a+real+dataset.+The+Dataset+For+the+clustering+problem%2C+we+will+use+the+famous+Zachary%E2%80%99s+Karate+Club+dataset.+The+story+behind+the+data+set+is+quite+simple%3A+There+was+a+Karate+Club+that+had+an+administrator+%E2%80%9CJohn+A%E2%80%9D+and+an+instructor+%E2%80%9CMr.+Hi%E2%80%9D+%28both+pseudonyms%29.+Then+a+conflict+arose+between+them%2C+causing+the+students+%28Nodes%29+to+split+into+two+groups.+One+that+followed+John+and+one+that+followed+Mr.+Hi.+Getting+Started+with+Clustering+in+Python+But+enough+with+the+introductory+talk%2C+let%E2%80%99s+get+to+main+reason+you+are+here%2C+the+code+itself.+First+of+all%2C+you+need+to+install+both+scikit-learn+and+netwo&#038;language=en_GB&#038;tags=&#038;hidden=0&#038;category=text&#39;,&#39;flattr&#39;,&#39;1258654692&#39;); return false;\" target=\"_blank\" rel=\"nofollow\" ><span\\nclass=\"essb_icon essb_icon_flattr\"></span><span\\nclass=\"essb_network_name\">Flattr</span></a></li><li\\nclass=\"essb_item essb_link_reddit nolightbox\"> <a\\nhref=\"http://reddit.com/submit?url=http://www.learndatasci.com/k-means-clustering-algorithms-python-intro/&amp;title=K-Means+%26+Other+Clustering+Algorithms%3A+A+Quick+Intro+with+Python\" title=\"\" onclick=\"essb_window(&#39;http://reddit.com/submit?url=http://www.learndatasci.com/k-means-clustering-algorithms-python-intro/&amp;title=K-Means+%26+Other+Clustering+Algorithms%3A+A+Quick+Intro+with+Python&#39;,&#39;reddit&#39;,&#39;1258654692&#39;); return false;\" target=\"_blank\" rel=\"nofollow\" ><span\\nclass=\"essb_icon essb_icon_reddit\"></span><span\\nclass=\"essb_network_name\">Reddit</span></a></li><li\\nclass=\"essb_item essb_link_buffer nolightbox\"> <a\\nhref=\"https://bufferapp.com/add?url=http://www.learndatasci.com/k-means-clustering-algorithms-python-intro/&#038;text=K-Means+%26+Other+Clustering+Algorithms%3A+A+Quick+Intro+with+Python&#038;via=LearnDataSci&#038;picture=&#038;count=horizontal&#038;source=button\" title=\"\" onclick=\"essb_window(&#39;https://bufferapp.com/add?url=http://www.learndatasci.com/k-means-clustering-algorithms-python-intro/&#038;text=K-Means+%26+Other+Clustering+Algorithms%3A+A+Quick+Intro+with+Python&#038;via=LearnDataSci&#038;picture=&#038;count=horizontal&#038;source=button&#39;,&#39;buffer&#39;,&#39;1258654692&#39;); return false;\" target=\"_blank\" rel=\"nofollow\" ><span\\nclass=\"essb_icon essb_icon_buffer\"></span><span\\nclass=\"essb_network_name\">Buffer</span></a></li><li\\nclass=\"essb_item essb_link_love nolightbox\"> <a\\nhref=\"#\" title=\"\" onclick=\"essb_lovethis(&#39;1258654692&#39;); return false;\" target=\"_blank\" rel=\"nofollow\" ><span\\nclass=\"essb_icon essb_icon_love\"></span><span\\nclass=\"essb_network_name\">Love This</span></a></li><li\\nclass=\"essb_item essb_link_weibo nolightbox\"> <a\\nhref=\"http://service.weibo.com/share/share.php?url=http://www.learndatasci.com/k-means-clustering-algorithms-python-intro/&#038;title=K-Means+%26+Other+Clustering+Algorithms%3A+A+Quick+Intro+with+Python&#038;pic=\" title=\"\" onclick=\"essb_window(&#39;http://service.weibo.com/share/share.php?url=http://www.learndatasci.com/k-means-clustering-algorithms-python-intro/&#038;title=K-Means+%26+Other+Clustering+Algorithms%3A+A+Quick+Intro+with+Python&#038;pic=&#39;,&#39;weibo&#39;,&#39;1258654692&#39;); return false;\" target=\"_blank\" rel=\"nofollow\" ><span\\nclass=\"essb_icon essb_icon_weibo\"></span><span\\nclass=\"essb_network_name\">Weibo</span></a></li><li\\nclass=\"essb_item essb_link_pocket nolightbox\"> <a\\nhref=\"https://getpocket.com/save?title=K-Means+%26+Other+Clustering+Algorithms%3A+A+Quick+Intro+with+Python&#038;url=http%3A%2F%2Fwww.learndatasci.com%2Fk-means-clustering-algorithms-python-intro%2F\" title=\"\" onclick=\"essb_window(&#39;https://getpocket.com/save?title=K-Means+%26+Other+Clustering+Algorithms%3A+A+Quick+Intro+with+Python&#038;url=http%3A%2F%2Fwww.learndatasci.com%2Fk-means-clustering-algorithms-python-intro%2F&#39;,&#39;pocket&#39;,&#39;1258654692&#39;); return false;\" target=\"_blank\" rel=\"nofollow\" ><span\\nclass=\"essb_icon essb_icon_pocket\"></span><span\\nclass=\"essb_network_name\">Pocket</span></a></li><li\\nclass=\"essb_item essb_link_xing nolightbox\"> <a\\nhref=\"https://www.xing.com/social_plugins/share?h=1;url=http://www.learndatasci.com/k-means-clustering-algorithms-python-intro/\" title=\"\" onclick=\"essb_window(&#39;https://www.xing.com/social_plugins/share?h=1;url=http://www.learndatasci.com/k-means-clustering-algorithms-python-intro/&#39;,&#39;xing&#39;,&#39;1258654692&#39;); return false;\" target=\"_blank\" rel=\"nofollow\" ><span\\nclass=\"essb_icon essb_icon_xing\"></span><span\\nclass=\"essb_network_name\">Xing</span></a></li><li\\nclass=\"essb_item essb_link_ok nolightbox\"> <a\\nhref=\"http://www.odnoklassniki.ru/dk?st.cmd=addShare&#038;st.s=1&#038;st._surl=http://www.learndatasci.com/k-means-clustering-algorithms-python-intro/\" title=\"\" onclick=\"essb_window(&#39;http://www.odnoklassniki.ru/dk?st.cmd=addShare&#038;st.s=1&#038;st._surl=http://www.learndatasci.com/k-means-clustering-algorithms-python-intro/&#39;,&#39;ok&#39;,&#39;1258654692&#39;); return false;\" target=\"_blank\" rel=\"nofollow\" ><span\\nclass=\"essb_icon essb_icon_ok\"></span><span\\nclass=\"essb_network_name\">Odnoklassniki</span></a></li><li\\nclass=\"essb_item essb_link_mwp nolightbox\"> <a\\nhref=\"http://managewp.org/share/form?url=http%3A%2F%2Fwww.learndatasci.com%2Fk-means-clustering-algorithms-python-intro%2F\" title=\"\" onclick=\"essb_window(&#39;http://managewp.org/share/form?url=http%3A%2F%2Fwww.learndatasci.com%2Fk-means-clustering-algorithms-python-intro%2F&#39;,&#39;mwp&#39;,&#39;1258654692&#39;); return false;\" target=\"_blank\" rel=\"nofollow\" ><span\\nclass=\"essb_icon essb_icon_mwp\"></span><span\\nclass=\"essb_network_name\">ManageWP.org</span></a></li><li\\nclass=\"essb_item essb_link_whatsapp nolightbox\"> <a\\nhref=\"whatsapp://send?text=K-Means%20%26%20Other%20Clustering%20Algorithms%3A%20A%20Quick%20Intro%20with%20Python%20http%3A%2F%2Fwww.learndatasci.com%2Fk-means-clustering-algorithms-python-intro%2F\" title=\"\" onclick=\"essb_tracking_only(\\'\\', \\'whatsapp\\', \\'1258654692\\', true);\" target=\"_self\" rel=\"nofollow\" ><span\\nclass=\"essb_icon essb_icon_whatsapp\"></span><span\\nclass=\"essb_network_name\">WhatsApp</span></a></li><li\\nclass=\"essb_item essb_link_meneame nolightbox\"> <a\\nhref=\"http://www.meneame.net/submit.php?url=http://www.learndatasci.com/k-means-clustering-algorithms-python-intro/\" title=\"\" onclick=\"essb_window(&#39;http://www.meneame.net/submit.php?url=http://www.learndatasci.com/k-means-clustering-algorithms-python-intro/&#39;,&#39;meneame&#39;,&#39;1258654692&#39;); return false;\" target=\"_blank\" rel=\"nofollow\" ><span\\nclass=\"essb_icon essb_icon_meneame\"></span><span\\nclass=\"essb_network_name\">Meneame</span></a></li><li\\nclass=\"essb_item essb_link_blogger nolightbox\"> <a\\nhref=\"https://www.blogger.com/blog_this.pyra?t&#038;u=http://www.learndatasci.com/k-means-clustering-algorithms-python-intro/&#038;n=K-Means+%26+Other+Clustering+Algorithms%3A+A+Quick+Intro+with+Python\" title=\"\" onclick=\"essb_window(&#39;https://www.blogger.com/blog_this.pyra?t&#038;u=http://www.learndatasci.com/k-means-clustering-algorithms-python-intro/&#038;n=K-Means+%26+Other+Clustering+Algorithms%3A+A+Quick+Intro+with+Python&#39;,&#39;blogger&#39;,&#39;1258654692&#39;); return false;\" target=\"_blank\" rel=\"nofollow\" ><span\\nclass=\"essb_icon essb_icon_blogger\"></span><span\\nclass=\"essb_network_name\">Blogger</span></a></li><li\\nclass=\"essb_item essb_link_amazon nolightbox\"> <a\\nhref=\"http://www.amazon.com/gp/wishlist/static-add?u=http://www.learndatasci.com/k-means-clustering-algorithms-python-intro/&#038;t=K-Means+%26+Other+Clustering+Algorithms%3A+A+Quick+Intro+with+Python\" title=\"\" onclick=\"essb_window(&#39;http://www.amazon.com/gp/wishlist/static-add?u=http://www.learndatasci.com/k-means-clustering-algorithms-python-intro/&#038;t=K-Means+%26+Other+Clustering+Algorithms%3A+A+Quick+Intro+with+Python&#39;,&#39;amazon&#39;,&#39;1258654692&#39;); return false;\" target=\"_blank\" rel=\"nofollow\" ><span\\nclass=\"essb_icon essb_icon_amazon\"></span><span\\nclass=\"essb_network_name\">Amazon</span></a></li><li\\nclass=\"essb_item essb_link_yahoomail nolightbox\"> <a\\nhref=\"http://compose.mail.yahoo.com/?body=http://www.learndatasci.com/k-means-clustering-algorithms-python-intro/\" title=\"\" onclick=\"essb_window(&#39;http://compose.mail.yahoo.com/?body=http://www.learndatasci.com/k-means-clustering-algorithms-python-intro/&#39;,&#39;yahoomail&#39;,&#39;1258654692&#39;); return false;\" target=\"_blank\" rel=\"nofollow\" ><span\\nclass=\"essb_icon essb_icon_yahoomail\"></span><span\\nclass=\"essb_network_name\">Yahoo Mail</span></a></li><li\\nclass=\"essb_item essb_link_gmail nolightbox\"> <a\\nhref=\"https://mail.google.com/mail/u/0/?view=cm&#038;fs=1&#038;su=K-Means+%26+Other+Clustering+Algorithms%3A+A+Quick+Intro+with+Python&#038;body=http://www.learndatasci.com/k-means-clustering-algorithms-python-intro/&#038;ui=2&#038;tf=1\" title=\"\" onclick=\"essb_window(&#39;https://mail.google.com/mail/u/0/?view=cm&#038;fs=1&#038;su=K-Means+%26+Other+Clustering+Algorithms%3A+A+Quick+Intro+with+Python&#038;body=http://www.learndatasci.com/k-means-clustering-algorithms-python-intro/&#038;ui=2&#038;tf=1&#39;,&#39;gmail&#39;,&#39;1258654692&#39;); return false;\" target=\"_blank\" rel=\"nofollow\" ><span\\nclass=\"essb_icon essb_icon_gmail\"></span><span\\nclass=\"essb_network_name\">Gmail</span></a></li><li\\nclass=\"essb_item essb_link_aol nolightbox\"> <a\\nhref=\"http://webmail.aol.com/Mail/ComposeMessage.aspx?subject=K-Means+%26+Other+Clustering+Algorithms%3A+A+Quick+Intro+with+Python&#038;body=http://www.learndatasci.com/k-means-clustering-algorithms-python-intro/\" title=\"\" onclick=\"essb_window(&#39;http://webmail.aol.com/Mail/ComposeMessage.aspx?subject=K-Means+%26+Other+Clustering+Algorithms%3A+A+Quick+Intro+with+Python&#038;body=http://www.learndatasci.com/k-means-clustering-algorithms-python-intro/&#39;,&#39;aol&#39;,&#39;1258654692&#39;); return false;\" target=\"_blank\" rel=\"nofollow\" ><span\\nclass=\"essb_icon essb_icon_aol\"></span><span\\nclass=\"essb_network_name\">AOL</span></a></li><li\\nclass=\"essb_item essb_link_newsvine nolightbox\"> <a\\nhref=\"http://www.newsvine.com/_tools/seed&#038;save?u=http://www.learndatasci.com/k-means-clustering-algorithms-python-intro/&#038;h=K-Means+%26+Other+Clustering+Algorithms%3A+A+Quick+Intro+with+Python\" title=\"\" onclick=\"essb_window(&#39;http://www.newsvine.com/_tools/seed&#038;save?u=http://www.learndatasci.com/k-means-clustering-algorithms-python-intro/&#038;h=K-Means+%26+Other+Clustering+Algorithms%3A+A+Quick+Intro+with+Python&#39;,&#39;newsvine&#39;,&#39;1258654692&#39;); return false;\" target=\"_blank\" rel=\"nofollow\" ><span\\nclass=\"essb_icon essb_icon_newsvine\"></span><span\\nclass=\"essb_network_name\">Newsvine</span></a></li><li\\nclass=\"essb_item essb_link_hackernews nolightbox\"> <a\\nhref=\"https://news.ycombinator.com/submitlink?u=http://www.learndatasci.com/k-means-clustering-algorithms-python-intro/&#038;t=K-Means+%26+Other+Clustering+Algorithms%3A+A+Quick+Intro+with+Python\" title=\"\" onclick=\"essb_window(&#39;https://news.ycombinator.com/submitlink?u=http://www.learndatasci.com/k-means-clustering-algorithms-python-intro/&#038;t=K-Means+%26+Other+Clustering+Algorithms%3A+A+Quick+Intro+with+Python&#39;,&#39;hackernews&#39;,&#39;1258654692&#39;); return false;\" target=\"_blank\" rel=\"nofollow\" ><span\\nclass=\"essb_icon essb_icon_hackernews\"></span><span\\nclass=\"essb_network_name\">HackerNews</span></a></li><li\\nclass=\"essb_item essb_link_evernote nolightbox\"> <a\\nhref=\"http://www.evernote.com/clip.action?url=http://www.learndatasci.com/k-means-clustering-algorithms-python-intro/&#038;title=K-Means+%26+Other+Clustering+Algorithms%3A+A+Quick+Intro+with+Python\" title=\"\" onclick=\"essb_window(&#39;http://www.evernote.com/clip.action?url=http://www.learndatasci.com/k-means-clustering-algorithms-python-intro/&#038;title=K-Means+%26+Other+Clustering+Algorithms%3A+A+Quick+Intro+with+Python&#39;,&#39;evernote&#39;,&#39;1258654692&#39;); return false;\" target=\"_blank\" rel=\"nofollow\" ><span\\nclass=\"essb_icon essb_icon_evernote\"></span><span\\nclass=\"essb_network_name\">Evernote</span></a></li><li\\nclass=\"essb_item essb_link_myspace nolightbox\"> <a\\nhref=\"https://myspace.com/post?u=http://www.learndatasci.com/k-means-clustering-algorithms-python-intro/\" title=\"\" onclick=\"essb_window(&#39;https://myspace.com/post?u=http://www.learndatasci.com/k-means-clustering-algorithms-python-intro/&#39;,&#39;myspace&#39;,&#39;1258654692&#39;); return false;\" target=\"_blank\" rel=\"nofollow\" ><span\\nclass=\"essb_icon essb_icon_myspace\"></span><span\\nclass=\"essb_network_name\">MySpace</span></a></li><li\\nclass=\"essb_item essb_link_mailru nolightbox\"> <a\\nhref=\"http://connect.mail.ru/share?url=http://www.learndatasci.com/k-means-clustering-algorithms-python-intro/&#038;title=K-Means+%26+Other+Clustering+Algorithms%3A+A+Quick+Intro+with+Python&#038;description=\" title=\"\" onclick=\"essb_window(&#39;http://connect.mail.ru/share?url=http://www.learndatasci.com/k-means-clustering-algorithms-python-intro/&#038;title=K-Means+%26+Other+Clustering+Algorithms%3A+A+Quick+Intro+with+Python&#038;description=&#39;,&#39;mailru&#39;,&#39;1258654692&#39;); return false;\" target=\"_blank\" rel=\"nofollow\" ><span\\nclass=\"essb_icon essb_icon_mailru\"></span><span\\nclass=\"essb_network_name\">Mail.ru</span></a></li><li\\nclass=\"essb_item essb_link_viadeo nolightbox\"> <a\\nhref=\"https://www.viadeo.com/?url=http://www.learndatasci.com/k-means-clustering-algorithms-python-intro/&amp;title=K-Means+%26+Other+Clustering+Algorithms%3A+A+Quick+Intro+with+Python\" title=\"\" onclick=\"essb_window(&#39;https://www.viadeo.com/?url=http://www.learndatasci.com/k-means-clustering-algorithms-python-intro/&amp;title=K-Means+%26+Other+Clustering+Algorithms%3A+A+Quick+Intro+with+Python&#39;,&#39;viadeo&#39;,&#39;1258654692&#39;); return false;\" target=\"_blank\" rel=\"nofollow\" ><span\\nclass=\"essb_icon essb_icon_viadeo\"></span><span\\nclass=\"essb_network_name\">Viadeo</span></a></li><li\\nclass=\"essb_item essb_link_line nolightbox\"> <a\\nhref=\"line://msg/text/K-Means%20%26%20Other%20Clustering%20Algorithms%3A%20A%20Quick%20Intro%20with%20Python%20http%3A%2F%2Fwww.learndatasci.com%2Fk-means-clustering-algorithms-python-intro%2F\" title=\"\" onclick=\"essb_tracking_only(\\'\\', \\'line\\', \\'1258654692\\', true);\" target=\"_self\" rel=\"nofollow\" ><span\\nclass=\"essb_icon essb_icon_line\"></span><span\\nclass=\"essb_network_name\">Line</span></a></li><li\\nclass=\"essb_item essb_link_flipboard nolightbox\"> <a\\nhref=\"https://share.flipboard.com/bookmarklet/popout?url=http://www.learndatasci.com/k-means-clustering-algorithms-python-intro/&#038;title=K-Means+%26+Other+Clustering+Algorithms%3A+A+Quick+Intro+with+Python\" title=\"\" onclick=\"essb_window(&#39;https://share.flipboard.com/bookmarklet/popout?url=http://www.learndatasci.com/k-means-clustering-algorithms-python-intro/&#038;title=K-Means+%26+Other+Clustering+Algorithms%3A+A+Quick+Intro+with+Python&#39;,&#39;flipboard&#39;,&#39;1258654692&#39;); return false;\" target=\"_blank\" rel=\"nofollow\" ><span\\nclass=\"essb_icon essb_icon_flipboard\"></span><span\\nclass=\"essb_network_name\">Flipboard</span></a></li><li\\nclass=\"essb_item essb_link_comments nolightbox\"> <a\\nhref=\"#comments\" title=\"\" onclick=\"essb_tracking_only(\\'\\', \\'comments\\', \\'1258654692\\', true);\" target=\"_self\" rel=\"nofollow\" ><span\\nclass=\"essb_icon essb_icon_comments\"></span><span\\nclass=\"essb_network_name\">Comments</span></a></li><li\\nclass=\"essb_item essb_link_yummly nolightbox\"> <a\\nhref=\"http://www.yummly.com/urb/verify?url=http://www.learndatasci.com/k-means-clustering-algorithms-python-intro/&#038;title=K-Means+%26+Other+Clustering+Algorithms%3A+A+Quick+Intro+with+Python&#038;image=&#038;yumtype=button\" title=\"\" onclick=\"essb_window(&#39;http://www.yummly.com/urb/verify?url=http://www.learndatasci.com/k-means-clustering-algorithms-python-intro/&#038;title=K-Means+%26+Other+Clustering+Algorithms%3A+A+Quick+Intro+with+Python&#038;image=&#038;yumtype=button&#39;,&#39;yummly&#39;,&#39;1258654692&#39;); return false;\" target=\"_blank\" rel=\"nofollow\" ><span\\nclass=\"essb_icon essb_icon_yummly\"></span><span\\nclass=\"essb_network_name\">Yummly</span></a></li><li\\nclass=\"essb_item essb_link_sms nolightbox\"> <a\\nhref=\"sms:&#038;body=K-Means%20%26%20Other%20Clustering%20Algorithms%3A%20A%20Quick%20Intro%20with%20Python%20http%3A%2F%2Fwww.learndatasci.com%2Fk-means-clustering-algorithms-python-intro%2F\" title=\"\" onclick=\"essb_window(&#39;sms:&#038;body=K-Means%20%26%20Other%20Clustering%20Algorithms%3A%20A%20Quick%20Intro%20with%20Python%20http%3A%2F%2Fwww.learndatasci.com%2Fk-means-clustering-algorithms-python-intro%2F&#39;,&#39;sms&#39;,&#39;1258654692&#39;); return false;\" target=\"_blank\" rel=\"nofollow\" ><span\\nclass=\"essb_icon essb_icon_sms\"></span><span\\nclass=\"essb_network_name\">SMS</span></a></li><li\\nclass=\"essb_item essb_link_viber nolightbox\"> <a\\nhref=\"viber://forward?text=K-Means%20%26%20Other%20Clustering%20Algorithms%3A%20A%20Quick%20Intro%20with%20Python%20http%3A%2F%2Fwww.learndatasci.com%2Fk-means-clustering-algorithms-python-intro%2F\" title=\"\" onclick=\"essb_tracking_only(\\'\\', \\'viber\\', \\'1258654692\\', true);\" target=\"_blank\" rel=\"nofollow\" ><span\\nclass=\"essb_icon essb_icon_viber\"></span><span\\nclass=\"essb_network_name\">Viber</span></a></li><li\\nclass=\"essb_item essb_link_telegram nolightbox\"> <a\\nhref=\"tg://msg?text=K-Means%20%26%20Other%20Clustering%20Algorithms%3A%20A%20Quick%20Intro%20with%20Python%20http%3A%2F%2Fwww.learndatasci.com%2Fk-means-clustering-algorithms-python-intro%2F\" title=\"\" onclick=\"essb_tracking_only(\\'\\', \\'telegram\\', \\'1258654692\\', true);\" target=\"_blank\" rel=\"nofollow\" ><span\\nclass=\"essb_icon essb_icon_telegram\"></span><span\\nclass=\"essb_network_name\">Telegram</span></a></li><li\\nclass=\"essb_item essb_link_subscribe nolightbox\"> <a\\nhref=\"#\" title=\"\" onclick=\"essb_toggle_subscribe(\\'1258654692\\'); return false;\" target=\"_blank\" rel=\"nofollow\" ><span\\nclass=\"essb_icon essb_icon_subscribe\"></span><span\\nclass=\"essb_network_name\">Subscribe</span></a></li><li\\nclass=\"essb_item essb_link_skype nolightbox\"> <a\\nhref=\"https://web.skype.com/share?url=http://www.learndatasci.com/k-means-clustering-algorithms-python-intro/\" title=\"\" onclick=\"essb_window(&#39;https://web.skype.com/share?url=http://www.learndatasci.com/k-means-clustering-algorithms-python-intro/&#39;,&#39;skype&#39;,&#39;1258654692&#39;); return false;\" target=\"_blank\" rel=\"nofollow\" ><span\\nclass=\"essb_icon essb_icon_skype\"></span><span\\nclass=\"essb_network_name\">Skype</span></a></li><li\\nclass=\"essb_item essb_link_messenger nolightbox\"> <a\\nhref=\"https://www.facebook.com/dialog/send?app_id=122003308146257&#038;link=http://www.learndatasci.com/k-means-clustering-algorithms-python-intro/&#038;redirect_uri=https://facebook.com\" title=\"\" onclick=\"essb_window(&#39;https://www.facebook.com/dialog/send?app_id=122003308146257&#038;link=http://www.learndatasci.com/k-means-clustering-algorithms-python-intro/&#038;redirect_uri=https://facebook.com&#39;,&#39;messenger&#39;,&#39;1258654692&#39;); return false;\" target=\"_blank\" rel=\"nofollow\" ><span\\nclass=\"essb_icon essb_icon_messenger\"></span><span\\nclass=\"essb_network_name\">Facebook Messenger</span></a></li><li\\nclass=\"essb_item essb_link_kakaotalk nolightbox\"> <a\\nhref=\"https://story.kakao.com/share?url=http://www.learndatasci.com/k-means-clustering-algorithms-python-intro/\" title=\"\" onclick=\"essb_window(&#39;https://story.kakao.com/share?url=http://www.learndatasci.com/k-means-clustering-algorithms-python-intro/&#39;,&#39;kakaotalk&#39;,&#39;1258654692&#39;); return false;\" target=\"_blank\" rel=\"nofollow\" ><span\\nclass=\"essb_icon essb_icon_kakaotalk\"></span><span\\nclass=\"essb_network_name\">Kakao</span></a></li><li\\nclass=\"essb_item essb_link_livejournal nolightbox\"> <a\\nhref=\"http://www.livejournal.com/update.bml?subject=K-Means &#038; Other Clustering Algorithms: A Quick Intro with Python&#038;event=%3Ca+href%3D%22http%3A%2F%2Fwww.learndatasci.com%2Fk-means-clustering-algorithms-python-intro%2F%22%3EK-Means+%26+Other+Clustering+Algorithms%3A+A+Quick+Intro+with+Python%3C%2Fa%3E\" title=\"\" onclick=\"essb_window(&#39;http://www.livejournal.com/update.bml?subject=K-Means &#038; Other Clustering Algorithms: A Quick Intro with Python&#038;event=%3Ca+href%3D%22http%3A%2F%2Fwww.learndatasci.com%2Fk-means-clustering-algorithms-python-intro%2F%22%3EK-Means+%26+Other+Clustering+Algorithms%3A+A+Quick+Intro+with+Python%3C%2Fa%3E&#39;,&#39;livejournal&#39;,&#39;1258654692&#39;); return false;\" target=\"_blank\" rel=\"nofollow\" ><span\\nclass=\"essb_icon essb_icon_livejournal\"></span><span\\nclass=\"essb_network_name\">LiveJournal</span></a></li><li\\nclass=\"essb_item essb_link_yammer nolightbox\"> <a\\nhref=\"https://www.yammer.com/messages/new?login=true&amp;trk_event=yammer_share&amp;status=K-Means%20%26%20Other%20Clustering%20Algorithms%3A%20A%20Quick%20Intro%20with%20Python http%3A%2F%2Fwww.learndatasci.com%2Fk-means-clustering-algorithms-python-intro%2F\" title=\"\" onclick=\"essb_window(&#39;https://www.yammer.com/messages/new?login=true&amp;trk_event=yammer_share&amp;status=K-Means%20%26%20Other%20Clustering%20Algorithms%3A%20A%20Quick%20Intro%20with%20Python http%3A%2F%2Fwww.learndatasci.com%2Fk-means-clustering-algorithms-python-intro%2F&#39;,&#39;yammer&#39;,&#39;1258654692&#39;); return false;\" target=\"_blank\" rel=\"nofollow\" ><span\\nclass=\"essb_icon essb_icon_yammer\"></span><span\\nclass=\"essb_network_name\">Yammer</span></a></li></ul></div></div></div><div\\nclass=\"essb_morepopup_shadow essb_morepopup_shadow_2042723061\" onclick=\"essb_toggle_less_popup(\\'2042723061\\'); return false;\"></div><div\\nclass=\"essb-subscribe-form essb-subscribe-form-1258654692 essb-subscribe-form-popup\" data-popup=\"1\" style=\"display: none;\"><button\\ntype=\"button\" class=\"essb-subscribe-form-close\" onclick=\"essb_subscribe_popup_close(\\'1258654692\\');\">x</button></div><div\\nclass=\"essb-subscribe-form-overlay essb-subscribe-form-overlay-1258654692\" onclick=\"essb_subscribe_popup_close(\\'1258654692\\');\"></div><h1>K-Means &#038; Other Clustering Algorithms: A Quick Intro with Python</h1><p>Clustering is the grouping of objects together so that objects belonging in the same group (cluster) are more similar to each other than those in other groups (clusters). In this intro cluster analysis tutorial, we\\'ll check out a few algorithms in Python so you can get a\\xc2\\xa0basic understanding of the fundamentals of clustering on a real dataset.</p><h3>The Dataset</h3><p>For the clustering problem, we will use the famous <em>Zachary\\xe2\\x80\\x99s Karate Club</em> dataset. The story behind the data set is quite simple: There was a Karate Club that had an administrator \\xe2\\x80\\x9cJohn A\\xe2\\x80\\x9d and an instructor \\xe2\\x80\\x9cMr. Hi\\xe2\\x80\\x9d (both pseudonyms). Then a conflict arose between them, causing the students (Nodes) to split into two groups. One that followed John and one that followed Mr. Hi.</p>\\n<figure\\nid=\"attachment_841\" style=\"width: 565px\" class=\"wp-caption aligncenter\"><img\\nsrc=\"http://www.learndatasci.com/wp-content/plugins/lazy-load/images/1x1.trans.gif\" data-lazy-src=\"http://www.learndatasci.com/wp-content/uploads/2017/07/Social-Network-Model-of-Relationships-in-the-Karate-Club.png\" class=\"size-full wp-image-841\" alt=\"Visualization of Karate Club Network\" width=\"600\" height=\"600\" /><noscript><img\\nclass=\"size-full wp-image-841\" src=\"http://www.learndatasci.com/wp-content/uploads/2017/07/Social-Network-Model-of-Relationships-in-the-Karate-Club.png\" alt=\"Visualization of Karate Club Network\" width=\"600\" height=\"600\" /></noscript><figcaption\\nclass=\"wp-caption-text\"><em>Visualization of social relationships between members of the Karate Club</em></figcaption></figure><h3>Getting Started with Clustering in Python</h3><p>But enough with the introductory talk, let\\xe2\\x80\\x99s get to main reason you are here, the code itself. First of all, you need to install both <a\\nhref=\"http://scikit-learn.org\">scikit-learn</a> and <a\\nhref=\"https://networkx.github.io/\">networkx</a> libraries to complete this tutorial. If you don\\xe2\\x80\\x99t know how, the links above should help you. Also, feel free to follow along by grabbing the source code for this tutorial over on <a\\nhref=\"https://github.com/LearnDataSci/blog-post-resources/blob/master/Karate%20Club%20Clustering/Classifiers.py\" target=\"_blank\">Github</a>.</p><p>Usually, the datasets that we want to examine are available in text form (JSON, Excel, simple txt file, etc.) but in our case, <a\\nrel=\"nofollow\" href=\"https://networkx.github.io/\">networkx</a> provide it for us. Also, to compare our algorithms, we want the truth about the members (who followed whom) which unfortunately is not provided. But with these two lines of code, you will be able to load the data and store the truth (from now on we will refer it as ground truth):</p><pre class=\"prettyprint lang-python\"><code># Load and Store both data and groundtruth of Zachary\\'s Karate Club\\nG = nx.karate_club_graph()\\ngroundTruth = [0,0,0,0,0,0,0,0,1,1,0,0,0,0,1,1,0,0,1,0,1,0,1,1,1,1,1,1,1,1,1,1,1,1]\\n</code></pre><p>The final step of the data preprocessing, is to transform the graph into a matrix (desirable input for our algorithms). This is also quite simple:</p><pre class=\"prettyprint lang-python\"><code>def graphToEdgeMatrix(G):\\n\\n    # Initialize Edge Matrix\\n    edgeMat = [[0 for x in range(len(G))] for y in range(len(G))]\\n\\n    # For loop to set 0 or 1 ( diagonal elements are set to 1)\\n    for node in G:\\n        tempNeighList = G.neighbors(node)\\n        for neighbor in tempNeighList:\\n            edgeMat[node][neighbor] = 1\\n        edgeMat[node][node] = 1\\n\\n    return edgeMat\\n</code></pre><p>Before we get going with the Clustering Techniques, I would like you to get a visualization on our data. So, let\\xe2\\x80\\x99s compile a simple function to do that:</p><pre class=\"prettyprint lang-python\"><code>def drawCommunities(G, partition, pos):\\n    # G is graph in networkx form\\n    # Partition is a dict containing info on clusters\\n    # Pos is base on networkx spring layout (nx.spring_layout(G))\\n\\n    # For separating communities colors\\n    dictList = defaultdict(list)\\n    nodelist = []\\n    for node, com in partition.items():\\n        dictList[com].append(node)\\n\\n    # Get size of Communities\\n    size = len(set(partition.values()))\\n\\n    # For loop to assign communities colors\\n    for i in range(size):\\n\\n        amplifier = i % 3\\n        multi = (i / 3) * 0.3\\n\\n        red = green = blue = 0\\n\\n        if amplifier == 0:\\n            red = 0.1 + multi\\n        elif amplifier == 1:\\n            green = 0.1 + multi\\n        else:\\n            blue = 0.1 + multi\\n\\n        # Draw Nodes\\n        nx.draw_networkx_nodes(G, pos,\\n                               nodelist=dictList[i],\\n                               node_color=[0.0 + red, 0.0 + green, 0.0 + blue],\\n                               node_size=500,\\n                               alpha=0.8)\\n\\n    # Draw edges and final plot\\n    plt.title(\"Zachary\\'s Karate Club\")\\n    nx.draw_networkx_edges(G, pos, alpha=0.5)\\n</code></pre><p>What that function does is to simply extract the number of clusters that are in our result and then assign a different color to each of them (up to 10 for the given time is fine) before plotting them.</p><p><img\\nsrc=\"http://www.learndatasci.com/wp-content/plugins/lazy-load/images/1x1.trans.gif\" data-lazy-src=\"http://www.learndatasci.com/wp-content/uploads/2017/02/zacharys-karate-club-cluster-nodes.png\" alt=\"zacharys karate club cluster nodes\" width=\"800\" height=\"597\" class=\"aligncenter size-full wp-image-852\" srcset=\"http://www.learndatasci.com/wp-content/uploads/2017/02/zacharys-karate-club-cluster-nodes.png 800w, http://www.learndatasci.com/wp-content/uploads/2017/02/zacharys-karate-club-cluster-nodes-300x224.png 300w, http://www.learndatasci.com/wp-content/uploads/2017/02/zacharys-karate-club-cluster-nodes-768x573.png 768w\" sizes=\"(max-width: 800px) 100vw, 800px\" /><noscript><img\\nsrc=\"http://www.learndatasci.com/wp-content/uploads/2017/02/zacharys-karate-club-cluster-nodes.png\" alt=\"zacharys karate club cluster nodes\" width=\"800\" height=\"597\" class=\"aligncenter size-full wp-image-852\" srcset=\"http://www.learndatasci.com/wp-content/uploads/2017/02/zacharys-karate-club-cluster-nodes.png 800w, http://www.learndatasci.com/wp-content/uploads/2017/02/zacharys-karate-club-cluster-nodes-300x224.png 300w, http://www.learndatasci.com/wp-content/uploads/2017/02/zacharys-karate-club-cluster-nodes-768x573.png 768w\" sizes=\"(max-width: 800px) 100vw, 800px\" /></noscript></p><h3>Clustering Algorithms</h3><p>Some clustering algorithms will cluster your data quite nicely and others will end up failing to do so. That is one of the main reasons why clustering is such a difficult problem. But don\\xe2\\x80\\x99t worry, we won\\xe2\\x80\\x99t let you drown in an ocean of choices. We\\'ll go through a few algorithms that are known to perform very well.</p><h4>K-Means Clustering</h4><div\\nid=\"kmeans\"><div><svg></svg></div><div\\nid=\"kmeansControlPanel\" class=\"row\"><div\\nclass=\"col-sm-6\">\\n<button\\nid=\"step\">Step</button> <button\\nid=\"restart\" disabled>Restart</button></div><div\\nclass=\"col-sm-6\"><fieldset\\nstyle=\"display: inline; margin: .8em 0 1em 0; border: 1px solid #999; padding: .5em\"><div><label\\nfor=\"N\">N (the number of node):</label><input\\ntype=\"number\" id=\"N\" min=\"2\" max=\"1000\" value=\"100\"></div><div><label\\nfor=\"K\">K (the number of cluster):</label><input\\ntype=\"number\" id=\"K\" min=\"2\" max=\"50\" value=\"5\"></div><div><button\\nid=\"reset\">New</button></div></fieldset></div></div><p>Source: <a\\nrel=\"nofollow\" href=\"https://github.com/nitoyon/tech.nitoyon.com\">github.com/nitoyon/tech.nitoyon.com</a></div><p>K-means is considered by many the gold standard when it comes to clustering due to its simplicity and performance, and it\\'s the first one we\\'ll try out. When you have no idea at all what algorithm to use, K-means is usually the first choice. Bear in mind that K-means might under-perform sometimes due to its concept: spherical clusters that are separable in a way so that the mean value converges towards the cluster center. To simply construct and train a K-means model, use the follow lines:</p><pre class=\"prettyprint lang-python\"><code># K-means Clustering Model\\nkmeans = cluster.KMeans(n_clusters=kClusters, n_init=200)\\nkmeans.fit(edgeMat)\\n\\n# Transform our data to list form and store them in results list\\nresults.append(list(kmeans.labels_))</code></pre><h4>Agglomerative Clustering</h4><p>The main idea behind agglomerative clustering is that each node starts in its own cluster, and recursively merges with the pair of clusters that minimally increases a given linkage distance. The main advantage of agglomerative clustering (and hierarchical clustering in general) is that you don\\xe2\\x80\\x99t need to specify the number of clusters. That of course, comes with a price: performance. But, in scikit\\xe2\\x80\\x99s implementation, you can specify the number of clusters to assist the algorithm\\xe2\\x80\\x99s performance. To create and train an agglomerative model use the following code:</p><pre class=\"prettyprint lang-python\"><code># Agglomerative Clustering Model\\nagglomerative = cluster.AgglomerativeClustering(n_clusters=kClusters, linkage=\"ward\")\\nagglomerative.fit(edgeMat)\\n\\n# Transform our data to list form and store them in results list\\nresults.append(list(agglomerative.labels_))</code></pre><h4>Spectral</h4><p>The Spectral clustering technique applies clustering to a projection of the normalized Laplacian. When it comes to image clustering, spectral clustering works quite well. See the next few lines of Python for all the magic:</p><pre class=\"prettyprint lang-python\"><code># Spectral Clustering Model\\nspectral = cluster.SpectralClustering(n_clusters=kClusters, affinity=\"precomputed\", n_init= 200)\\nspectral.fit(edgeMat)\\n\\n# Transform our data to list form and store them in results list\\nresults.append(list(spectral.labels_))</code></pre><h4>Affinity Propagation</h4><p>Well this one is a bit different. Unlike the previous algorithms, you can see AF does not require the number of clusters to be determined before running the algorithm. AF, performs really well on several computer vision and biology problems, such as clustering pictures of human faces and identifying regulated transcripts:</p><pre class=\"prettyprint lang-python\"><code># Affinity Propagation Clustering Model\\naffinity = cluster.affinity_propagation(S=edgeMat, max_iter=200, damping=0.6)\\n\\n# Transform our data to list form and store them in results list\\nresults.append(list(affinity[1]))</code></pre><h3>Metrics &amp; Plotting</h3><p>Well, it is time to choose which algorithm is more suitable for our data. A simple visualization of the result might work on small datasets, but imagine a graph with one thousand, or even ten thousand, nodes. That would be slightly chaotic for the human eye. So, let me show how to calculate the Adjusted Rand Score (ARS) and the Normalized Mutual Information (NMI):</p><pre class=\"prettyprint lang-python\"><code># Append the results into lists\\nfor x in results:\\n    nmiResults.append(normalized_mutual_info_score(groundTruth, x))\\n    arsResults.append(adjusted_rand_score(groundTruth, x))</code></pre><p>If you\\'re unfamiliar with these metrics, here\\'s a quick explanation:</p><h4>Normalized Mutual Information (NMI)</h4><p>Mutual Information of two random variables is a measure of the mutual dependence between the two variables. Normalized Mutual Information is a normalization of the Mutual Information (MI) score to scale the results between 0 (no mutual information) and 1 (perfect correlation). In other words, 0 means dissimilar and 1 means perfect match.</p><h4>Adjusted Rand Score (ARS)</h4><p>Adjusted Rand Score on the other hand, computes a similarity measure between two clusters by considering all pairs of samples and counting pairs that are assigned in the same or different clusters in the predicted and true clusters. If that\\'s a little weird to think about, have in mind that, for now, 0 is the lowest similarity and 1 is the highest.</p><p>So, to get a combination of these metrics (the NMI and ARS), we simply calculate the average value of their sum. And remember, the higher the number, the better the result.</p><p>Below, I have plotted the score evaluation so we can get a better understanding of our results. We could plot them in many ways, as points, as a straight line, but I think a bar chart is the better choice for our case. To do so, just use the following code:</p><pre class=\"prettyprint lang-python\"><code># Code for plotting results\\n\\n# Average of NMI and ARS\\ny = [sum(x) / 2 for x in zip(nmiResults, arsResults)]\\n\\nxlabels = [\\'Spectral\\', \\'Agglomerative\\', \\'Kmeans\\', \\'Affinity Propagation\\']\\n\\nfig = plt.figure()\\nax = fig.add_subplot(111)\\n\\n# Set parameters for plotting\\nind = np.arange(len(y))\\nwidth = 0.35\\n\\n# Create barchart and set the axis limits and titles\\nax.bar(ind, y, width,color=\\'blue\\', error_kw=dict(elinewidth=2, ecolor=\\'red\\'))\\nax.set_xlim(-width, len(ind)+width)\\nax.set_ylim(0,2)\\nax.set_ylabel(\\'Average Score (NMI, ARS)\\')\\nax.set_title(\\'Score Evaluation\\')\\n\\n# Add the xlabels to the chart\\nax.set_xticks(ind + width / 2)\\nxtickNames = ax.set_xticklabels(xlabels)\\nplt.setp(xtickNames, fontsize=12)\\n\\n# Add the actual value on top of each chart\\nfor i, v in enumerate(y):\\n    ax.text( i, v, str(round(v, 2)), color=\\'blue\\', fontweight=\\'bold\\')\\n\\n# Show the final plot\\nplt.show()</code></pre><p>As you can see in the chart below, K-means and Agglomerative clustering have the best results for our dataset (best possible outcome). That of course, does not mean that Spectral and AF are low-performing algorithms, just that the did not fit in our data.</p><p><img\\nsrc=\"http://www.learndatasci.com/wp-content/plugins/lazy-load/images/1x1.trans.gif\" data-lazy-src=\"http://www.learndatasci.com/wp-content/uploads/2017/02/clustering-score-evaluation.png\" alt=\"Clustering Score Evaluation\" width=\"800\" height=\"597\" class=\"aligncenter size-full wp-image-856\" srcset=\"http://www.learndatasci.com/wp-content/uploads/2017/02/clustering-score-evaluation.png 800w, http://www.learndatasci.com/wp-content/uploads/2017/02/clustering-score-evaluation-300x224.png 300w, http://www.learndatasci.com/wp-content/uploads/2017/02/clustering-score-evaluation-768x573.png 768w\" sizes=\"(max-width: 800px) 100vw, 800px\" /><noscript><img\\nsrc=\"http://www.learndatasci.com/wp-content/uploads/2017/02/clustering-score-evaluation.png\" alt=\"Clustering Score Evaluation\" width=\"800\" height=\"597\" class=\"aligncenter size-full wp-image-856\" srcset=\"http://www.learndatasci.com/wp-content/uploads/2017/02/clustering-score-evaluation.png 800w, http://www.learndatasci.com/wp-content/uploads/2017/02/clustering-score-evaluation-300x224.png 300w, http://www.learndatasci.com/wp-content/uploads/2017/02/clustering-score-evaluation-768x573.png 768w\" sizes=\"(max-width: 800px) 100vw, 800px\" /></noscript></p><p>Well, that\\'s it for this one!</p><p>Thanks for joining me in this clustering intro. I hope you found some value in seeing how we can easily manipulate a public dataset and apply several different clustering algorithms in Python. Let me know if you have any questions in the comments below, and feel free to attach a clustering project you\\'ve experimented with!</p><div\\nclass=\"prev-post\">\\n<a\\nhref=\"/predicting-housing-prices-linear-regression-using-python-pandas-statsmodels/\"></p><h4>Next Tutorial</h4><div\\nclass=\"row\"><div\\nclass=\"prev-post-right col-md-8\"><h5>Predicting Housing Prices with Linear Regression using Python, pandas, and statsmodels</h5><p>In this post, we\\'ll walk through building linear regression models to predict housing prices resulting from economic activity.</p></div></div><p></a></div><p><script src=\"https://cdn.rawgit.com/google/code-prettify/master/loader/run_prettify.js?skin=desert\"></script><br\\n/> <script src=\"http://d3js.org/d3.v3.min.js\" charset=\"utf-8\"></script><br\\n/> <script src=\"http://cdn.rawgit.com/nitoyon/tech.nitoyon.com/master/ja/blog/2013/11/07/k-means/k-means.js\"></script></p><style>/*<![CDATA[*/<p>#kmeans>svg{width:100%}</p>/*]]>*/</style><div\\nclass=\"essb_break_scroll\"></div></div></div></article></div><ul\\nclass=\"default-wp-page clearfix\"><li\\nclass=\"previous\"></li><li\\nclass=\"next\"><a\\nhref=\"http://www.learndatasci.com/data-science-interview-questions/\" rel=\"next\">Data Science Interview Questions <span\\nclass=\"meta-nav\">&rarr;</span></a></li></ul><div\\nclass=\"author-box\"><div\\nclass=\"author-img\"><img\\nsrc=\"http://www.learndatasci.com/wp-content/plugins/lazy-load/images/1x1.trans.gif\" data-lazy-src=\"http://www.learndatasci.com/wp-content/uploads/2017/01/Niko-Koufos-LearnDataSci-profile-image-e1485893622392-150x150.jpg\" width=\"100\" height=\"100\" alt=\"Nikos Koufos\" class=\"avatar avatar-100 wp-user-avatar wp-user-avatar-100 alignnone photo\"><noscript><img\\nsrc=\"http://www.learndatasci.com/wp-content/uploads/2017/01/Niko-Koufos-LearnDataSci-profile-image-e1485893622392-150x150.jpg\" width=\"100\" height=\"100\" alt=\"Nikos Koufos\" class=\"avatar avatar-100 wp-user-avatar wp-user-avatar-100 alignnone photo\" /></noscript></div><h4 class=\"author-name\">Nikos Koufos</h4><p\\nclass=\"author-description\">LearnDataSci Author, postgraduate in Computer Science &amp; Engineering at the University Ioannina, Greece, and Computer Science undergraduate teaching assistant.</p></div></div></div></div>\\n<footer\\nid=\"colophon\" class=\"clearfix\"><div\\nclass=\"footer-widgets-wrapper\"><div\\nclass=\"inner-wrap\"><div\\nclass=\"footer-widgets-area clearfix\"><div\\nclass=\"tg-footer-main-widget\"><div\\nclass=\"tg-first-footer-widget\">\\n<aside\\nid=\"nav_menu-2\" class=\"widget widget_nav_menu clearfix\"><div\\nclass=\"menu-footer-menu-2-container\"><ul\\nid=\"menu-footer-menu-2\" class=\"menu\"><li\\nid=\"menu-item-866\" class=\"menu-item menu-item-type-post_type menu-item-object-page menu-item-866\"><a\\nhref=\"http://www.learndatasci.com/best-data-science-online-courses/\">Top Data Science Online Courses in 2017</a></li><li\\nid=\"menu-item-867\" class=\"menu-item menu-item-type-post_type menu-item-object-page menu-item-867\"><a\\nhref=\"http://www.learndatasci.com/free-data-science-books/\">100+ Free Data Science Books for 2017</a></li><li\\nid=\"menu-item-1206\" class=\"menu-item menu-item-type-post_type menu-item-object-page menu-item-1206\"><a\\nhref=\"http://www.learndatasci.com/top-udemy-data-science-courses/\">Best 9 Udemy Data Science Courses</a></li></ul></div></aside></div></div><div\\nclass=\"tg-footer-other-widgets\"><div\\nclass=\"tg-second-footer-widget\">\\n<aside\\nid=\"nav_menu-4\" class=\"widget widget_nav_menu clearfix\"><div\\nclass=\"menu-footer-menu-container\"><ul\\nid=\"menu-footer-menu\" class=\"menu\"><li\\nid=\"menu-item-833\" class=\"menu-item menu-item-type-post_type menu-item-object-page menu-item-833\"><a\\nhref=\"http://www.learndatasci.com/contact-us/\">Contact Us</a></li><li\\nid=\"menu-item-832\" class=\"menu-item menu-item-type-post_type menu-item-object-page menu-item-832\"><a\\nhref=\"http://www.learndatasci.com/privacy-policy/\">Privacy Policy</a></li></ul></div></aside></div><div\\nclass=\"tg-third-footer-widget\"></div><div\\nclass=\"tg-fourth-footer-widget\"><div\\nclass=\"essbfc-container essbfc-col-3 essbfc-template-flat\"><ul><li\\nclass=\"essbfc-twitter\"><a\\nhref=\"https://www.twitter.com/LearnDataSci\" target=\"_blank\" rel=\"nofollow\"><div\\nclass=\"essbfc-network\"><i\\nclass=\"essbfc-icon essbfc-icon-twitter\"></i><span\\nclass=\"essbfc-followers-count\">2.6k</span><span\\nclass=\"essbfc-followers-text\">Followers</span></div></a></li><li\\nclass=\"essbfc-facebook\"><a\\nhref=\"https://www.facebook.com/learndatasci\" target=\"_blank\" rel=\"nofollow\"><div\\nclass=\"essbfc-network\"><i\\nclass=\"essbfc-icon essbfc-icon-facebook\"></i><span\\nclass=\"essbfc-followers-count\">1.1k</span><span\\nclass=\"essbfc-followers-text\">Fans</span></div></a></li></ul></div></div></div></div></div></div><div\\nclass=\"footer-socket-wrapper clearfix\"><div\\nclass=\"inner-wrap\"><div\\nclass=\"footer-socket-area\"><div\\nclass=\"footer-socket-right-section\"></div><div\\nclass=\"footer-socket-left-sectoin\"><div\\nclass=\"copyright\"><p>Copyright \\xc2\\xa9 2017 LearnDataSci. All rights reserved.</p></div></div></div></div></div>\\n</footer>\\n<a\\nhref=\"#masthead\" id=\"scroll-up\"><i\\nclass=\"fa fa-chevron-up\"></i></a></div> <script type=\\'text/javascript\\'>var colomatduration=\\'fast\\';var colomatslideEffect=\\'slideFade\\';</script><script type=\\'text/javascript\\'>var wpcf7={\"apiSettings\":{\"root\":\"http:\\\\/\\\\/www.learndatasci.com\\\\/wp-json\\\\/contact-form-7\\\\/v1\",\"namespace\":\"contact-form-7\\\\/v1\"},\"recaptcha\":{\"messages\":{\"empty\":\"Please verify that you are not a robot.\"}},\"cached\":\"1\"};</script> <script type=\"text/javascript\" src=\"http://www.learndatasci.com/wp-content/cache/minify/0fef6.js\"></script> <script type=\\'text/javascript\\'>var dot_irecommendthis={\"ajaxurl\":\"http:\\\\/\\\\/www.learndatasci.com\\\\/wp-admin\\\\/admin-ajax.php\"};</script> <script type=\"text/javascript\" src=\"http://www.learndatasci.com/wp-content/cache/minify/c6d97.js\"></script> <script type=\\'text/javascript\\'>var qpprFrontData={\"linkData\":{\"http:\\\\/\\\\/www.learndatasci.com\\\\/?p=192\":[0,1,\"\"],\"http:\\\\/\\\\/www.learndatasci.com\\\\/?page_id=53\":[0,1,\"\"]},\"siteURL\":\"http:\\\\/\\\\/www.learndatasci.com\",\"siteURLq\":\"http:\\\\/\\\\/www.learndatasci.com\"};</script> <script type=\"text/javascript\" src=\"http://www.learndatasci.com/wp-content/cache/minify/68e92.js\"></script> <script type=\\'text/javascript\\'>var tocplus={\"smooth_scroll\":\"1\",\"visibility_show\":\"show\",\"visibility_hide\":\"hide\",\"visibility_hide_by_default\":\"1\",\"width\":\"Auto\",\"smooth_scroll_offset\":\"90\"};</script> <script type=\"text/javascript\" src=\"http://www.learndatasci.com/wp-content/cache/minify/557db.js\"></script> <div\\nclass=\"essb_mailform\"><div\\nclass=\"essb_mailform_content\"><p>Send this to a friend</p><label\\nclass=\"essb_mailform_content_label\">Your email</label><input\\ntype=\"text\" id=\"essb_mailform_from\" class=\"essb_mailform_content_input\" placeholder=\"Your email\"/><label\\nclass=\"essb_mailform_content_label\">Recipient email</label><input\\ntype=\"text\" id=\"essb_mailform_to\" class=\"essb_mailform_content_input\" placeholder=\"Recipient email\"/><div\\nclass=\"essb_mailform_content_buttons\"><button\\nid=\"essb_mailform_btn_submit\" class=\"essb_mailform_content_button\" onclick=\"essb_mailform_send();\">Send</button><button\\nid=\"essb_mailform_btn_cancel\" class=\"essb_mailform_content_button\" onclick=\"essb_close_mailform(); return false;\">Cancel</button></div><input\\ntype=\"hidden\" id=\"essb_mail_salt\" value=\"1070138940\"/><input\\ntype=\"hidden\" id=\"essb_mail_instance\" value=\"\"/><input\\ntype=\"hidden\" id=\"essb_mail_post\" value=\"\"/></div></div><div\\nclass=\"essb_mailform_shadow\"></div><style type=\"text/css\">.essb_displayed_postfloat{margin-left:-200px !important}.essb_displayed_postfloat.essb_postfloat_fixed{top:100px !important}</style><link\\nrel=\"stylesheet\" id=\"essb-social-followers-counter\"  href=\"http://www.learndatasci.com/wp-content/plugins/easy-social-share-buttons3/lib/modules/social-followers-counter/assets/css/essb-followers-counter.min.css\" type=\"text/css\" media=\"all\" /><script type=\"text/javascript\">(function(){var po=document.createElement(\\'script\\');po.type=\\'text/javascript\\';po.async=true;;po.src=\\'http://www.learndatasci.com/wp-content/plugins/easy-social-share-buttons3/assets/js/easy-social-share-buttons.min.js\\';var s=document.getElementsByTagName(\\'script\\')[0];s.parentNode.insertBefore(po,s);})();(function(){var po=document.createElement(\\'script\\');po.type=\\'text/javascript\\';po.async=true;;po.src=\\'http://www.learndatasci.com/wp-content/plugins/easy-social-share-buttons3/assets/js/essb-display-methods.min.js\\';var s=document.getElementsByTagName(\\'script\\')[0];s.parentNode.insertBefore(po,s);})();</script><script type=\"text/javascript\">(function(){var po=document.createElement(\\'script\\');po.type=\\'text/javascript\\';po.async=true;;po.src=\\'http://www.learndatasci.com/wp-content/plugins/easy-social-share-buttons3/assets/js/essb-subscribe.min.js\\';var s=document.getElementsByTagName(\\'script\\')[0];s.parentNode.insertBefore(po,s);})();</script><script type=\"text/javascript\">/*<![CDATA[*/var essb_handle_stats=function(oService,oPostID,oInstance){var element=jQuery(\\'.essb_\\'+oInstance);var instance_postion=jQuery(element).attr(\"data-essb-position\")||\"\";var instance_template=jQuery(element).attr(\"data-essb-template\")||\"\";var instance_button=jQuery(element).attr(\"data-essb-button-style\")||\"\";var instance_counters=jQuery(element).hasClass(\"essb_counters\")?true:false;var instance_nostats=jQuery(element).hasClass(\"essb_nostats\")?true:false;if(instance_nostats){return;}var instance_mobile=false;if((/Android|webOS|iPhone|iPad|iPod|BlackBerry|IEMobile|Opera Mini/i).test(navigator.userAgent)){instance_mobile=true;}if(typeof(essb_settings)!=\"undefined\"){jQuery.post(essb_settings.ajax_url,{\\'action\\':\\'essb_stat_log\\',\\'post_id\\':oPostID,\\'service\\':oService,\\'template\\':instance_template,\\'mobile\\':instance_mobile,\\'position\\':instance_postion,\\'button\\':instance_button,\\'counter\\':instance_counters,\\'nonce\\':essb_settings.essb3_nonce},function(data){if(data){}},\\'json\\');}};var essb_clicked_lovethis=false;var essb_love_you_message_thanks=\"Thank you for loving this.\";var essb_love_you_message_loved=\"You already love this today.\";var essb_lovethis=function(oInstance){if(essb_clicked_lovethis){alert(essb_love_you_message_loved);return;}var element=jQuery(\\'.essb_\\'+oInstance);if(!element.length){return;}var instance_post_id=jQuery(element).attr(\"data-essb-postid\")||\"\";var cookie_set=essb_get_lovecookie(\"essb_love_\"+instance_post_id);if(cookie_set){alert(essb_love_you_message_loved);return;}if(typeof(essb_settings)!=\"undefined\"){jQuery.post(essb_settings.ajax_url,{\\'action\\':\\'essb_love_action\\',\\'post_id\\':instance_post_id,\\'service\\':\\'love\\',\\'nonce\\':essb_settings.essb3_nonce},function(data){if(data){alert(essb_love_you_message_thanks);}},\\'json\\');}essb_tracking_only(\\'\\',\\'love\\',oInstance,true);};var essb_get_lovecookie=function(name){var value=\"; \"+document.cookie;var parts=value.split(\"; \"+name+\"=\");if(parts.length==2)return parts.pop().split(\";\").shift();};var essb_window=function(oUrl,oService,oInstance){var element=jQuery(\\'.essb_\\'+oInstance);var instance_post_id=jQuery(element).attr(\"data-essb-postid\")||\"\";var instance_position=jQuery(element).attr(\"data-essb-position\")||\"\";var wnd;var w=800;var h=500;if(oService==\"twitter\"){w=500;h=300;}var left=(screen.width/2)-(w/2);var top=(screen.height/2)-(h/2);if(oService==\"twitter\"){wnd=window.open(oUrl,\"essb_share_window\",\"height=300,width=500,resizable=1,scrollbars=yes,top=\"+top+\",left=\"+left);}else{wnd=window.open(oUrl,\"essb_share_window\",\"height=500,width=800,resizable=1,scrollbars=yes,top=\"+top+\",left=\"+left);}if(typeof(essb_settings)!=\"undefined\"){if(essb_settings.essb3_stats){if(typeof(essb_handle_stats)!=\"undefined\"){essb_handle_stats(oService,instance_post_id,oInstance);}}if(essb_settings.essb3_ga){essb_ga_tracking(oService,oUrl,instance_position);}}essb_self_postcount(oService,instance_post_id);if(typeof(essb_abtesting_logger)!=\"undefined\"){essb_abtesting_logger(oService,instance_post_id,oInstance);}var pollTimer=window.setInterval(function(){if(wnd.closed!==false){window.clearInterval(pollTimer);essb_smart_onclose_events(oService,instance_post_id);}},200);};var essb_self_postcount=function(oService,oCountID){if(typeof(essb_settings)!=\"undefined\"){oCountID=String(oCountID);jQuery.post(essb_settings.ajax_url,{\\'action\\':\\'essb_self_postcount\\',\\'post_id\\':oCountID,\\'service\\':oService,\\'nonce\\':essb_settings.essb3_nonce},function(data){if(data){}},\\'json\\');}};var essb_smart_onclose_events=function(oService,oPostID){if(oService==\"subscribe\"||oService==\"comments\")return;if(typeof(essbasc_popup_show)==\\'function\\'){essbasc_popup_show();}if(typeof essb_acs_code==\\'function\\'){essb_acs_code(oService,oPostID);}if(typeof(after_share_easyoptin)!=\"undefined\"){essb_toggle_subscribe(after_share_easyoptin);}};var essb_tracking_only=function(oUrl,oService,oInstance,oAfterShare){var element=jQuery(\\'.essb_\\'+oInstance);if(oUrl==\"\"){oUrl=document.URL;}var instance_post_id=jQuery(element).attr(\"data-essb-postid\")||\"\";var instance_position=jQuery(element).attr(\"data-essb-position\")||\"\";if(typeof(essb_settings)!=\"undefined\"){if(essb_settings.essb3_stats){if(typeof(essb_handle_stats)!=\"undefined\"){essb_handle_stats(oService,instance_post_id,oInstance);}}if(essb_settings.essb3_ga){essb_ga_tracking(oService,oUrl,instance_position);}}essb_self_postcount(oService,instance_post_id);if(oAfterShare){essb_smart_onclose_events(oService,instance_post_id);}};var essb_pinterest_picker=function(oInstance){essb_tracking_only(\\'\\',\\'pinterest\\',oInstance);var e=document.createElement(\\'script\\');e.setAttribute(\\'type\\',\\'text/javascript\\');e.setAttribute(\\'charset\\',\\'UTF-8\\');e.setAttribute(\\'src\\',\\'//assets.pinterest.com/js/pinmarklet.js?r=\\'+Math.random()*99999999);document.body.appendChild(e);};var essb_ga_tracking=function(oService,oPosition,oURL){var essb_ga_type=essb_settings.essb3_ga_mode;if(\\'ga\\'in window&&window.ga!==undefined&&typeof window.ga===\\'function\\'){if(essb_ga_type==\"extended\"){ga(\\'send\\',\\'event\\',\\'social\\',oService+\\' \\'+oPosition,oURL);}else{ga(\\'send\\',\\'event\\',\\'social\\',oService,oURL);}}if(essb_ga_type==\"layers\"&&typeof(dataLayer)!=\"undefined\"){dataLayer.push({\\'service\\':oService,\\'position\\':oPosition,\\'url\\':oURL,\\'event\\':\\'social\\'});}};var essb_morepopup_opened=false;function essb_toggle_more_popup(unique_id){jQuery.fn.extend({center:function(){return this.each(function(){var top=(jQuery(window).height()-jQuery(this).outerHeight())/2;var left=(jQuery(window).width()-jQuery(this).outerWidth())/2;jQuery(this).css({position:\\'fixed\\',margin:0,top:(top>0?top:0)+\\'px\\',left:(left>0?left:0)+\\'px\\'});});},centerH:function(bottom_position){return this.each(function(){var left=(jQuery(window).width()-jQuery(this).outerWidth())/2;jQuery(this).css({position:\\'fixed\\',margin:0,bottom:(bottom_position>0?bottom_position:0)+\\'px\\',left:(left>0?left:0)+\\'px\\'});});}});if(essb_morepopup_opened){essb_toggle_less_popup(unique_id);return;}if(jQuery(\".essb_morepopup_\"+unique_id).hasClass(\"essb_morepopup_inline\")){essb_toggle_more_inline(unique_id);return;}var is_from_mobilebutton=false;var height_of_mobile_bar=0;if(jQuery(\".essb-mobile-sharebottom\").length){is_from_mobilebutton=true;height_of_mobile_bar=jQuery(\".essb-mobile-sharebottom\").outerHeight();}var win_width=jQuery(window).width();var win_height=jQuery(window).height();var doc_height=jQuery(\\'document\\').height();var base_width=550;if(!is_from_mobilebutton){base_width=660;}if(win_width<base_width){base_width=win_width-30;}var height_correction=is_from_mobilebutton?10:80;var instance_mobile=false;var element_class=\".essb_morepopup_\"+unique_id;var element_class_shadow=\".essb_morepopup_shadow_\"+unique_id;var alignToBottom=false;if(jQuery(element_class).hasClass(\"essb_morepopup_sharebottom\"))alignToBottom=true;if(jQuery(element_class).hasClass(\"essb_morepopup_modern\")&&!is_from_mobilebutton)height_correction=100;jQuery(element_class).css({width:base_width+\\'px\\'});var element_content_class=\".essb_morepopup_content_\"+unique_id;var popup_height=jQuery(element_class).outerHeight();if(popup_height>(win_height-30)){var additional_correction=0;if(is_from_mobilebutton){jQuery(element_class).css({top:\\'5px\\'});additional_correction+=30;}jQuery(element_class).css({height:(win_height-height_of_mobile_bar-height_correction-additional_correction)+\\'px\\'});jQuery(element_content_class).css({height:(win_height-height_of_mobile_bar-additional_correction-(height_correction+30))+\\'px\\',\"overflowY\":\"auto\"});}jQuery(element_class_shadow).css({height:(win_height-height_of_mobile_bar)+\\'px\\'});if(!alignToBottom)jQuery(element_class).center();else{var left=(jQuery(window).width()-jQuery(element_class).outerWidth())/2;jQuery(element_class).css({left:left+\"px\",position:\\'fixed\\',margin:0,bottom:(height_of_mobile_bar+height_correction)+\"px\"});}jQuery(element_class).fadeIn(400);jQuery(element_class_shadow).fadeIn(200);essb_morepopup_opened=true;};function essb_toggle_less_popup(unique_id){var element_class=\".essb_morepopup_\"+unique_id;var element_class_shadow=\".essb_morepopup_shadow_\"+unique_id;jQuery(element_class).fadeOut(200);jQuery(element_class_shadow).fadeOut(200);essb_morepopup_opened=false;};function essb_toggle_more_inline(unique_id){var buttons_element=jQuery(\".essb_\"+unique_id);if(!buttons_element.length)return;var element_class=\".essb_morepopup_\"+unique_id;var appear_y=jQuery(buttons_element).position().top+jQuery(buttons_element).outerHeight(true);var appear_x=jQuery(buttons_element).position().left;var appear_position=\"absolute\";var appear_at_bottom=false;if(jQuery(buttons_element).css(\"position\")===\"fixed\")appear_position=\"fixed\";if(jQuery(buttons_element).hasClass(\"essb_displayed_bottombar\"))appear_at_bottom=true;if(appear_at_bottom){appear_y=jQuery(buttons_element).position().top-jQuery(element_class).outerHeight(true);var pointer_element=jQuery(element_class).find(\".modal-pointer\");if(jQuery(pointer_element).hasClass(\"modal-pointer-up-left\")){jQuery(pointer_element).removeClass(\"modal-pointer-up-left\");jQuery(pointer_element).addClass(\"modal-pointer-down-left\");}}var more_button=jQuery(buttons_element).find(\".essb_link_more\");if(!jQuery(more_button).length)more_button=jQuery(buttons_element).find(\".essb_link_more_dots\");if(jQuery(more_button).length)appear_x=(appear_position!=\"fixed\")?jQuery(more_button).position().left-5:(appear_x+jQuery(more_button).position().left-5);var share_button=jQuery(buttons_element).find(\".essb_link_share\");if(jQuery(share_button).length)appear_x=(appear_position!=\"fixed\")?jQuery(share_button).position().left-5:(appear_x+jQuery(share_button).position().left-5);jQuery(element_class).css({left:appear_x+\"px\",position:appear_position,margin:0,top:appear_y+\"px\"});jQuery(element_class).fadeIn(200);essb_morepopup_opened=true;}var essb_print=function(oInstance){essb_tracking_only(\\'\\',\\'print\\',oInstance);window.print();};jQuery(document).ready(function($){$(window).scroll(essb_postfloat_onscroll);function essb_postfloat_onscroll(){var current_pos=$(window).scrollTop();var height=$(document).height()-$(window).height();var percentage=current_pos/height*100;var value_appear=\"0\";var element;if($(\".essb_displayed_postfloat\").length){element=$(\".essb_displayed_postfloat\");}if(!element||typeof(element)==\"undefined\"){return;}value_appear=parseInt(value_appear);if(value_appear>0){if(percentage>=value_appear&&!element.hasClass(\"essb_active_postfloat\")){element.addClass(\"essb_active_postfloat\");return;}if(percentage<value_appear&&element.hasClass(\"essb_active_postfloat\")){element.removeClass(\"essb_active_postfloat\");return;}}}});var essb_mailform_opened=false;function essb_open_mailform(unique_id){jQuery.fn.extend({center:function(){return this.each(function(){var top=(jQuery(window).height()-jQuery(this).outerHeight())/2;var left=(jQuery(window).width()-jQuery(this).outerWidth())/2;jQuery(this).css({position:\\'fixed\\',margin:0,top:(top>0?top:0)+\\'px\\',left:(left>0?left:0)+\\'px\\'});});}});if(essb_mailform_opened){essb_close_mailform(unique_id);return;}var sender_element=jQuery(\".essb_\"+unique_id);if(!sender_element.length)return;var sender_post_id=jQuery(sender_element).attr(\"data-essb-postid\")||\"\";jQuery(\"#essb_mail_instance\").val(unique_id);jQuery(\"#essb_mail_post\").val(sender_post_id);var win_width=jQuery(window).width();var win_height=jQuery(window).height();var doc_height=jQuery(\\'document\\').height();var base_width=300;if(win_width<base_width){base_width=win_width-30;}var height_correction=20;var element_class=\".essb_mailform\";var element_class_shadow=\".essb_mailform_shadow\";jQuery(element_class).css({width:base_width+\\'px\\'});var popup_height=jQuery(element_class).outerHeight();if(popup_height>(win_height-30)){jQuery(element_class).css({height:(win_height-height_correction)+\\'px\\'});}jQuery(\"#essb_mailform_from\").val(\"\");jQuery(\"#essb_mailform_to\").val(\"\");if(jQuery(\"#essb_mailform_c\").length)jQuery(\"#essb_mailform_c\").val(\"\");jQuery(element_class_shadow).css({height:(win_height)+\\'px\\'});jQuery(element_class).center();jQuery(element_class).slideDown(200);jQuery(element_class_shadow).fadeIn(200);essb_mailform_opened=true;essb_tracking_only(\"\",\"mail\",unique_id);};function essb_close_mailform(){var element_class=\".essb_mailform\";var element_class_shadow=\".essb_mailform_shadow\";jQuery(element_class).fadeOut(200);jQuery(element_class_shadow).fadeOut(200);essb_mailform_opened=false;};function essb_mailform_send(){var sender_email=jQuery(\"#essb_mailform_from\").val();var recepient_email=jQuery(\"#essb_mailform_to\").val();var captcha_validate=jQuery(\"#essb_mailform_c\").length?true:false;var captcha=captcha_validate?jQuery(\"#essb_mailform_c\").val():\"\";var custom_message=jQuery(\"#essb_mailform_custom\").length?jQuery(\"#essb_mailform_custom\").val():\"\";if(sender_email==\"\"||recepient_email==\"\"||(captcha==\"\"&&captcha_validate)){alert(\"Please fill all fields in form!\");return;}var mail_salt=jQuery(\"#essb_mail_salt\").val();var instance_post_id=jQuery(\"#essb_mail_post\").val();console.log(\"mail salt = \"+mail_salt);if(typeof(essb_settings)!=\"undefined\"){jQuery.post(essb_settings.ajax_url,{\"action\":\"essb_mail_action\",\"post_id\":instance_post_id,\"from\":sender_email,\"to\":recepient_email,\"c\":captcha,\"cu\":custom_message,\"salt\":mail_salt,\"nonce\":essb_settings.essb3_nonce},function(data){if(data){console.log(data);alert(data[\"message\"]);if(data[\"code\"]==\"1\")essb_close_mailform();}},\\'json\\');}};/*]]>*/</script></body></html>'\n"
     ]
    }
   ],
   "source": [
    "data = weburl.read()\n",
    "print(data)"
   ]
  },
  {
   "cell_type": "markdown",
   "metadata": {
    "colab_type": "text",
    "id": "7f2A6gi6p1hn"
   },
   "source": [
    "### Steps\n",
    "1)Import urllib\n",
    "\n",
    "2)Declare the variable WebURL\n",
    "\n",
    "3)Call the URL Open function to URL lib\n",
    "\n",
    "4)Print the result code\n",
    "\n",
    "5)Convert the result code into string. So that it concatenate with our string \"result code\"\n",
    "\n",
    "6)code 200 is HTTP Processed succesfully\n",
    "\n",
    "7)To get the HTML file call the read function\n",
    "\n",
    "8)Read function allow you to read content of the variables\n",
    "\n",
    "9)Run the Code it will print HTML Data"
   ]
  },
  {
   "cell_type": "markdown",
   "metadata": {
    "colab_type": "text",
    "id": "X7AIHpQrp1ho"
   },
   "source": [
    "<h2>Fetching Data </h2>"
   ]
  },
  {
   "cell_type": "markdown",
   "metadata": {
    "colab_type": "text",
    "id": "0hx1x93Dp1hp"
   },
   "source": [
    "## Regular Expression\n",
    "A regular expression in a programming language is a special text string used for describing a search pattern. It is extremely useful for extracting information from text such as code, files, log, spreadsheets or even documents"
   ]
  },
  {
   "cell_type": "markdown",
   "metadata": {
    "colab_type": "text",
    "id": "h8q9JmEMp1hp"
   },
   "source": [
    "While using the regular expression the first thing is to recognize is that everything is essentially a character, and we are writing patterns to match a specific sequence of characters also referred as string. Ascii or latin letters are those that are on your keyboards and Unicode is used to match the foreign text. It includes digits and punctuation and all special characters like $#@!%, etc."
   ]
  },
  {
   "cell_type": "markdown",
   "metadata": {
    "colab_type": "text",
    "id": "Fc3NoKMyp1hq"
   },
   "source": [
    "In Python, a regular expression is denoted as RE (REs, regexes or regex pattern) are imported through re module. Python supports regular expression through libraries. In Python regular expression supports various things like Modifiers, Identifiers, and White space characters."
   ]
  },
  {
   "cell_type": "markdown",
   "metadata": {
    "colab_type": "text",
    "id": "qvk7ooYCp1hq"
   },
   "source": [
    "### Regular Expression Syntax\n",
    "re\" module included with Python primarily used for string searching and manipulation\n",
    "Also used frequently for web page \"Scraping\" (extract large amount of data from websites)"
   ]
  },
  {
   "cell_type": "code",
   "execution_count": null,
   "metadata": {
    "colab": {},
    "colab_type": "code",
    "id": "vn1ibsUnp1hr"
   },
   "outputs": [],
   "source": [
    "import re"
   ]
  },
  {
   "cell_type": "markdown",
   "metadata": {
    "colab_type": "text",
    "id": "uh3KzNP8p1hs"
   },
   "source": [
    "### Example of w+ and ^ Expression\n",
    "\"^\": This expression matches the start of a string\n",
    "\n",
    "\"w+\": This expression matches the alphanumeric character in the string"
   ]
  },
  {
   "cell_type": "code",
   "execution_count": null,
   "metadata": {
    "colab": {},
    "colab_type": "code",
    "id": "pz1QgZ-Hp1ht",
    "outputId": "bbf884b2-64a4-47d2-a21a-1aabe3bfe47d"
   },
   "outputs": [
    {
     "name": "stdout",
     "output_type": "stream",
     "text": [
      "['Python']\n"
     ]
    }
   ],
   "source": [
    "import re\n",
    "reg = \"Python is for fun\"\n",
    "r1 = re.findall(r\"^\\w+\", reg)\n",
    "print(r1)"
   ]
  },
  {
   "cell_type": "markdown",
   "metadata": {
    "colab_type": "text",
    "id": "_OgiarZyp1hv"
   },
   "source": [
    "### Example of \\s expression in re.split function\n",
    "\"s\": This expression is used for creating a space in the string"
   ]
  },
  {
   "cell_type": "code",
   "execution_count": null,
   "metadata": {
    "colab": {},
    "colab_type": "code",
    "id": "ECr1HAfQp1hv",
    "outputId": "daa3b204-a0c5-4915-96a0-a48d13cbe9bd"
   },
   "outputs": [
    {
     "name": "stdout",
     "output_type": "stream",
     "text": [
      "['Travelling', 'is', 'best', 'part', 'in', 'the', 'life']\n"
     ]
    }
   ],
   "source": [
    "import re\n",
    "print((re.split(r'\\s', 'Travelling is best part in the life')))"
   ]
  },
  {
   "cell_type": "markdown",
   "metadata": {
    "colab_type": "text",
    "id": "4eOKKqMVp1hx"
   },
   "source": [
    "Now, let see what happens if you remove \"\\\" from s. There is no 's' alphabet in the output, this is because we have removed '\\' from the string, and it evaluates \"s\" as a regular character and thus split the words wherever it finds \"s\" in the string."
   ]
  },
  {
   "cell_type": "code",
   "execution_count": null,
   "metadata": {
    "colab": {},
    "colab_type": "code",
    "id": "w19ZBZXkp1hy",
    "outputId": "959eeaaf-2920-451e-8ab7-02aacb0fc8c1"
   },
   "outputs": [
    {
     "name": "stdout",
     "output_type": "stream",
     "text": [
      "['Travelling i', ' be', 't part in the life']\n"
     ]
    }
   ],
   "source": [
    "import re\n",
    "print((re.split(r's', 'Travelling is best part in the life')))"
   ]
  },
  {
   "cell_type": "markdown",
   "metadata": {
    "colab_type": "text",
    "id": "9-ivRWY9p1h0"
   },
   "source": [
    "### Using regular expression methods\n",
    "The \"re\" package provides several methods to actually perform queries on an input string. The method we going to see are\n",
    "\n",
    "re.match()\n",
    "\n",
    "re.search()\n",
    "\n",
    "re.findall()"
   ]
  },
  {
   "cell_type": "markdown",
   "metadata": {
    "colab_type": "text",
    "id": "_DnMLwpXp1h0"
   },
   "source": [
    "#### Using re.match()\n",
    "\n",
    "The match function is used to match the RE pattern to string with optional flags. In this method, the expression \"w+\" and \"\\W\" will match the words starting with letter 's' and thereafter, anything which is not started with 's' is not identified. To check match for each element in the list or string, we run the forloop."
   ]
  },
  {
   "cell_type": "code",
   "execution_count": null,
   "metadata": {
    "colab": {},
    "colab_type": "code",
    "id": "TOEr-NL8p1h1",
    "outputId": "120bf30c-b1fd-4aee-e3a6-928e3f68f0f1"
   },
   "outputs": [
    {
     "name": "stdout",
     "output_type": "stream",
     "text": [
      "('sun',)\n",
      "('sun',)\n",
      "('sun',)\n"
     ]
    }
   ],
   "source": [
    "list = [\"sun \", \"sun light\", \"sun set\", \"moon light\"]\n",
    "for element in list:\n",
    "    #z = re.match(\"(s\\w+)\\W(s\\w+)\", element)\n",
    "    y = re.match(\"(s\\w+)\", element)\n",
    "    if y:\n",
    "        print(y.groups())"
   ]
  },
  {
   "cell_type": "markdown",
   "metadata": {
    "colab_type": "text",
    "id": "jwkvlxLWp1iB"
   },
   "source": [
    "### Finding Pattern in Text (re.search())\n",
    "A regular expression is commonly used to search for a pattern in a text. This method takes a regular expression pattern and a string and searches for that pattern with the string."
   ]
  },
  {
   "cell_type": "markdown",
   "metadata": {
    "colab_type": "text",
    "id": "5Mq_a_lRp1iC"
   },
   "source": [
    "In order to use search() function, you need to import re first and then execute the code. The search() function takes the \"pattern\" and \"text\" to scan from our main string and returns a match object when the pattern is found or else not match if the pattern is not found."
   ]
  },
  {
   "cell_type": "code",
   "execution_count": null,
   "metadata": {
    "colab": {},
    "colab_type": "code",
    "id": "Xv2oT88Sp1iD",
    "outputId": "8447d2f5-8779-4c82-f220-71df3e733edf"
   },
   "outputs": [
    {
     "name": "stdout",
     "output_type": "stream",
     "text": [
      "Looking for \"my world is beautiful\" in \"This world is beautiful with more fun and Its awesome\" ->no match\n",
      "Looking for \"Its awesome\" in \"This world is beautiful with more fun and Its awesome\" ->found a match\n",
      "Looking for \"fun\" in \"This world is beautiful with more fun and Its awesome\" ->found a match\n"
     ]
    }
   ],
   "source": [
    "import re\n",
    "\n",
    "patterns = ['my world is beautiful', 'Its awesome', 'fun']\n",
    "text = 'This world is beautiful with more fun and Its awesome'\n",
    "\n",
    "for pattern in patterns:\n",
    "    print('Looking for \"%s\" in \"%s\" ->' % (pattern, text), end='')\n",
    "    \n",
    "    if re.search(pattern, text):\n",
    "        print(\"found a match\")\n",
    "        \n",
    "    else:\n",
    "        print(\"no match\")"
   ]
  },
  {
   "cell_type": "markdown",
   "metadata": {
    "colab_type": "text",
    "id": "ix9ANO3hp1iG"
   },
   "source": [
    "### Using re.findall for text"
   ]
  },
  {
   "cell_type": "markdown",
   "metadata": {
    "colab_type": "text",
    "id": "sJ_vVcDWp1iG"
   },
   "source": [
    "Re.findall() module is used when you want to iterate over the lines of the file, it will return a list of all the matches in a single step. For example, here we have a list of e-mail addresses, and we want all the e-mail addresses to be fetched out from the list, we use the re.findall method. It will find all the e-mail addresses from the list."
   ]
  },
  {
   "cell_type": "code",
   "execution_count": null,
   "metadata": {
    "colab": {},
    "colab_type": "code",
    "id": "GXxZy_CDp1iG"
   },
   "outputs": [],
   "source": [
    "import re\n",
    "abc = 'abc123@gmail.com, destiny@gmail.com, behappy@gmail.com, funtime@gmail.com'\n",
    "\n",
    "email = re.findall(r'[\\w\\.-]+#[\\w\\.-]+', abc)\n",
    "\n",
    "for emails in email:\n",
    "    print(email)"
   ]
  },
  {
   "cell_type": "markdown",
   "metadata": {
    "colab_type": "text",
    "id": "E7dELaQrp1iH"
   },
   "source": [
    "<h2>lamda function</h2>\n",
    "\n",
    "The lambda operator or lambda function is a way to create small anonymous functions, i.e. functions without a name. These functions are throw-away functions, i.e. they are just needed where they have been created. Lambda functions are mainly used in combination with the functions filter(), map() and reduce()"
   ]
  },
  {
   "cell_type": "code",
   "execution_count": null,
   "metadata": {
    "colab": {},
    "colab_type": "code",
    "id": "lEfBymqEp1iI",
    "outputId": "799a3750-d0f3-4594-b23e-5d82a44656d7"
   },
   "outputs": [
    {
     "name": "stdout",
     "output_type": "stream",
     "text": [
      "2\n"
     ]
    }
   ],
   "source": [
    "def sum(x=1):\n",
    "    print(x+1)\n",
    "    \n",
    "sum()"
   ]
  },
  {
   "cell_type": "code",
   "execution_count": null,
   "metadata": {
    "colab": {},
    "colab_type": "code",
    "id": "WEf-1D0Pp1iK",
    "outputId": "dd9da697-b95f-45cb-d55f-2e8eb7bb573e"
   },
   "outputs": [
    {
     "data": {
      "text/plain": [
       "2"
      ]
     },
     "execution_count": 47,
     "metadata": {
      "tags": []
     },
     "output_type": "execute_result"
    }
   ],
   "source": [
    "f = lambda x: x+1\n",
    "f(1)"
   ]
  },
  {
   "cell_type": "markdown",
   "metadata": {
    "colab_type": "text",
    "id": "T9AwCq98p1iM"
   },
   "source": [
    "## The Map function\n",
    "The advantage of the lambda operator can be seen when it is used in combination with the map() function. \n",
    "map() is a function with two arguments:\n"
   ]
  },
  {
   "cell_type": "markdown",
   "metadata": {
    "colab_type": "text",
    "id": "otKwaDjAp1iM"
   },
   "source": [
    "r = map(fun, seq)\n",
    "\n",
    "#The first argument func is the name of a function\n",
    "#Second is sequence"
   ]
  },
  {
   "cell_type": "code",
   "execution_count": null,
   "metadata": {
    "colab": {},
    "colab_type": "code",
    "id": "ar4_LCimp1iM",
    "outputId": "9ea33931-ba9d-491b-be56-b6c60b29c159"
   },
   "outputs": [
    {
     "data": {
      "text/plain": [
       "5"
      ]
     },
     "execution_count": 50,
     "metadata": {
      "tags": []
     },
     "output_type": "execute_result"
    }
   ],
   "source": [
    "def add(x, y): \n",
    "    return x + y\n",
    "  \n",
    "add(2, 3)"
   ]
  },
  {
   "cell_type": "code",
   "execution_count": null,
   "metadata": {
    "colab": {},
    "colab_type": "code",
    "id": "RbKTgDNXp1iO",
    "outputId": "e352d66a-c9d4-4eaf-8f74-8ce780aeffff"
   },
   "outputs": [
    {
     "name": "stdout",
     "output_type": "stream",
     "text": [
      "5\n"
     ]
    }
   ],
   "source": [
    "add = lambda x, y: x+y\n",
    "print(add(2, 3))"
   ]
  },
  {
   "cell_type": "code",
   "execution_count": null,
   "metadata": {
    "colab": {},
    "colab_type": "code",
    "id": "_j4weoyJp1iQ",
    "outputId": "9774fdf8-65e2-4c30-e211-6959f5fa94d1"
   },
   "outputs": [],
   "source": [
    "def multiply2(x):\n",
    "    return x * 2\n",
    "\n",
    "mult = map(multiply2, [1, 2, 3, 4, 5])\n",
    "print(list(mult))"
   ]
  },
  {
   "cell_type": "code",
   "execution_count": null,
   "metadata": {
    "colab": {},
    "colab_type": "code",
    "id": "BocQTuGhp1iS"
   },
   "outputs": [],
   "source": [
    "mult = map(lambda x: x*2, [1, 2, 3, 4, 5])"
   ]
  },
  {
   "cell_type": "markdown",
   "metadata": {
    "colab_type": "text",
    "id": "j7-7KrYdp1iS"
   },
   "source": [
    "### Iterating over a dictionary using map and lambda"
   ]
  },
  {
   "cell_type": "code",
   "execution_count": null,
   "metadata": {
    "colab": {},
    "colab_type": "code",
    "id": "6DOmApI_p1iS",
    "outputId": "1469e97e-e6ab-4937-a230-e8cac60aef2d"
   },
   "outputs": [
    {
     "name": "stdout",
     "output_type": "stream",
     "text": [
      "['python', 'java']\n",
      "[100, 80]\n",
      "[True, False]\n"
     ]
    }
   ],
   "source": [
    "dict_a = [{'name': 'python', 'points': 10}, {'name': 'java', 'points': 8}]\n",
    "\n",
    "x_d1 = map(lambda x : x['name'], dict_a)\n",
    "\n",
    "x_d2 = map(lambda x : x['points']*10,  dict_a) # Output: [100, 80]\n",
    "\n",
    "x_d3 = map(lambda x : x['name'] == \"python\", dict_a) # Output: [True, False]\n",
    "\n",
    "print(list(x_d1))\n",
    "print(list(x_d2))\n",
    "print(list(x_d3))"
   ]
  },
  {
   "cell_type": "markdown",
   "metadata": {
    "colab_type": "text",
    "id": "V5eVWCgip1iU"
   },
   "source": [
    "## Multiple iterables to the map function"
   ]
  },
  {
   "cell_type": "code",
   "execution_count": null,
   "metadata": {
    "colab": {},
    "colab_type": "code",
    "id": "rT3er77Gp1iU",
    "outputId": "00256f86-12fc-47e7-d298-a9f3cfb39845"
   },
   "outputs": [
    {
     "name": "stdout",
     "output_type": "stream",
     "text": [
      "[11, 22, 33]\n"
     ]
    }
   ],
   "source": [
    "list_a = [1, 2, 3]\n",
    "list_b = [10, 20, 30]\n",
    "\n",
    "x_d4 = map(lambda x, y: x + y, list_a, list_b)\n",
    "print(list(x_d4))"
   ]
  },
  {
   "cell_type": "markdown",
   "metadata": {
    "colab_type": "text",
    "id": "-61By-9lp1iW"
   },
   "source": [
    "In the example above we haven't used lambda. By using lambda, we wouldn't have had to define and name the functions fahrenheit() and celsius(). You can see this in the following interactive session:\n"
   ]
  },
  {
   "cell_type": "code",
   "execution_count": null,
   "metadata": {
    "colab": {},
    "colab_type": "code",
    "id": "JYdcWPX9p1iW"
   },
   "outputs": [],
   "source": [
    "Celsius = [39.2, 36.5, 37.3, 37.8]\n",
    "Farenheat = map(lambd x: (float(9/5)))"
   ]
  }
 ],
 "metadata": {
  "colab": {
   "name": "Advanced_Python.ipynb",
   "provenance": []
  },
  "kernelspec": {
   "display_name": "Python 3",
   "language": "python",
   "name": "python3"
  },
  "language_info": {
   "codemirror_mode": {
    "name": "ipython",
    "version": 3
   },
   "file_extension": ".py",
   "mimetype": "text/x-python",
   "name": "python",
   "nbconvert_exporter": "python",
   "pygments_lexer": "ipython3",
   "version": "3.6.5"
  }
 },
 "nbformat": 4,
 "nbformat_minor": 2
}
