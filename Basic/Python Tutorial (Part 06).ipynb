{
 "cells": [
  {
   "attachments": {},
   "cell_type": "markdown",
   "metadata": {},
   "source": [
    "## 6 File Operations & INTERMEDIATE topics \n",
    "\n",
    "### Opening and Closing Files\n",
    "Until now, you have been reading and writing to the standard input and output. Now, we will see how to use actual data files.\n",
    "\n",
    "Python provides basic functions and methods necessary to manipulate files by default. You can do most of the file manipulation using a file object.\n",
    "\n",
    "#### 1. The open Function\n",
    "Before you can read or write a file, you have to open it using Python's built-in open() function. This function creates a file object, which would be utilized to call other support methods associated with it.\n",
    "\n",
    "#### Syntax\n",
    "\n",
    "```file object = open(file_name , access_mode]```\n",
    "\n",
    "1. file_name − The file_name argument is a string value that contains the name of the file that you want to acces\n",
    "2. access_mode − The access_mode determines the mode in which the file has to be opened, i.e., read(r), write(w), append(a), etc.The default file access mode is read (r).\n",
    "\n",
    "#### 2. The write() Method\n",
    "The write() method writes any string to an open file. It is important to note that Python strings can have binary data and not just text.\n",
    "\n",
    "The write() method does not add a newline character ('\\n') to the end of the string −\n",
    "\n",
    "#### 3.The read() Method\n",
    "The read() method reads a string from an open file. It is important to note that Python strings can have binary data. apart from text data."
   ]
  },
  {
   "cell_type": "code",
   "execution_count": 50,
   "metadata": {},
   "outputs": [],
   "source": [
    "file1=open('example1.txt','w') #no need to be already existing\n",
    "\n",
    "file1.write('XXXXXXXXXXXXXXXX')\n",
    "file1.close()"
   ]
  },
  {
   "cell_type": "code",
   "execution_count": 51,
   "metadata": {},
   "outputs": [],
   "source": [
    "file2=open('example2.txt','a') #no need to be already existing\n",
    "\n",
    "file2.write('\\nYYYYYYYYYYYYYYYYYYYYYY')\n",
    "file2.close()"
   ]
  },
  {
   "cell_type": "code",
   "execution_count": 52,
   "metadata": {},
   "outputs": [
    {
     "name": "stdout",
     "output_type": "stream",
     "text": [
      "#pickle & unpickle are import concepts\n",
      "EmpID = {1:\"Zack\",2:\"53050\",3:\"IT\",4:\"38\",5:\"Flipkart\"}\n",
      "#\"wb\" mode opens the file in binary format for writing\n",
      "#\"rb\" mode opens the file in binary format for reading\n",
      "\n",
      "\n"
     ]
    }
   ],
   "source": [
    "file3=open('example3.txt','r') #must be exsisting\n",
    "\n",
    "output=file3.read()\n",
    "print(output)\n",
    "file3.close()"
   ]
  },
  {
   "cell_type": "code",
   "execution_count": 53,
   "metadata": {},
   "outputs": [
    {
     "name": "stdout",
     "output_type": "stream",
     "text": [
      "#pickle & \n"
     ]
    }
   ],
   "source": [
    "file3=open('example3.txt','r') #must be exsisting\n",
    "\n",
    "output=file3.read(10)\n",
    "print(output)\n",
    "file3.close()"
   ]
  },
  {
   "cell_type": "code",
   "execution_count": 54,
   "metadata": {},
   "outputs": [
    {
     "name": "stdout",
     "output_type": "stream",
     "text": [
      "#pickle & unpickle are import concepts\n",
      "\n"
     ]
    }
   ],
   "source": [
    "file3=open('example3.txt','r') #must be exsisting\n",
    "\n",
    "output=file3.readline()\n",
    "print(output)\n",
    "file3.close()"
   ]
  },
  {
   "cell_type": "code",
   "execution_count": 55,
   "metadata": {},
   "outputs": [
    {
     "name": "stdout",
     "output_type": "stream",
     "text": [
      "output1: #pickle & unpickle are import concepts\n",
      "\n",
      "output2: EmpID = {1:\"Zack\",2:\"53050\",3:\"IT\",4:\"38\",5:\"Flipkart\"}\n",
      "\n"
     ]
    }
   ],
   "source": [
    "file3=open('example3.txt','r') #must be exsisting\n",
    "\n",
    "output1=file3.readline()\n",
    "output2=file3.readline()\n",
    "print('output1:',output1)\n",
    "print('output2:',output2)\n",
    "file3.close()"
   ]
  },
  {
   "cell_type": "markdown",
   "metadata": {},
   "source": [
    "### How to read until the end of the file"
   ]
  },
  {
   "cell_type": "code",
   "execution_count": 56,
   "metadata": {},
   "outputs": [],
   "source": [
    "# file3=open('example3.txt','r') #must be exsisting\n",
    "\n",
    "# while(True):\n",
    "#     output=file3.readline()\n",
    "#     print(output)"
   ]
  },
  {
   "cell_type": "code",
   "execution_count": 57,
   "metadata": {},
   "outputs": [
    {
     "name": "stdout",
     "output_type": "stream",
     "text": [
      "#pickle & unpickle are import concepts\n",
      "\n",
      "EmpID = {1:\"Zack\",2:\"53050\",3:\"IT\",4:\"38\",5:\"Flipkart\"}\n",
      "\n",
      "#\"wb\" mode opens the file in binary format for writing\n",
      "\n",
      "#\"rb\" mode opens the file in binary format for reading\n",
      "\n",
      "\n",
      "\n",
      "\n"
     ]
    }
   ],
   "source": [
    "file3=open('example3.txt','r') #must be exsisting\n",
    "\n",
    "while(True):\n",
    "    output=file3.readline()\n",
    "    print(output)\n",
    "    if(output==\"\"):\n",
    "        break"
   ]
  },
  {
   "attachments": {},
   "cell_type": "markdown",
   "metadata": {},
   "source": [
    "## Code introspection in Python\n",
    "       Introspection is an ability to determine the type of an object at runtime. Everything in python is an object. Every object in Python may have attributes and methods by using introspection, we can dynamically examine python objects.\n",
    "\n",
    "        Code Introspection is used for examining the classes, methods, objects, modules, keywords and get information about them so that we can utilize it.\n",
    "\n",
    "Methods for Code Introspection\n",
    "type()  - This function returns the type of an object.\n",
    "\n",
    "str()   - This function converts everything into a string \n",
    "\n",
    "dir()   - This function return list of methods and attributes associated with that object.\n",
    "\n",
    "help()  - It is used it to find what other functions do\n",
    "\n",
    "repr()  - Return string representation of object.\n",
    "\n",
    "sys()   - Give access to system specific variables, functions\n",
    "\n",
    "__doc__ - Return some documentation about an object\n",
    "\n",
    "__name__ - Return the name of the object.\n",
    "\n",
    "\n",
    "## Dunder Methods \n",
    "\n",
    "           Dunder methods are methods that allow instances of a class to interact with the built-in functions and operators of the language. \n",
    "        ex:      __init__ ,  __add__ ,  __len__ ,  __repr__ etc."
   ]
  },
  {
   "cell_type": "code",
   "execution_count": 12,
   "metadata": {},
   "outputs": [
    {
     "name": "stdout",
     "output_type": "stream",
     "text": [
      "['__class__', '__delattr__', '__dict__', '__dir__', '__doc__', '__eq__', '__format__', '__ge__', '__getattribute__', '__gt__', '__hash__', '__init__', '__init_subclass__', '__le__', '__len__', '__lt__', '__module__', '__ne__', '__new__', '__reduce__', '__reduce_ex__', '__repr__', '__setattr__', '__sizeof__', '__str__', '__subclasshook__', '__weakref__', 'age', 'name', 'printAge', 'printName']\n",
      "<class '__main__.User'>\n",
      "Help on User in module __main__ object:\n",
      "\n",
      "class User(builtins.object)\n",
      " |  User(name, age)\n",
      " |  \n",
      " |  Methods defined here:\n",
      " |  \n",
      " |  __init__(self, name, age)\n",
      " |      Initialize self.  See help(type(self)) for accurate signature.\n",
      " |  \n",
      " |  __len__(self)\n",
      " |  \n",
      " |  __str__(self)\n",
      " |      Return str(self).\n",
      " |  \n",
      " |  printAge(self)\n",
      " |  \n",
      " |  printName(self)\n",
      " |  \n",
      " |  ----------------------------------------------------------------------\n",
      " |  Data descriptors defined here:\n",
      " |  \n",
      " |  __dict__\n",
      " |      dictionary for instance variables (if defined)\n",
      " |  \n",
      " |  __weakref__\n",
      " |      list of weak references to the object (if defined)\n",
      "\n",
      "None\n",
      "<__main__.User object at 0x0000027544D3FA90>\n",
      "Arjun\n",
      "5\n"
     ]
    }
   ],
   "source": [
    "class User():\n",
    "    def __init__(self,name,age):\n",
    "        self.name=name\n",
    "        self.age=age\n",
    "    def printName(self):\n",
    "        print(self.name)\n",
    "    def printAge(self):\n",
    "        print(self.age)\n",
    "\n",
    "  # Magic Methods or Dunder Method\n",
    "    def __str__(self):\n",
    "        return f'{self.name}'  \n",
    "\n",
    "    def __len__(self):\n",
    "         return 5            \n",
    "\n",
    "user1=User('Arjun',20)\n",
    "\n",
    "# Object Introspection\n",
    "print(dir(user1))  \n",
    "print(type(user1)) \n",
    "#print(help(user1))\n",
    "print(repr(user1))\n",
    "\n",
    "#Magic of Dunder methods we have modified the working of inbuilt functions using dunder methods intialization\n",
    "print(str(user1))\n",
    "print(len(user1))   \n"
   ]
  },
  {
   "attachments": {},
   "cell_type": "markdown",
   "metadata": {},
   "source": [
    "## Python Pickling:\n",
    "\n",
    "  Python pickle module is used for serializing and de-serializing python object structures. \n",
    "  \n",
    "       The process to converts any kind of python objects (list, dict, etc.) into byte streams (0s and 1s) is called pickling or serialization or flattening or marshalling. \n",
    "\n",
    "        We can converts the byte stream (generated through pickling) back into python objects by a process called as unpickling.\n",
    "\n",
    "\n",
    "      Prons:\n",
    "         Comes handy to save complicated data,easy to use, lighter and doesn’t require \n",
    "         several lines of code.\n",
    "\n",
    "         The pickled file generated is not easily readable and thus provide some  \n",
    "         security.\n",
    "\n",
    "      Cons:\n",
    "        Languages other than python may not able to reconstruct pickled python \n",
    "        objects.\n",
    "\n",
    "        Risk of unpickling data from malicious sources."
   ]
  },
  {
   "cell_type": "code",
   "execution_count": 4,
   "metadata": {},
   "outputs": [],
   "source": [
    "import pickle\n",
    "EmpID = {1:\"Zack\",2:\"53050\",3:\"IT\",4:\"38\",5:\"Flipkart\"}\n",
    "pickling_on = open(\"EmpID.pickle\",\"wb\")\n",
    "pickle.dump(EmpID, pickling_on)\n",
    "pickling_on.close()\n",
    "\n",
    "#unpickle\n",
    "pickling_on = open(\"EmpID.pickle\",\"wb\")\n",
    "pickle.dump(EmpID, pickling_on)\n",
    "pickling_on.close()\n"
   ]
  },
  {
   "attachments": {},
   "cell_type": "markdown",
   "metadata": {},
   "source": [
    "## eval() : \n",
    "        Python eval() method is used to parse an expression string as python expression and then runs python expression within the program."
   ]
  },
  {
   "cell_type": "code",
   "execution_count": 5,
   "metadata": {},
   "outputs": [
    {
     "name": "stdout",
     "output_type": "stream",
     "text": [
      "True\n",
      "2\n"
     ]
    }
   ],
   "source": [
    "str1 = 'Hello'\n",
    "print(eval('str1 ==\"Hello\"'))\n",
    "\n",
    "x = 1\n",
    "print(eval('x + 1'))"
   ]
  },
  {
   "attachments": {},
   "cell_type": "markdown",
   "metadata": {},
   "source": [
    "## Zip\n",
    "\n",
    "        Zip is a useful function that allows you to combine two lists easily.\n",
    "        \n",
    "     After calling zip, an iterator is returned to see the content wrapped inside,we need to first convert it to a list.\n",
    "\n",
    "## Unzip\n",
    "\n",
    "        We can use the zip function to unzip a list as well. This time, we need an input of a list with an asterisk before it.\n",
    "        The outputs are the separated lists.     "
   ]
  },
  {
   "cell_type": "code",
   "execution_count": 8,
   "metadata": {},
   "outputs": [
    {
     "name": "stdout",
     "output_type": "stream",
     "text": [
      "[('Joe', 'Schmoe', 23), ('Earnst', 'Ehlmann', 65), ('Thomas', 'Fischer', 11), ('Martin', 'Walter', 36), ('Charles', 'Rogan', 83)]\n",
      "first name: ('Joe', 'Earnst', 'Thomas', 'Martin', 'Charles')\n",
      "last name: ('Schmoe', 'Ehlmann', 'Fischer', 'Walter', 'Rogan') \n",
      "age: (23, 65, 11, 36, 83)\n"
     ]
    }
   ],
   "source": [
    "# ZIPPING \n",
    "\n",
    "first_name = ['Joe','Earnst','Thomas','Martin','Charles']\n",
    "\n",
    "last_name = ['Schmoe','Ehlmann','Fischer','Walter','Rogan','Green']\n",
    "\n",
    "age = [23, 65, 11, 36, 83]\n",
    "\n",
    "print(list(zip(first_name,last_name, age)))\n",
    "\n",
    "\n",
    "# UNZIPPING\n",
    "full_name_list = [('Joe', 'Schmoe', 23),\n",
    "                  ('Earnst', 'Ehlmann', 65),\n",
    "                  ('Thomas', 'Fischer', 11),\n",
    "                  ('Martin', 'Walter', 36),\n",
    "                  ('Charles', 'Rogan', 83)]\n",
    "\n",
    "first_name, last_name, age = list(zip(*full_name_list))\n",
    "print(f\"first name: {first_name}\\nlast name: {last_name} \\nage: {age}\")\n",
    "\n"
   ]
  },
  {
   "attachments": {},
   "cell_type": "markdown",
   "metadata": {},
   "source": [
    "## map() \n",
    "        This function returns a map object(which is an iterator) of the results after applying the given function to each item of a given iterable (list, tuple etc.)\n",
    "\n",
    "        Syntax : map(fun, iter)\n",
    "\n"
   ]
  },
  {
   "cell_type": "code",
   "execution_count": 13,
   "metadata": {},
   "outputs": [
    {
     "name": "stdout",
     "output_type": "stream",
     "text": [
      "<map object at 0x0000027544D3EF20>\n",
      "[10, 16, 18]\n",
      "[5, 8, 9]\n"
     ]
    },
    {
     "data": {
      "text/plain": [
       "\"\\nnotice that map is not modifying anything, and creating a new list. \\nit is also using separate data and function to work upon them.\\nit's a nice concept of Functional programming and pure function.\\n\""
      ]
     },
     "execution_count": 13,
     "metadata": {},
     "output_type": "execute_result"
    }
   ],
   "source": [
    "#MAP Function\n",
    "def multiply_by2(item):\n",
    "    return item*2\n",
    "\n",
    "my_list = [5,8,9]\n",
    "\n",
    "print(map(multiply_by2, my_list))   # it returns a map object, which then we can convert to a list/tuple/set\n",
    "print(list(map(multiply_by2, my_list))) # notice that we just write the function name without the curly braces\n",
    "print(my_list)\n",
    "\n",
    "'''\n",
    "notice that map is not modifying anything, and creating a new list. \n",
    "it is also using separate data and function to work upon them.\n",
    "it's a nice concept of Functional programming and pure function.\n",
    "'''"
   ]
  },
  {
   "attachments": {},
   "cell_type": "markdown",
   "metadata": {},
   "source": [
    "## Reduce()\n",
    "\n",
    "    reduce() function accepts function and sequence and returns single value calculated.\n",
    "\n",
    "    i> Initially,function is called with first two items from sequence and result is    \n",
    "     returned.\n",
    "    \n",
    "    ii> The function is then called again with result obtained in step 1 and next \n",
    "    value in sequence. \n",
    "    This process keeps repeating until there are items in sequence.\n",
    "\n",
    "    Syntax: reduce(function, sequence[, initial]) -> value"
   ]
  },
  {
   "cell_type": "code",
   "execution_count": 14,
   "metadata": {},
   "outputs": [
    {
     "name": "stdout",
     "output_type": "stream",
     "text": [
      "acc: 1, item: 2\n",
      "acc: 3, item: 3\n",
      "acc: 6, item: 4\n",
      "acc: 10, item: 5\n",
      "15\n",
      "acc: 10, item: 1\n",
      "acc: 11, item: 2\n",
      "acc: 13, item: 3\n",
      "acc: 16, item: 4\n",
      "acc: 20, item: 5\n",
      "25\n",
      "[1, 2, 3, 4, 5]\n"
     ]
    }
   ],
   "source": [
    "from functools import reduce\n",
    "\n",
    "def accumulator(acc, item):\n",
    "    print(f'acc: {acc}, item: {item}')\n",
    "    return acc+item\n",
    "\n",
    "my_list = [1,2,3,4,5]\n",
    "print(reduce(accumulator, my_list))     # by default takes '0' as the 3rd argument\n",
    "print(reduce(accumulator, my_list, 10)) \n",
    "print(my_list)\n",
    "\n",
    "# acc is nothing but the return of the last iteration."
   ]
  },
  {
   "attachments": {},
   "cell_type": "markdown",
   "metadata": {},
   "source": [
    "## Filter()\n",
    "\n",
    "    The filter() method filters the given sequence with the help of a function that tests each element in the sequence to be true or not.\n",
    "\n",
    "    syntax: filter(function, sequence)\n",
    "\n",
    "    "
   ]
  },
  {
   "cell_type": "code",
   "execution_count": 17,
   "metadata": {},
   "outputs": [
    {
     "name": "stdout",
     "output_type": "stream",
     "text": [
      "The filtered letters are:\n",
      "e\n",
      "e\n"
     ]
    }
   ],
   "source": [
    "# function that filters vowels\n",
    "def fun(variable):\n",
    "    letters = ['a', 'e', 'i', 'o', 'u']\n",
    "    if (variable in letters):\n",
    "        return True\n",
    "    else:\n",
    "        return False\n",
    "\n",
    "# sequence\n",
    "sequence = ['g', 'e', 'e', 'j', 'k', 's', 'p', 'r']\n",
    "\n",
    "# using filter function\n",
    "filtered = filter(fun, sequence)\n",
    "\n",
    "print('The filtered letters are:')\n",
    "for s in filtered:\n",
    "    print(s)"
   ]
  },
  {
   "attachments": {},
   "cell_type": "markdown",
   "metadata": {},
   "source": [
    "\n",
    "## Functional Programming in python\n",
    "\n",
    "## Recursion:\n",
    "    Recursion is a technique in which functions call themselves, either directly or indirectly, in order to loop. It allows a program to loop over data structures that have unknown or unpredictable lengths.\n",
    "\n",
    "## Pure Functions: \n",
    "    Pure functions are functions that have no side effects at all. In other words, they’re functions that do not update or modify any global variable, object, or data structure in the program. These functions produce an output that depends only on the input, which is closer to the concept of a mathematical function.\n",
    "\n",
    "## High-Order Functions:\n",
    "    Higher-order functions are functions that operate on other functions by taking functions as arguments, returning functions, or both, as with Python decorators.\n"
   ]
  },
  {
   "cell_type": "code",
   "execution_count": 21,
   "metadata": {},
   "outputs": [
    {
     "name": "stdout",
     "output_type": "stream",
     "text": [
      "[5, 6, 8]\n"
     ]
    },
    {
     "data": {
      "text/plain": [
       "\" If we define 'new_li' outside the function, or print something inside the function, then it is no longer\\na pure function. \""
      ]
     },
     "execution_count": 21,
     "metadata": {},
     "output_type": "execute_result"
    }
   ],
   "source": [
    "#Pure Function\n",
    "def multiply_by2(li):\n",
    "    new_li = []\n",
    "    for item in li:\n",
    "        new_li.append(item)\n",
    "    return new_li\n",
    "\n",
    "print(multiply_by2([5,6,8]))\n",
    "\n",
    "''' If we define 'new_li[]' outside the function, or print something inside the function, then it is no longer\n",
    "a pure function. '''"
   ]
  },
  {
   "attachments": {},
   "cell_type": "markdown",
   "metadata": {},
   "source": [
    "## Comprehensions\n",
    "    Comprehensions are constructs that allow sequences to be built from other sequences. \n",
    "\n",
    "    list comprehensions\n",
    "    dictionary comprehensions\n",
    "    set comprehensions\n",
    "    generator comprehensions\n"
   ]
  },
  {
   "cell_type": "code",
   "execution_count": 22,
   "metadata": {},
   "outputs": [
    {
     "name": "stdout",
     "output_type": "stream",
     "text": [
      "[0, 3, 6, 9, 12, 15, 18, 21, 24, 27]\n"
     ]
    }
   ],
   "source": [
    "#List Comprehension: var = [out_exp for out_exp in input_list if out_exp == 2]\n",
    "multiples = [i for i in range(30) if i % 3 == 0]\n",
    "print(multiples)"
   ]
  },
  {
   "cell_type": "code",
   "execution_count": 24,
   "metadata": {},
   "outputs": [
    {
     "name": "stdout",
     "output_type": "stream",
     "text": [
      "{'a': 10, 'b': 34, 'A': 7, 'Z': 3}\n"
     ]
    }
   ],
   "source": [
    "#Dictionay comprehensions\n",
    "mcase = {'a': 10, 'b': 34, 'A': 7, 'Z': 3}\n",
    "\n",
    "mcase_frequency = {\n",
    "    k.lower(): mcase.get(k.lower(), 0) + mcase.get(k.upper(), 0)\n",
    "    for k in mcase.keys()\n",
    "}\n",
    "print(mcase)"
   ]
  },
  {
   "cell_type": "code",
   "execution_count": null,
   "metadata": {},
   "outputs": [],
   "source": [
    "#Set Comprehensions\n",
    "squared = {x**2 for x in [1, 1, 2]}\n",
    "print(squared)"
   ]
  }
 ],
 "metadata": {
  "kernelspec": {
   "display_name": "Python 3",
   "language": "python",
   "name": "python3"
  },
  "language_info": {
   "codemirror_mode": {
    "name": "ipython",
    "version": 3
   },
   "file_extension": ".py",
   "mimetype": "text/x-python",
   "name": "python",
   "nbconvert_exporter": "python",
   "pygments_lexer": "ipython3",
   "version": "3.10.2"
  },
  "vscode": {
   "interpreter": {
    "hash": "107d7b120a5b68773a87d4067e673630b35702e55ebab3138143d08b1c4d7cbc"
   }
  }
 },
 "nbformat": 4,
 "nbformat_minor": 2
}
