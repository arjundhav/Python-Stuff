{
 "cells": [
  {
   "cell_type": "markdown",
   "metadata": {},
   "source": [
    "# Introduction to user defined functions in python 3.x"
   ]
  },
  {
   "cell_type": "markdown",
   "metadata": {},
   "source": [
    "What is a function ?\n",
    "\n",
    "1. A function is a device that groups a set of logically related statement that perform a specific task\n",
    "2. Functions help break a program into modular chunks. \n",
    "3. Functions help optimize coding by allowing re-use through function call\n"
   ]
  },
  {
   "cell_type": "markdown",
   "metadata": {},
   "source": [
    "Defining a function - \n",
    "\n",
    "def function_name(parameters):\n",
    "\t\"\"\"docstring\"\"\"\n",
    "\tstatement(s)\n",
    "    return \n",
    "    \n",
    "1. def is an executable code. This executable creates the function object and assigns it a name\n",
    "2. The def statement ends with a colon (:) \n",
    "3. The statements in the body of the function are indented to show that they belong to the function\n",
    "4. All statements in the function should be indented using same characters i.e. tab or space. Do not mix them i.e use space in one line and tab in other\n",
    "5. Doc string is used for documenting about the function. It is not mandatory. However, if used, it can be accessed using _doc_.  For e.g. print(greetings._doc_) for the function defined below.\n",
    "6. Return statement is used to exit from the function. The return statement may return an object or simply return. It is not mandatory to have a return statement\n",
    "\n",
    "\n",
    "For e.g. "
   ]
  },
  {
   "cell_type": "code",
   "execution_count": 11,
   "metadata": {},
   "outputs": [
    {
     "name": "stdout",
     "output_type": "stream",
     "text": [
      "Hello, Savitha. How are you doing\n"
     ]
    },
    {
     "data": {
      "text/plain": [
       "' This function greets person\\n    whos name is passed as a paramter to the function call\\n    as a prameter'"
      ]
     },
     "execution_count": 11,
     "metadata": {},
     "output_type": "execute_result"
    }
   ],
   "source": [
    "def greetings(name):\n",
    "    \"\"\" This function greets person\n",
    "    whos name is passed as a paramter to the function call\n",
    "    as a prameter\"\"\"\n",
    "    print(\"Hello, \" + name + \". How are you doing\")\n",
    "    \n",
    "greetings(\"Savitha\")    # invoking the function here\n",
    "greetings.__doc__  # to print the function documentation"
   ]
  },
  {
   "cell_type": "code",
   "execution_count": 12,
   "metadata": {},
   "outputs": [
    {
     "data": {
      "text/plain": [
       "9"
      ]
     },
     "execution_count": 12,
     "metadata": {},
     "output_type": "execute_result"
    }
   ],
   "source": [
    "def absolute(num):\n",
    "    if num >= 0:\n",
    "        return(num)\n",
    "    if num < 0:\n",
    "        return(abs(num))\n",
    "\n",
    "absolute(-9)"
   ]
  },
  {
   "cell_type": "markdown",
   "metadata": {},
   "source": [
    "# Scope and liftime of variables \n",
    "\n"
   ]
  },
  {
   "cell_type": "code",
   "execution_count": 13,
   "metadata": {},
   "outputs": [
    {
     "name": "stdout",
     "output_type": "stream",
     "text": [
      "Value inside function: 10\n",
      "Value outside function: 20\n"
     ]
    }
   ],
   "source": [
    "# scope of a variable is the portion of the program within which the variable is recognized\n",
    "\n",
    "def my_func():\n",
    "\tx = 10\n",
    "\tprint(\"Value inside function:\",x)   # this x is the one defined in line 4\n",
    "\n",
    "x = 20\n",
    "my_func()\n",
    "print(\"Value outside function:\",x)     # This x is the one defined in line 7"
   ]
  },
  {
   "cell_type": "code",
   "execution_count": 19,
   "metadata": {},
   "outputs": [
    {
     "name": "stdout",
     "output_type": "stream",
     "text": [
      "Value inside function: 10\n",
      "Value outside function: 10\n"
     ]
    }
   ],
   "source": [
    "# The scope of variables defined inside a function is the function boundary\n",
    "# The moment a function is exited, the variable is removed from memory. The lifetime of the \n",
    "# variable in the function is only as long as the function is being executed\n",
    "\n",
    "# To access variables defined outside the function within a function, we use global declaration\n",
    "x = 20\n",
    "\n",
    "def my_func():\n",
    "    global x    # accessing the global variable i.e. the one outside the function\n",
    "    x = 10\n",
    "    print(\"Value inside function:\",x)   # this x is the one defined in line 4\n",
    "\n",
    "\n",
    "my_func()\n",
    "print(\"Value outside function:\",x)     # This x is the one defined in line 7"
   ]
  },
  {
   "cell_type": "code",
   "execution_count": 20,
   "metadata": {},
   "outputs": [
    {
     "name": "stdout",
     "output_type": "stream",
     "text": [
      "The sum is 11\n"
     ]
    }
   ],
   "source": [
    "# Another example of user defined function \n",
    "\n",
    "# Program to illustrate\n",
    "# the use of user-defined functions\n",
    "\n",
    "def add_numbers(x,y):\n",
    "   sum = x + y\n",
    "   return sum\n",
    "\n",
    "num1 = 5\n",
    "num2 = 6\n",
    "\n",
    "print(\"The sum is\", add_numbers(num1, num2))"
   ]
  },
  {
   "cell_type": "markdown",
   "metadata": {},
   "source": [
    "# Lambda functions "
   ]
  },
  {
   "cell_type": "markdown",
   "metadata": {},
   "source": [
    "1. In Python, we sometimes create a function without a name. The function is defined using a keyword \"lambda\" instead of the regular  \"def\". \n",
    "\n",
    "2. Hence it is called lambda or anonymous function\n",
    "\n",
    "3. We use lambda functions when we require a function for one time use \n",
    "\n",
    "4. Genrally used to get the input for higher-order functions. Often used with built in fucntions such as map and filter\n"
   ]
  },
  {
   "cell_type": "code",
   "execution_count": 21,
   "metadata": {},
   "outputs": [
    {
     "name": "stdout",
     "output_type": "stream",
     "text": [
      "10\n"
     ]
    }
   ],
   "source": [
    "# Syntax for declaring lambda functions \n",
    "\n",
    "# lambda arguments: expression\n",
    "\n",
    "double = lambda x: x * 2   # The function has no name. Lambda returns a function object referenced\n",
    "                           # as double in this example\n",
    "\n",
    "# Output: 10\n",
    "print(double(5))"
   ]
  },
  {
   "cell_type": "code",
   "execution_count": 22,
   "metadata": {},
   "outputs": [
    {
     "name": "stdout",
     "output_type": "stream",
     "text": [
      "[4, 6, 8, 12]\n"
     ]
    }
   ],
   "source": [
    "# Program to filter out only the even items from a list\n",
    "\n",
    "my_list = [1, 5, 4, 6, 8, 11, 3, 12]\n",
    "\n",
    "new_list = list(filter(lambda x: (x%2 == 0) , my_list))\n",
    "\n",
    "# Output: [4, 6, 8, 12]\n",
    "print(new_list)"
   ]
  },
  {
   "cell_type": "markdown",
   "metadata": {},
   "source": [
    "# Use of user defined functions in machine learning\n",
    "\n"
   ]
  },
  {
   "cell_type": "code",
   "execution_count": 34,
   "metadata": {},
   "outputs": [
    {
     "name": "stdout",
     "output_type": "stream",
     "text": [
      "     mpg  cyl   disp     hp    wt   acc  yr  origin  car_type\n",
      "0   18.0    8  307.0  130.0  3504  12.0  70       1         0\n",
      "1   15.0    8  350.0  165.0  3693  11.5  70       1         0\n",
      "2   18.0    8  318.0  150.0  3436  11.0  70       1         0\n",
      "3   16.0    8  304.0  150.0  3433  12.0  70       1         0\n",
      "4   17.0    8  302.0  140.0  3449  10.5  70       1         0\n",
      "5   15.0    8  429.0  198.0  4341  10.0  70       1         0\n",
      "6   14.0    8  454.0  220.0  4354   9.0  70       1         0\n",
      "7   14.0    8  440.0  215.0  4312   8.5  70       1         0\n",
      "8   14.0    8  455.0  225.0  4425  10.0  70       1         0\n",
      "9   15.0    8  390.0  190.0  3850   8.5  70       1         0\n",
      "10  15.0    8  383.0  170.0  3563  10.0  70       1         0\n",
      "11  14.0    8  340.0  160.0  3609   8.0  70       1         0\n",
      "12  15.0    8  400.0  150.0  3761   9.5  70       1         0\n",
      "13  14.0    8  455.0  225.0  3086  10.0  70       1         0\n",
      "14  24.0    4  113.0   95.0  2372  15.0  70       3         1\n",
      "15  22.0    6  198.0   95.0  2833  15.5  70       1         0\n",
      "16  18.0    6  199.0   97.0  2774  15.5  70       1         0\n",
      "17  21.0    6  200.0   85.0  2587  16.0  70       1         0\n",
      "18  27.0    4   97.0   88.0  2130  14.5  70       3         1\n",
      "19  26.0    4   97.0   46.0  1835  20.5  70       2         1\n",
      "20  25.0    4  110.0   87.0  2672  17.5  70       2         1\n",
      "21  24.0    4  107.0   90.0  2430  14.5  70       2         1\n",
      "22  25.0    4  104.0   95.0  2375  17.5  70       2         1\n",
      "23  26.0    4  121.0  113.0  2234  12.5  70       2         1\n",
      "24  21.0    6  199.0   90.0  2648  15.0  70       1         0\n",
      "25  10.0    8  360.0  215.0  4615  14.0  70       1         0\n",
      "26  10.0    8  307.0  200.0  4376  15.0  70       1         0\n",
      "27  11.0    8  318.0  210.0  4382  13.5  70       1         0\n",
      "28   9.0    8  304.0  193.0  4732  18.5  70       1         0\n",
      "29  27.0    4   97.0   88.0  2130  14.5  71       3         1\n",
      "30  28.0    4  140.0   90.0  2264  15.5  71       1         1\n",
      "31  25.0    4  113.0   95.0  2228  14.0  71       3         1\n",
      "32  25.0    4   98.0    NaN  2046  19.0  71       1         1\n",
      "33  19.0    6  232.0  100.0  2634  13.0  71       1         0\n",
      "34  16.0    6  225.0  105.0  3439  15.5  71       1         0\n",
      "35  17.0    6  250.0  100.0  3329  15.5  71       1         0\n",
      "36  19.0    6  250.0   88.0  3302  15.5  71       1         0\n",
      "37  18.0    6  232.0  100.0  3288  15.5  71       1         0\n",
      "38  14.0    8  350.0  165.0  4209  12.0  71       1         0\n",
      "39  14.0    8  400.0  175.0  4464  11.5  71       1         0\n",
      "40  14.0    8  351.0  153.0  4154  13.5  71       1         0\n",
      "41  14.0    8  318.0  150.0  4096  13.0  71       1         0\n",
      "42  12.0    8  383.0  180.0  4955  11.5  71       1         0\n",
      "43  13.0    8  400.0  170.0  4746  12.0  71       1         0\n",
      "44  13.0    8  400.0  175.0  5140  12.0  71       1         0\n",
      "45  18.0    6  258.0  110.0  2962  13.5  71       1         0\n",
      "46  22.0    4  140.0   72.0  2408  19.0  71       1         1\n",
      "47  19.0    6  250.0  100.0  3282  15.0  71       1         0\n",
      "48  18.0    6  250.0   88.0  3139  14.5  71       1         0\n",
      "49  23.0    4  122.0   86.0  2220  14.0  71       1         1\n",
      "     mpg  cyl   disp     hp    wt   acc  yr  origin  car_type\n",
      "0   18.0    8  307.0  130.0  3504  12.0  70       1         0\n",
      "1   15.0    8  350.0  165.0  3693  11.5  70       1         0\n",
      "2   18.0    8  318.0  150.0  3436  11.0  70       1         0\n",
      "3   16.0    8  304.0  150.0  3433  12.0  70       1         0\n",
      "4   17.0    8  302.0  140.0  3449  10.5  70       1         0\n",
      "5   15.0    8  429.0  198.0  4341  10.0  70       1         0\n",
      "6   14.0    8  454.0  220.0  4354   9.0  70       1         0\n",
      "7   14.0    8  440.0  215.0  4312   8.5  70       1         0\n",
      "8   14.0    8  455.0  225.0  4425  10.0  70       1         0\n",
      "9   15.0    8  390.0  190.0  3850   8.5  70       1         0\n",
      "10  15.0    8  383.0  170.0  3563  10.0  70       1         0\n",
      "11  14.0    8  340.0  160.0  3609   8.0  70       1         0\n",
      "12  15.0    8  400.0  150.0  3761   9.5  70       1         0\n",
      "13  14.0    8  455.0  225.0  3086  10.0  70       1         0\n",
      "14  24.0    4  113.0   95.0  2372  15.0  70       3         1\n",
      "15  22.0    6  198.0   95.0  2833  15.5  70       1         0\n",
      "16  18.0    6  199.0   97.0  2774  15.5  70       1         0\n",
      "17  21.0    6  200.0   85.0  2587  16.0  70       1         0\n",
      "18  27.0    4   97.0   88.0  2130  14.5  70       3         1\n",
      "19  26.0    4   97.0   46.0  1835  20.5  70       2         1\n",
      "20  25.0    4  110.0   87.0  2672  17.5  70       2         1\n",
      "21  24.0    4  107.0   90.0  2430  14.5  70       2         1\n",
      "22  25.0    4  104.0   95.0  2375  17.5  70       2         1\n",
      "23  26.0    4  121.0  113.0  2234  12.5  70       2         1\n",
      "24  21.0    6  199.0   90.0  2648  15.0  70       1         0\n",
      "25  10.0    8  360.0  215.0  4615  14.0  70       1         0\n",
      "26  10.0    8  307.0  200.0  4376  15.0  70       1         0\n",
      "27  11.0    8  318.0  210.0  4382  13.5  70       1         0\n",
      "28   9.0    8  304.0  193.0  4732  18.5  70       1         0\n",
      "29  27.0    4   97.0   88.0  2130  14.5  71       3         1\n",
      "30  28.0    4  140.0   90.0  2264  15.5  71       1         1\n",
      "31  25.0    4  113.0   95.0  2228  14.0  71       3         1\n",
      "32  25.0    4   98.0   93.5  2046  19.0  71       1         1\n",
      "33  19.0    6  232.0  100.0  2634  13.0  71       1         0\n",
      "34  16.0    6  225.0  105.0  3439  15.5  71       1         0\n",
      "35  17.0    6  250.0  100.0  3329  15.5  71       1         0\n",
      "36  19.0    6  250.0   88.0  3302  15.5  71       1         0\n",
      "37  18.0    6  232.0  100.0  3288  15.5  71       1         0\n",
      "38  14.0    8  350.0  165.0  4209  12.0  71       1         0\n",
      "39  14.0    8  400.0  175.0  4464  11.5  71       1         0\n",
      "40  14.0    8  351.0  153.0  4154  13.5  71       1         0\n",
      "41  14.0    8  318.0  150.0  4096  13.0  71       1         0\n",
      "42  12.0    8  383.0  180.0  4955  11.5  71       1         0\n",
      "43  13.0    8  400.0  170.0  4746  12.0  71       1         0\n",
      "44  13.0    8  400.0  175.0  5140  12.0  71       1         0\n",
      "45  18.0    6  258.0  110.0  2962  13.5  71       1         0\n",
      "46  22.0    4  140.0   72.0  2408  19.0  71       1         1\n",
      "47  19.0    6  250.0  100.0  3282  15.0  71       1         0\n",
      "48  18.0    6  250.0   88.0  3139  14.5  71       1         0\n",
      "49  23.0    4  122.0   86.0  2220  14.0  71       1         1\n"
     ]
    },
    {
     "data": {
      "text/plain": [
       "93.5"
      ]
     },
     "execution_count": 34,
     "metadata": {},
     "output_type": "execute_result"
    }
   ],
   "source": [
    "# use to identify null values \n",
    "import pandas as pd  \n",
    "import numpy as np\n",
    "\n",
    "mpg_df = pd.read_csv(\"car-mpg.csv\")  \n",
    "mpg_df = mpg_df.replace('?', np.nan)   # pre-defined function replace\n",
    "mpg_df['hp'] = mpg_df['hp'].astype('float64')\n",
    "numeric_cols = mpg_df.drop('car_name', axis=1)\n",
    "print(numeric_cols.head(50))\n",
    "numeric_cols = numeric_cols.apply(lambda x: x.fillna(x.median()),axis=0)  #lambda function\n",
    "print(numeric_cols.head(50))\n",
    "mpg_df.hp.median()"
   ]
  },
  {
   "cell_type": "markdown",
   "metadata": {},
   "source": [
    "# Class and objects"
   ]
  },
  {
   "cell_type": "markdown",
   "metadata": {},
   "source": [
    "1. Class is a definition , a blue print to create an object \n",
    "2. Object is a encapsulated code consisting of functions, variables and data\n",
    "3. Objects are created from the blue print and assigned a name\n",
    "4. Object oriented programming is a style where self contained logical units of work are \n",
    "5. represented as objects. This makes programming more modular and easy to maintain"
   ]
  },
  {
   "cell_type": "code",
   "execution_count": 108,
   "metadata": {},
   "outputs": [],
   "source": [
    "class Class1:             # Creating the class definition, definition has a name ending with \":\"\n",
    "    name = \"tanmay\"       # Code is indented to show it belongs to class. Defining a variable\n",
    "    def function(self):   # The class consists of a function which is defined here\n",
    "        print(\"The name \" + self.name + \" is inside the class.\")  # function code, indented\n",
    "        \n",
    "        \n",
    "        "
   ]
  },
  {
   "cell_type": "code",
   "execution_count": 109,
   "metadata": {},
   "outputs": [],
   "source": [
    "# Note: The indentation should be done uniformly using tab or character. Do not mix up\n",
    "# If you mix up, it becomes difficult to locate when you get run time errors\n",
    "\n",
    "# The above code, does not create anything in memory. It is all only a definition. "
   ]
  },
  {
   "cell_type": "code",
   "execution_count": 110,
   "metadata": {},
   "outputs": [],
   "source": [
    "c1 = Class1()  # This is where an object is created from the class and labeled as c1"
   ]
  },
  {
   "cell_type": "code",
   "execution_count": 111,
   "metadata": {},
   "outputs": [
    {
     "name": "stdout",
     "output_type": "stream",
     "text": [
      "The name Satish is inside the class.\n"
     ]
    }
   ],
   "source": [
    "# To make use of the functionality in the object c1 \n",
    "\n",
    "c1.function()"
   ]
  },
  {
   "cell_type": "code",
   "execution_count": 115,
   "metadata": {},
   "outputs": [],
   "source": [
    "# Why do we need \"self\" ? \n",
    "\n",
    "\n",
    "# Class1.function() and c1.function() are slightly different though related\n",
    "# first is a function\n",
    "# second, c1.function() is a method!\n",
    "# Python methods require the object itself to be passed on as the first argument\n",
    "# to the corresponding function. This is useful when you create multiple objects out of\n",
    "# a class and wish to call the object.method. When the method is called, the corresponding\n",
    "# class function is executed. Which will need to know which instance the data is coming from!\n",
    "\n",
    "# Self is not a keyword. You can use any word you like. It is a good practice\n",
    "\n",
    "# writing \"self\" can be avoided by using a \"@staticmethod\" which is not discussed here"
   ]
  },
  {
   "cell_type": "code",
   "execution_count": null,
   "metadata": {},
   "outputs": [],
   "source": []
  }
 ],
 "metadata": {
  "kernelspec": {
   "display_name": "Python 3",
   "language": "python",
   "name": "python3"
  },
  "language_info": {
   "codemirror_mode": {
    "name": "ipython",
    "version": 3
   },
   "file_extension": ".py",
   "mimetype": "text/x-python",
   "name": "python",
   "nbconvert_exporter": "python",
   "pygments_lexer": "ipython3",
   "version": "3.6.5"
  }
 },
 "nbformat": 4,
 "nbformat_minor": 2
}
