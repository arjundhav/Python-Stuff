{
 "cells": [
  {
   "attachments": {},
   "cell_type": "markdown",
   "metadata": {},
   "source": [
    "## PEP(Python Enhancement Proposal):\n",
    "    A PEP is a design document providing information to the Python community, or describing a new feature for Python or its processes or environment.\n",
    "    Also some Autoformatters are programs that refactor your code to conform with PEP 8 automatically."
   ]
  },
  {
   "cell_type": "code",
   "execution_count": 19,
   "metadata": {},
   "outputs": [
    {
     "name": "stdout",
     "output_type": "stream",
     "text": [
      "Smith, John\n"
     ]
    }
   ],
   "source": [
    "# Recommended\n",
    "name = 'John Smith'\n",
    "first_name, last_name = name.split()\n",
    "print(last_name, first_name, sep=', ')"
   ]
  },
  {
   "cell_type": "code",
   "execution_count": 1,
   "metadata": {},
   "outputs": [
    {
     "name": "stdout",
     "output_type": "stream",
     "text": [
      "-187\n",
      "x is smaller than 5 or not divisible by 2!\n"
     ]
    }
   ],
   "source": [
    "#Whitespace Around Binary Operators Recommended techniques of PEP\n",
    "x = 3\n",
    "y = x**2 + 5\n",
    "z = (x+y) * (x-y)\n",
    "print(z)\n",
    "\n",
    "# Not recommended\n",
    "if x > 5 and x % 2 == 0:\n",
    "    print('x is larger than 5 and divisible by 2!')\n",
    "\n",
    "# Recommended\n",
    "if x>5 and x%2==0:\n",
    "    print('x is larger than 5 and divisible by 2!')\n",
    "else:\n",
    "    print('x is smaller than 5 or not divisible by 2!')    "
   ]
  },
  {
   "cell_type": "code",
   "execution_count": 3,
   "metadata": {},
   "outputs": [
    {
     "name": "stdout",
     "output_type": "stream",
     "text": [
      "6 is bigger than 5\n",
      "6 is bigger than 5\n"
     ]
    }
   ],
   "source": [
    "# Programming recommendations\n",
    "\n",
    "# Not recommended\n",
    "my_bool = 6 > 5\n",
    "if my_bool == True:\n",
    "    print('6 is bigger than 5')\n",
    "\n",
    "# Recommended\n",
    "if my_bool:\n",
    "    print('6 is bigger than 5')\n"
   ]
  },
  {
   "cell_type": "code",
   "execution_count": null,
   "metadata": {},
   "outputs": [],
   "source": [
    "#When to Avoid Adding Whitespace\n",
    "# Recommended\n",
    "my_list = [1, 2, 3]\n",
    "\n",
    "# Not recommended\n",
    "my_list = [ 1, 2, 3, ]\n",
    "\n",
    "x = 5\n",
    "y = 6\n",
    "\n",
    "# Recommended\n",
    "print(x, y)\n",
    "\n",
    "# Not recommended\n",
    "print(x , y)\n",
    "\n",
    "\n"
   ]
  },
  {
   "attachments": {},
   "cell_type": "markdown",
   "metadata": {},
   "source": [
    "## Extended Iterable Unpacking:\n",
    "    This PEP proposes change to iterable unpacking syntax, allowing to specify “catch-all” \n",
    "    name which will be assigned a list of all items not assigned to a “regular” name."
   ]
  },
  {
   "cell_type": "code",
   "execution_count": 6,
   "metadata": {},
   "outputs": [
    {
     "name": "stdout",
     "output_type": "stream",
     "text": [
      "0\n",
      "[1, 2, 3]\n",
      "4\n",
      "No.of.Students: 2\n",
      "{'Harsh': [25.0, 26.5, 28.0]}\n",
      "{'Harsh': [25.0, 26.5, 28.0], 'Anurag': [26.0, 28.0, 30.0]}\n",
      "Average: 26.50\n"
     ]
    },
    {
     "data": {
      "text/plain": [
       "'\\nInput: \\nNo.of.Students: 2\\nHarsh 25 26.5 28\\nAnurag 26 28 30\\n\\nFind Avg of: Harsh\\n\\nOutput: Average: 26.50\\n'"
      ]
     },
     "execution_count": 6,
     "metadata": {},
     "output_type": "execute_result"
    }
   ],
   "source": [
    "a, *b, c = range(5)\n",
    "print(a)\n",
    "print(b)\n",
    "print(c)\n",
    "\n",
    "\n",
    "n = int(input()) #no.of Students records\n",
    "print(f\"No.of.Students: {n}\")            \n",
    "student_marks = {}\n",
    "for _ in range(n):\n",
    " #splits it into a list of whitespace separated tokens\n",
    "    name, *line = input().split()\n",
    "    scores = list(map(float, line)) #maps float function onto the list of strings\n",
    "    student_marks[name] = scores\n",
    "    print(student_marks)\n",
    "\n",
    "query_name = input()    #name of a student to query.\n",
    "query_scores = list(student_marks[query_name])\n",
    "avg = sum(query_scores)/len(query_scores)\n",
    "\n",
    "# print(\"%.2f\" % avg)\n",
    "print(f'Average: '+format(avg,'.2f'))\n",
    "\n",
    "'''\n",
    "Input: \n",
    "No.of.Students: 2\n",
    "Harsh 25 26.5 28\n",
    "Anurag 26 28 30\n",
    "\n",
    "Find Avg of: Harsh\n",
    "\n",
    "Output: Average: 26.50\n",
    "'''"
   ]
  }
 ],
 "metadata": {
  "kernelspec": {
   "display_name": "Python 3",
   "language": "python",
   "name": "python3"
  },
  "language_info": {
   "codemirror_mode": {
    "name": "ipython",
    "version": 3
   },
   "file_extension": ".py",
   "mimetype": "text/x-python",
   "name": "python",
   "nbconvert_exporter": "python",
   "pygments_lexer": "ipython3",
   "version": "3.10.2 (tags/v3.10.2:a58ebcc, Jan 17 2022, 14:12:15) [MSC v.1929 64 bit (AMD64)]"
  },
  "orig_nbformat": 4,
  "vscode": {
   "interpreter": {
    "hash": "107d7b120a5b68773a87d4067e673630b35702e55ebab3138143d08b1c4d7cbc"
   }
  }
 },
 "nbformat": 4,
 "nbformat_minor": 2
}
