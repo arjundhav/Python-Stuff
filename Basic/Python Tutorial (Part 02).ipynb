{
 "cells": [
  {
   "cell_type": "markdown",
   "metadata": {},
   "source": [
    "## 2 Arrays in Python\n",
    "\n",
    "In most of the other Programming Languages, an array defined as a data structure, which can store a fixed-size collection of elements of the same data type.\n",
    "\n",
    "<img src=\"files/3 arrays.png\">\n",
    "\n",
    "The most basic data structure in Python is the sequence. Each element of a sequence is assigned a number - its position or index. The first index is zero, the second index is one, and so forth.\n",
    "\n",
    "In Python there is no such a thing call arrays, instead there are 3 alternatives as Lists,Tuples and Dictionaries\n",
    "\n",
    "<img src=\"files/3.1 arrays.png\">"
   ]
  },
  {
   "cell_type": "markdown",
   "metadata": {},
   "source": [
    "### 2.1 Lists\n",
    "\n",
    "The list is the most versatile datatype available in Python, which can be written as a list of comma-separated values (items) between square brackets. Important thing about a list is that the items in a list need not be of the same type.\n",
    "\n",
    "Creating a list is as simple as putting different comma-separated values between square brackets."
   ]
  },
  {
   "cell_type": "code",
   "execution_count": null,
   "metadata": {},
   "outputs": [],
   "source": [
    "myList=[10,20.5,'X','Hello']\n",
    "print(myList)\n",
    "print(myList[0])\n",
    "print(myList[1])"
   ]
  },
  {
   "cell_type": "code",
   "execution_count": null,
   "metadata": {},
   "outputs": [],
   "source": [
    "myList=[10,20,40,23,21,24,12]\n",
    "\n",
    "print(myList[0:3])\n",
    "print(myList[:3])\n",
    "print(myList[3:])\n",
    "print(myList[2:5])"
   ]
  },
  {
   "cell_type": "markdown",
   "metadata": {},
   "source": [
    "<img src=\"files/3.2 arrays.png\">"
   ]
  },
  {
   "cell_type": "markdown",
   "metadata": {},
   "source": [
    "#### Update List Elements\n",
    "\n",
    "You can update single or multiple elements of lists by giving the slice on the left-hand side of the assignment operator,"
   ]
  },
  {
   "cell_type": "code",
   "execution_count": null,
   "metadata": {},
   "outputs": [],
   "source": [
    "myList = ['physics', 'chemistry', 1997, 2000]\n",
    "print (\"Value available at index 2 : \", myList[2])\n",
    "\n",
    "myList[2] = 2001\n",
    "print (\"New value available at index 2 : \", myList[2])"
   ]
  },
  {
   "cell_type": "markdown",
   "metadata": {},
   "source": [
    "#### Delete List Elements\n",
    "To remove a list element, you can use either the del statement if you know exactly which element(s) you are deleting. You can use the remove() method if you do not know exactly which items to delete. For example −"
   ]
  },
  {
   "cell_type": "code",
   "execution_count": null,
   "metadata": {},
   "outputs": [],
   "source": [
    "myList = ['physics', 'chemistry', 1997, 2000]\n",
    "print (myList)\n",
    "\n",
    "del myList[2]\n",
    "print (\"After deleting value at index 2 : \", myList)"
   ]
  },
  {
   "cell_type": "markdown",
   "metadata": {},
   "source": [
    "#### Built-in List Functions and Methods\n",
    "Python includes the following list functions −\n",
    "\n",
    "1. ```len(list)``` Gives the total length of the list.\n",
    "2. ```max(list)``` Returns item from the list with max value.\n",
    "3. ```min(list)``` Returns item from the list with min value.\n",
    "4. ```sum(list)``` Returns summation of the items from the list."
   ]
  },
  {
   "cell_type": "code",
   "execution_count": null,
   "metadata": {},
   "outputs": [],
   "source": [
    "list1 = ['physics', 'chemistry', 'maths']\n",
    "\n",
    "x=len(list1)\n",
    "print(x)"
   ]
  },
  {
   "cell_type": "code",
   "execution_count": null,
   "metadata": {},
   "outputs": [],
   "source": [
    "list1, list2 = ['C++','Java', 'Python'], [456, 700, 200]\n",
    "print (\"Max value element : \", max(list1))\n",
    "print (\"Max value element : \", max(list2))"
   ]
  },
  {
   "cell_type": "code",
   "execution_count": null,
   "metadata": {},
   "outputs": [],
   "source": [
    "list3=list(range(5))\n",
    "print(list3)\n",
    "x=sum(list3)\n",
    "\n",
    "print(x)"
   ]
  },
  {
   "cell_type": "markdown",
   "metadata": {},
   "source": [
    "Python includes the following list methods\n",
    "\n",
    "1. ```list.append(obj)``` Appends object obj to list\n",
    "2. ```list.count(obj)``` Returns count of how many times obj occurs in list\n",
    "3. ```list.extend(seq)``` Appends the contents of seq to list\n",
    "4. ```list.index(obj)``` Returns the lowest index in list that obj appears\n",
    "5. ```list.insert(index, obj)``` Inserts object obj into list at offset index\n",
    "6. ```list.sort([func])``` Sorts objects of list, use compare func if given\n",
    "7. ```list.remove(obj)``` Removes object obj from list\n",
    "\n",
    "read more at [tutorialspoint](https://www.tutorialspoint.com/python3/python_lists.htm)"
   ]
  },
  {
   "cell_type": "code",
   "execution_count": null,
   "metadata": {},
   "outputs": [],
   "source": [
    "list1 = ['C++', 'Java', 'Python']\n",
    "list1.append('C#')\n",
    "print (\"updated list : \", list1)"
   ]
  },
  {
   "cell_type": "code",
   "execution_count": null,
   "metadata": {},
   "outputs": [],
   "source": [
    "aList = [123, 'xyz', 'zara', 'abc', 123];\n",
    "\n",
    "print (\"Count for 123 : \", aList.count(123))\n",
    "print (\"Count for zara : \", aList.count('zara'))"
   ]
  },
  {
   "cell_type": "code",
   "execution_count": null,
   "metadata": {},
   "outputs": [],
   "source": [
    "list1 = ['physics', 'chemistry', 'maths']\n",
    "list2 = list(range(5))     #creates list of numbers between 0-4\n",
    "list1.extend(list2)\n",
    "print ('Extended List :', list1)"
   ]
  },
  {
   "cell_type": "code",
   "execution_count": null,
   "metadata": {},
   "outputs": [],
   "source": [
    "list1 = ['physics', 'chemistry', 'maths']\n",
    "print ('Index of chemistry:', list1.index('chemistry'))"
   ]
  },
  {
   "cell_type": "code",
   "execution_count": null,
   "metadata": {},
   "outputs": [],
   "source": [
    "list1 = ['physics', 'Biology', 'chemistry', 'maths']\n",
    "list1.pop()\n",
    "print (\"list now : \", list1)\n",
    "\n",
    "list1.pop(1)\n",
    "print (\"list now : \", list1)"
   ]
  },
  {
   "cell_type": "code",
   "execution_count": null,
   "metadata": {},
   "outputs": [],
   "source": [
    "list1 = ['physics', 'Biology', 'chemistry', 'maths']\n",
    "list1.remove('Biology')\n",
    "print (\"list now : \", list1)\n",
    "list1.remove('maths')\n",
    "print (\"list now : \", list1)"
   ]
  },
  {
   "cell_type": "code",
   "execution_count": null,
   "metadata": {},
   "outputs": [],
   "source": [
    "list1 = ['physics', 'Biology', 'chemistry', 'maths']\n",
    "list1.reverse()\n",
    "print (\"list now : \", list1)"
   ]
  },
  {
   "cell_type": "code",
   "execution_count": null,
   "metadata": {},
   "outputs": [],
   "source": [
    "list1 = ['physics', 'Biology', 'chemistry', 'maths']\n",
    "list1.sort()\n",
    "print (\"list now : \", list1)"
   ]
  },
  {
   "cell_type": "code",
   "execution_count": null,
   "metadata": {},
   "outputs": [],
   "source": [
    "list1 = ['physics', 'Biology', 'chemistry', 'maths']\n",
    "list1.sort(reverse = True)\n",
    "print (\"list now : \", list1)"
   ]
  },
  {
   "cell_type": "markdown",
   "metadata": {},
   "source": [
    "### 2.2 Tuples\n",
    "\n",
    "A tuple is a sequence of immutable Python objects. Tuples are sequences, just like lists. The main difference between the tuples and the lists is that the tuples cannot be changed unlike lists. Tuples use parentheses, whereas lists use square brackets.\n",
    "\n",
    "Creating a tuple is as simple as putting different comma-separated values. Optionally, you can put these comma-separated values between parentheses also"
   ]
  },
  {
   "cell_type": "code",
   "execution_count": null,
   "metadata": {},
   "outputs": [],
   "source": [
    "tup1 = ('physics', 'chemistry', 1997, 2000)\n",
    "tup2 = (1, 2, 3, 4, 5 )\n",
    "tup3 = \"a\", \"b\", \"c\", \"d\""
   ]
  },
  {
   "cell_type": "markdown",
   "metadata": {},
   "source": [
    "#### Accessing Values in Tuples\n",
    "To access values in tuple, use the square brackets for slicing along with the index or indices to obtain the value available at that index"
   ]
  },
  {
   "cell_type": "code",
   "execution_count": null,
   "metadata": {},
   "outputs": [],
   "source": [
    "tup1 = ('physics', 'chemistry', 1997, 2000)\n",
    "tup2 = (1, 2, 3, 4, 5, 6, 7 )\n",
    "\n",
    "print (\"tup1[0]: \", tup1[0])\n",
    "print (\"tup2[1:5]: \", tup2[1:5])"
   ]
  },
  {
   "cell_type": "markdown",
   "metadata": {},
   "source": [
    "#### Updating Tuples\n",
    "Tuples are immutable, which means you cannot update or change the values of tuple elements."
   ]
  },
  {
   "cell_type": "code",
   "execution_count": null,
   "metadata": {},
   "outputs": [],
   "source": [
    "tup1 = (12, 34.56)\n",
    "tup2 = ('abc', 'xyz')\n",
    "\n",
    "# Following action is not valid for tuples\n",
    "tup1[0] = 100"
   ]
  },
  {
   "cell_type": "code",
   "execution_count": null,
   "metadata": {},
   "outputs": [],
   "source": [
    "# Following action is not valid for tuples\n",
    "tup1.append(100)"
   ]
  },
  {
   "cell_type": "markdown",
   "metadata": {},
   "source": [
    "However, You are able to take portions of the existing tuples to create new tuples as the following example demonstrates"
   ]
  },
  {
   "cell_type": "code",
   "execution_count": null,
   "metadata": {},
   "outputs": [],
   "source": [
    "tup1 = (12, 34.56)\n",
    "tup2 = ('abc', 'xyz')\n",
    "\n",
    "tup3 = tup1 + tup2\n",
    "print (tup3)"
   ]
  },
  {
   "cell_type": "markdown",
   "metadata": {},
   "source": [
    "Or else you can convert a tuple into list and then modify."
   ]
  },
  {
   "cell_type": "code",
   "execution_count": null,
   "metadata": {},
   "outputs": [],
   "source": [
    "tup1 = (12, 34.56)\n",
    "\n",
    "list1=list(tup1)\n",
    "print(list1)\n",
    "list1.append(100)\n",
    "list1[0]=20\n",
    "print(list1)"
   ]
  },
  {
   "cell_type": "markdown",
   "metadata": {},
   "source": [
    "Almost all the inbuilt list functions and inbuilt list methods expect methods which tries to modify a tuple work similar for tuples as well."
   ]
  },
  {
   "cell_type": "code",
   "execution_count": null,
   "metadata": {},
   "outputs": [],
   "source": [
    "myTuple=(12,434,53,234,6246)\n",
    "print(max(myTuple))\n",
    "print(len(myTuple))"
   ]
  },
  {
   "cell_type": "markdown",
   "metadata": {},
   "source": [
    "### 2.3 Dictionary\n",
    "\n",
    "Each key is separated from its value by a colon (:), the items are separated by commas, and the whole thing is enclosed in curly braces. An empty dictionary without any items is written with just two curly braces, like this: {}.\n",
    "\n",
    "Keys are unique within a dictionary while values may not be. The values of a dictionary can be of any type, but the keys must be of an immutable data type such as strings, numbers, or tuples.\n",
    "\n",
    "#### Accessing Values in Dictionary\n",
    "To access dictionary elements, you can use the familiar square brackets along with the key to obtain its value. \n",
    "\n",
    "<img src=\"files/3.4 Dict.png\">"
   ]
  },
  {
   "cell_type": "code",
   "execution_count": null,
   "metadata": {},
   "outputs": [],
   "source": [
    "student=['John',80,85,90,85]\n",
    "\n",
    "print(student)\n",
    "print(student[0])\n",
    "print(student[1])"
   ]
  },
  {
   "cell_type": "markdown",
   "metadata": {},
   "source": [
    "<img src=\"files/3.3 List and Dict.png\">"
   ]
  },
  {
   "cell_type": "code",
   "execution_count": null,
   "metadata": {},
   "outputs": [],
   "source": [
    "student={'xx':'John','maths':80,'phy':85,'chem':90,'phy':85}\n",
    "\n",
    "print(student)\n",
    "print(student['xx'])\n",
    "print(student['maths'])"
   ]
  },
  {
   "cell_type": "markdown",
   "metadata": {},
   "source": [
    "#### Updating & Assignning new elements"
   ]
  },
  {
   "cell_type": "code",
   "execution_count": null,
   "metadata": {},
   "outputs": [],
   "source": [
    "student={'name':'John','maths':80,'phy':85,'chem':90,'phy':85}\n",
    "student['name']='William'\n",
    "\n",
    "print(student)"
   ]
  },
  {
   "cell_type": "code",
   "execution_count": null,
   "metadata": {},
   "outputs": [],
   "source": [
    "student['avg']=(student['maths']+student['phy']+student['chem'])/3\n",
    "print(student)"
   ]
  },
  {
   "cell_type": "markdown",
   "metadata": {},
   "source": [
    "#### Delete Dictionary Elements\n",
    "You can either remove individual dictionary elements or clear the entire contents of a dictionary. You can also delete entire dictionary in a single operation.\n",
    "\n",
    "To explicitly remove an entire dictionary, just use the del statement. Following is a simple example"
   ]
  },
  {
   "cell_type": "code",
   "execution_count": null,
   "metadata": {},
   "outputs": [],
   "source": [
    "myDict = {'Name': 'Zara', 'Age': 7, 'Class': 'First'}\n",
    "\n",
    "del myDict['Name'] # remove entry with key 'Name'\n",
    "print(myDict)\n",
    "myDict.clear()     # remove all entries in dict\n",
    "print(myDict)\n",
    "del myDict         # delete entire dictionary"
   ]
  },
  {
   "cell_type": "markdown",
   "metadata": {},
   "source": [
    "#### Properties of Dictionary Keys\n",
    "\n",
    "Dictionary values have no restrictions. They can be any arbitrary Python object, either standard objects or user-defined objects. However, same is not true for the keys.\n",
    "\n",
    "There are two important points to remember about dictionary keys −\n",
    "\n",
    "(a) More than one entry per key is not allowed. This means no duplicate key is allowed. When duplicate keys are encountered during assignment, the last assignment wins"
   ]
  },
  {
   "cell_type": "code",
   "execution_count": null,
   "metadata": {},
   "outputs": [],
   "source": [
    "myDict = {'Name': 'Zara', 'Age': 7, 'Name': 'Manni'}\n",
    "print (\"myDict['Name']: \", myDict['Name'])"
   ]
  },
  {
   "cell_type": "markdown",
   "metadata": {},
   "source": [
    "(b) Keys must be immutable. This means you can use strings, numbers or tuples as dictionary keys but something like ['key'] is not allowed"
   ]
  },
  {
   "cell_type": "code",
   "execution_count": null,
   "metadata": {},
   "outputs": [],
   "source": [
    "myDict = {['Name']: 'Zara', 'Age': 7}\n",
    "print (\"dict['Name']: \", myDict['Name'])"
   ]
  },
  {
   "cell_type": "code",
   "execution_count": null,
   "metadata": {},
   "outputs": [],
   "source": [
    "myDict = {'X': 'Zara', 'Age': 7}\n",
    "print (\"dict[88.7]: \", myDict['X'])"
   ]
  },
  {
   "cell_type": "markdown",
   "metadata": {},
   "source": [
    "#### Built-in Dictionary Functions and Methods\n",
    "\n",
    "1. ```len(dict)``` Gives the total length of the dictionary. This would be equal to the number of items in the dictionary.\n",
    "2. ```dict.clear()``` Removes all elements of dictionary dict\n",
    "3. ```dict.copy()``` Returns a shallow copy of dictionary dict\n",
    "4. ```dict.fromkeys()``` Create a new dictionary with keys from seq and values set to value.\n",
    "5. ```dict.get(key, default=None)``` Fo8use the in operation instead.\n",
    "7. ```dict.items()``` Returns a list of dict's (key, value) tuple pairs\n",
    "8. ```dict.keys()``` Returns list of dictionary dict's keys\n",
    "9. ```dict.setdefault(key, default = None)``` Similar to get(), but will set dict[key] = default if key is not already in dict\n",
    "10. ```dict.update(dict2)``` Adds dictionary dict2's key-values pairs to dict\n",
    "11. ```dict.values()``` Returns list of dictionary dict's values"
   ]
  },
  {
   "cell_type": "code",
   "execution_count": null,
   "metadata": {},
   "outputs": [],
   "source": [
    "myDict = {'Name': 'Manni', 'Age': 7, 'Class': 'First'}\n",
    "print (\"Length :\", len (myDict))"
   ]
  },
  {
   "cell_type": "code",
   "execution_count": null,
   "metadata": {},
   "outputs": [],
   "source": [
    "dict1 = {'Name': 'Manni', 'Age': 7, 'Class': 'First'}\n",
    "dict2 = dict1.copy()\n",
    "print (\"New Dictionary : \",dict2)"
   ]
  },
  {
   "cell_type": "code",
   "execution_count": null,
   "metadata": {},
   "outputs": [],
   "source": [
    "keys = ('name', 'age', 'sex')\n",
    "\n",
    "myDict = myDict.fromkeys(keys)\n",
    "print (\"New Dictionary : \",myDict)"
   ]
  },
  {
   "cell_type": "code",
   "execution_count": null,
   "metadata": {},
   "outputs": [],
   "source": [
    "keys = ('name', 'age', 'sex')\n",
    "vals= ['John',31,'Male']\n",
    "\n",
    "myDict=dict(zip(keys,vals))\n",
    "print(myDict)"
   ]
  },
  {
   "cell_type": "code",
   "execution_count": null,
   "metadata": {},
   "outputs": [],
   "source": [
    "myDict = {'Name': 'Zara', 'Age': 7}\n",
    "print (\"Value :\",myDict.items())"
   ]
  },
  {
   "cell_type": "code",
   "execution_count": null,
   "metadata": {},
   "outputs": [],
   "source": [
    "myDict = {'Name': 'Zara', 'Age': 7}\n",
    "x,y=myDict.items()\n",
    "print(x)\n",
    "print(y)"
   ]
  },
  {
   "cell_type": "code",
   "execution_count": null,
   "metadata": {},
   "outputs": [],
   "source": [
    "myDict = {'Name': 'Zara', 'Age': 7}\n",
    "keys=myDict.keys()\n",
    "print(keys)"
   ]
  },
  {
   "cell_type": "code",
   "execution_count": null,
   "metadata": {},
   "outputs": [],
   "source": [
    "myDict = {'Name': 'Zara', 'Age': 7}\n",
    "vals=myDict.values()\n",
    "print(vals)"
   ]
  },
  {
   "cell_type": "code",
   "execution_count": null,
   "metadata": {},
   "outputs": [],
   "source": [
    "dict1 = {'Name': 'Zara', 'Age': 7}\n",
    "dict2 = {'Sex': 'female' }\n",
    "\n",
    "dict1.update(dict2)\n",
    "print (\"updated dict : \", dict1)"
   ]
  },
  {
   "cell_type": "markdown",
   "metadata": {},
   "source": [
    "read more about Python Dictionaries @ [tutorialspoint](https://www.tutorialspoint.com/python3/python_dictionary.htm)"
   ]
  },
  {
   "cell_type": "markdown",
   "metadata": {},
   "source": [
    "## QUIZ 02 \n",
    "\n",
    "1. Implement 3 dictionaries for sine, cosine and tangent standard angles and values shown in the figure 1. For an example when user calls sine[30] the program should display 0.5. Convert this fraction values to decimal values manually using a calculator before insert them in dictionaries.\n",
    "\n",
    "<img src=\"files/trig.png\" width=\"400\">\n",
    "\n",
    "2. Using ```input``` function take names and maths marks of 10 students to two different lists(```names``` and ```marks```) \n",
    "Hint: use the ```append()``` function. Then using the ```zip``` function create a dictionary called ```student={}``` using ```names``` as keys and ```marks``` as values"
   ]
  },
  {
   "cell_type": "code",
   "execution_count": null,
   "metadata": {},
   "outputs": [],
   "source": [
    "sine={0:0, 30:0.5, 45:0.707, 60:0.866, 90:1}\n",
    "cosine={0:1, 30:0.866, 45:0.707, 60:0.5, 90:1}\n",
    "tangent={0:0, 30:0.577, 45:1, 60:1.732, 90:'Not defined'}\n",
    "\n",
    "print(sine[30])\n",
    "print(cosine[45])\n",
    "print(tangent[90])"
   ]
  },
  {
   "cell_type": "code",
   "execution_count": null,
   "metadata": {},
   "outputs": [],
   "source": [
    "names=[]\n",
    "marks=[]\n",
    "\n",
    "for i in range(0,10):\n",
    "    \n",
    "    x=input('Enter the Name:')\n",
    "    y=eval(input('Enter the Marks:'))\n",
    "    \n",
    "    names.append(x)\n",
    "    marks.append(y)\n",
    "    \n",
    "student=dict(zip(names,marks))\n",
    "print(student)"
   ]
  }
 ],
 "metadata": {
  "kernelspec": {
   "display_name": "Python 3",
   "language": "python",
   "name": "python3"
  },
  "language_info": {
   "codemirror_mode": {
    "name": "ipython",
    "version": 3
   },
   "file_extension": ".py",
   "mimetype": "text/x-python",
   "name": "python",
   "nbconvert_exporter": "python",
   "pygments_lexer": "ipython3",
   "version": "3.7.4"
  }
 },
 "nbformat": 4,
 "nbformat_minor": 2
}
